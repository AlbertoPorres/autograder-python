{
 "cells": [
  {
   "cell_type": "markdown",
   "metadata": {},
   "source": [
    "# Curso Básico de Python\n",
    "\n",
    "Este pequeño curso básico de Python esta básado en el curso de Raúl González Duque. https://duenaslerin.com/tico2/pdfs/python-para-todos.pdf.\n",
    "\n",
    "Este tiene el objetivo de impartir los conocimientos más básicos y esenciales del lenguaje de programación Python con una serie de ejercicios autocorregibles a contestar por el alumno."
   ]
  },
  {
   "cell_type": "markdown",
   "metadata": {},
   "source": [
    "## INTRODUCCIÓN A PYTHON\n",
    "En esta sección de introducción veremos la base de todo lenguaje de programación: tipos básicos, asignación de variables y operadores."
   ]
  },
  {
   "cell_type": "markdown",
   "metadata": {},
   "source": [
    "En Python los tipos básicos se dividen en:\n",
    "- Números, como pueden ser 3 (entero), 15.57 (de coma flotante) o 7 + 5j (complejos)\n",
    "- Cadenas de texto, como “Hola Mundo”\n",
    "- Valores booleanos: True (cierto) y False (falso).\n",
    "\n",
    "Vamos a crear algunas variables de ejemplo. Como vereis a continuación la asignación de valores en Python se hace mediante el simbolo \" = \" sin necesitar de declarar previamente el tipo de la varibale.\n",
    "Los comentarios en línea se crean mediante el simbolo \" # \"."
   ]
  },
  {
   "cell_type": "code",
   "execution_count": 3,
   "metadata": {},
   "outputs": [],
   "source": [
    "# esto es una cadena\n",
    "c = \"Hola Mundo\"\n",
    "# y esto es una varible numérica entera\n",
    "e = 23"
   ]
  },
  {
   "cell_type": "markdown",
   "metadata": {},
   "source": [
    "### 1.1 Números\n",
    "**Enteros**\n",
    "Los números enteros son aquellos números positivos o negativos que no tienen decimales.\n",
    "En Python se pueden representar mediante el tipo int (entero).\n",
    "Al asignar un número a una variable esta pasará a tener tipo int de forma automática.\n",
    "También es posible asignar valores en binario, hexadecimal y octal. El prefijo 0b indica que lo que viene a continuación será interpretado como un número binario. Para el caso hexadecimal es con 0x y octal con 0o.\n",
    "\n",
    "**Reales**\n",
    "Los números reales son los que tienen decimales. En Python se expresan mediante el tipo float.\n",
    "Para representar un número real en Python se escribe primero la parte\n",
    "entera, seguido de un punto y por último la parte decimal.\n",
    "También se puede utilizar notación científica, y añadir una e (de exponente) para indicar un exponente en base 10\n",
    "\n",
    "**Complejos**\n",
    "Los números complejos son aquellos que tienen parte imaginaria.\n",
    "Se representan primero escribiendo la parte real y posteriormente la imaginaria."
   ]
  },
  {
   "cell_type": "code",
   "execution_count": 30,
   "metadata": {},
   "outputs": [],
   "source": [
    "# entero\n",
    "a = 23\n",
    "\n",
    "# hexadecimal\n",
    "b = 0x23\n",
    "\n",
    "# octal\n",
    "c = 0o23\n",
    "\n",
    "# binario\n",
    "d = 0b101"
   ]
  },
  {
   "cell_type": "markdown",
   "metadata": {},
   "source": [
    "### 1.2 Operadores\n",
    "**Operadores aritméticos**\n",
    "\n",
    "| OPERADOR | DESCRIPCION | EJEMPLO |\n",
    "| :------- | :---------: |-------: |\n",
    "| +        | Suma        | r = 3 + 2     # r es 5   |\n",
    "| -        | Resta       | r = 4 - 7     # r es -3  |\n",
    "| -        | Negación    | r = -7        # r es -7  |\n",
    "| *        | Multiplicación  |r = 2 * 6   # r es 12 |\n",
    "| **       | Exponente       | r = 2 ** 6   # r es 64   |\n",
    "| /        | División        | r = 3.5 / 2   # r es 1.75  |\n",
    "| //       | División entera | r = 3.5 // 2   # r es 1.0   |\n",
    "| %       | Módulo | r = 7 % 2 # r es 1  |\n",
    "\n",
    "\n",
    "**Operadores a nivel de bit**\n",
    "\n",
    "| OPERADOR | DESCRIPCION | EJEMPLO |\n",
    "| :------- | :---------: |-------: |\n",
    "| &       | and        | r = 3 & 2 # r es 2  |\n",
    "| \\|      | or       | r = 3 \\| 2 # r es 3 |\n",
    "| ^        | xor    | r = 3 ^ 2 # r es 1  |\n",
    "| ~         | not  |r = ~3 # r es -4 |\n",
    "| <<       | Desplazamiento izq.     |r = 3 << 1 # r es 6   |\n",
    "| >>        | Desplazamiento der.      | r = 3 >> 1 # r es 1 |\n",
    "|<=      | ¿es a menor o igual que b?     | r = 5 <= 5 # r es True|\n",
    "| >=      |¿es a mayor o igual que b?    | r = 5 >= 3 # r es True |\n"
   ]
  },
  {
   "cell_type": "markdown",
   "metadata": {},
   "source": [
    "### 1.3 Cadenas\n",
    "Las cadenas no son más que texto encerrado entre comillas simples o dobles\n",
    "(‘cadena’). Dentro de las comillas se pueden\n",
    "añadir caracteres especiales escapándolos con \\\\, como \\n, el carácter de\n",
    "nueva línea, o \\t, el de tabulación."
   ]
  },
  {
   "cell_type": "code",
   "execution_count": 16,
   "metadata": {},
   "outputs": [
    {
     "name": "stdout",
     "output_type": "stream",
     "text": [
      "unodos\n",
      "unounouno\n"
     ]
    }
   ],
   "source": [
    "a = 'uno'\n",
    "b = \"dos\"\n",
    "c = a + b # c es “unodos”\n",
    "print(c)\n",
    "c = a * 3 # c es “unounouno”\n",
    "print(c)"
   ]
  },
  {
   "cell_type": "markdown",
   "metadata": {},
   "source": [
    "### 1.4 Booleanos\n",
    "Una variable de tipo booleano sólo puede tener dos valores: True (cierto) y False (falso). Estos\n",
    "valores son especialmente importantes para las expresiones condicionales y los bucles, como veremos más adelante.\n",
    "Estos son los distintos tipos de operadores con los que podemos trabajar con valores booleanos, los llamados operadores lógicos o condicionales:\n",
    "\n",
    "| OPERADOR | DESCRIPCION | EJEMPLO |\n",
    "| :------- | :---------: |-------: |\n",
    "| and       | ¿se cumple a y b?        | r = True and False # r es False  |\n",
    "| or      | ¿se cumple a o b?       | r = True or False # r es True |\n",
    "| not        | No a     | r = not True # r es False  |\n",
    "\n",
    "Los valores booleanos son además el resultado de expresiones que\n",
    "utilizan operadores relacionales (comparaciones entre valores):\n",
    "\n",
    "| OPERADOR | DESCRIPCION | EJEMPLO |\n",
    "| :------- | :---------: |-------: |\n",
    "|   ==      |   ¿son iguales a y b?      | r = 5 == 3 # r es False  |\n",
    "|    !=    |    ¿son distintos a y b?    |  r = 5 != 3 # r es True|\n",
    "|    <     |   ¿es a menor que b?    | r = 5 < 3 # r es False |\n",
    "|    >     |   ¿es a mayor que b?    | r = 5 > 3 # r es True |\n",
    "|    <=      |   ¿es a menor o igual que b?   | r = 5 <= 5 # r es True |\n",
    "|    >=     |   ¿es a mayor o igual que b?   | r = 5 >= 3 # r es True |\n",
    " "
   ]
  },
  {
   "cell_type": "code",
   "execution_count": 31,
   "metadata": {},
   "outputs": [],
   "source": [
    "bool_1 = False \n",
    "bool_2 = True "
   ]
  },
  {
   "cell_type": "markdown",
   "metadata": {},
   "source": [
    "**COMPRUEBA LA APRENDIDO**"
   ]
  },
  {
   "cell_type": "code",
   "execution_count": null,
   "metadata": {},
   "outputs": [],
   "source": []
  },
  {
   "cell_type": "markdown",
   "metadata": {},
   "source": [
    "## FUNCIONES"
   ]
  },
  {
   "cell_type": "markdown",
   "metadata": {},
   "source": [
    "Una función es un fragmento de código con un nombre asociado que\n",
    "realiza una serie de tareas y devuelve un valor, para la devolución de este valor se utiliza la keyword *return*. A los fragmentos de\n",
    "código que tienen un nombre asociado y no devuelven valores se les\n",
    "suele llamar procedimientos. En Python no existen los procedimientos, ya que cuando el programador no especifica un valor de retorno la\n",
    "función devuelve el valor None (nada).\n",
    "\n",
    "Además de ayudarnos a programar y depurar dividiendo el programa\n",
    "en partes las funciones también permiten reutilizar código.\n",
    "\n",
    "En Python las funciones se declaran de la siguiente forma:"
   ]
  },
  {
   "cell_type": "code",
   "execution_count": 8,
   "metadata": {},
   "outputs": [],
   "source": [
    "# definición\n",
    "def mi_funcion(param1, param2):\n",
    "    # cuerpo\n",
    "    print(param1)\n",
    "    print(param2)\n",
    "    return None"
   ]
  },
  {
   "cell_type": "markdown",
   "metadata": {},
   "source": [
    "Es decir, la palabra clave def seguida del nombre de la función y entre\n",
    "paréntesis los argumentos separados por comas. A continuación, en\n",
    "otra línea, indentado y después de los dos puntos tendríamos las líneas\n",
    "de código que conforman el código a ejecutar por la función."
   ]
  },
  {
   "cell_type": "markdown",
   "metadata": {},
   "source": [
    "Es importante aclarar que\n",
    "al declarar la función lo único que hacemos es asociar un nombre al\n",
    "fragmento de código que conforma la función, de forma que podamos\n",
    "ejecutar dicho código más tarde referenciándolo por su nombre. Es\n",
    "decir, a la hora de escribir estas líneas no se ejecuta la función. Para\n",
    "llamar a la función (ejecutar su código) se escribiría:"
   ]
  },
  {
   "cell_type": "code",
   "execution_count": 9,
   "metadata": {
    "scrolled": true
   },
   "outputs": [
    {
     "name": "stdout",
     "output_type": "stream",
     "text": [
      "hola\n",
      "2\n"
     ]
    }
   ],
   "source": [
    "mi_funcion('hola', 2)"
   ]
  },
  {
   "cell_type": "markdown",
   "metadata": {},
   "source": [
    "Es decir, el nombre de la función a la que queremos llamar seguido de\n",
    "los valores que queramos pasar como parámetros entre paréntesis. La\n",
    "asociación de los parámetros y los valores pasados a la función se hace\n",
    "normalmente de izquierda a derecha: como a param1 le hemos dado un\n",
    "valor “hola” y param2 vale 2, mi_funcion imprimiría hola en una línea,\n",
    "y a continuación 2.\n",
    "Sin embargo también es posible modificar el orden de los parámetros\n",
    "si indicamos el nombre del parámetro al que asociar el valor a la hora\n",
    "de llamar a la función:"
   ]
  },
  {
   "cell_type": "code",
   "execution_count": 10,
   "metadata": {},
   "outputs": [
    {
     "name": "stdout",
     "output_type": "stream",
     "text": [
      "hola\n",
      "2\n"
     ]
    }
   ],
   "source": [
    "mi_funcion(param2 = 2, param1 = 'hola')"
   ]
  },
  {
   "cell_type": "markdown",
   "metadata": {},
   "source": [
    "El número de valores que se pasan como parámetro al llamar a la función tiene que coincidir con el número de parámetros que la función\n",
    "acepta según la declaración de la función. En caso contrario obtendremos un error:"
   ]
  },
  {
   "cell_type": "code",
   "execution_count": 11,
   "metadata": {},
   "outputs": [
    {
     "ename": "TypeError",
     "evalue": "mi_funcion() missing 1 required positional argument: 'param2'",
     "output_type": "error",
     "traceback": [
      "\u001b[1;31m---------------------------------------------------------------------------\u001b[0m",
      "\u001b[1;31mTypeError\u001b[0m                                 Traceback (most recent call last)",
      "\u001b[1;32m<ipython-input-11-33b2e7e71005>\u001b[0m in \u001b[0;36m<module>\u001b[1;34m\u001b[0m\n\u001b[1;32m----> 1\u001b[1;33m \u001b[0mmi_funcion\u001b[0m\u001b[1;33m(\u001b[0m\u001b[1;36m1\u001b[0m\u001b[1;33m)\u001b[0m\u001b[1;33m\u001b[0m\u001b[1;33m\u001b[0m\u001b[0m\n\u001b[0m",
      "\u001b[1;31mTypeError\u001b[0m: mi_funcion() missing 1 required positional argument: 'param2'"
     ]
    }
   ],
   "source": [
    "mi_funcion(1)"
   ]
  },
  {
   "cell_type": "markdown",
   "metadata": {},
   "source": [
    "Conjuntamente, Python permite dar un valor por defecto a un parámetro en\n",
    "la definición de la función de la siguiente manera:"
   ]
  },
  {
   "cell_type": "code",
   "execution_count": 13,
   "metadata": {},
   "outputs": [
    {
     "name": "stdout",
     "output_type": "stream",
     "text": [
      "2\n",
      "1\n"
     ]
    }
   ],
   "source": [
    "def funcion2 (param1  , param2 = 1):\n",
    "    print(param1)\n",
    "    print(param2)\n",
    "    \n",
    "# podemos llamar a la función indicando únicamente el valor del parametro 1\n",
    "funcion2(2)"
   ]
  },
  {
   "cell_type": "markdown",
   "metadata": {},
   "source": [
    "Para definir funciones con un número variable de argumentos colocamos un último parámetro para la función cuyo nombre debe precederse de un signo *:"
   ]
  },
  {
   "cell_type": "code",
   "execution_count": 15,
   "metadata": {},
   "outputs": [
    {
     "name": "stdout",
     "output_type": "stream",
     "text": [
      "3\n",
      "4\n"
     ]
    }
   ],
   "source": [
    "def varios(param1, param2, *otros):\n",
    "     for val in otros:\n",
    "         print(val)\n",
    "varios(1,2,3,4)"
   ]
  },
  {
   "cell_type": "markdown",
   "metadata": {},
   "source": [
    "## 2 COLECCIONES\n",
    "En capitulos anteriores vimos algunos tipos básicos, como los números,\n",
    "las cadenas de texto y los booleanos. En esta lección veremos algunos\n",
    "tipos de colecciones de datos característicos de Python: listas, tuplas y diccionarios."
   ]
  },
  {
   "cell_type": "markdown",
   "metadata": {},
   "source": [
    "### 2.1 Listas\n",
    "La lista es un tipo de colección ordenada. Sería equivalente a lo que en\n",
    "otros lenguajes se conoce por arrays, o vectores.\n",
    "Las listas pueden contener cualquier tipo de dato: números, cadenas,\n",
    "booleanos, … y también otras listas!.\n",
    "Crear una lista es tan sencillo como indicar entre corchetes, y separados por comas, los valores que queremos incluir en la lista y podemos acceder a cada uno de los elementos de la lista escribiendo el\n",
    "nombre de la lista e indicando el índice del elemento entre corchetes.\n",
    "Ten en cuenta sin embargo que el índice del primer elemento de la\n",
    "lista es 0, y no 1.\n",
    "Si queremos acceder a un elemento de una lista incluida dentro de otra\n",
    "lista tendremos que utilizar dos veces este operador, primero para indicar a qué posición de la lista exterior queremos acceder, y el segundo\n",
    "para seleccionar el elemento de la lista interior.\n",
    "\n",
    "Algunos ejemplos de manejo de listas:"
   ]
  },
  {
   "cell_type": "code",
   "execution_count": 52,
   "metadata": {},
   "outputs": [
    {
     "name": "stdout",
     "output_type": "stream",
     "text": [
      "22\n",
      "2\n"
     ]
    }
   ],
   "source": [
    "# definición de listas\n",
    "l = [22, True, 'una lista', [1, 2]]\n",
    "p = [11, False]\n",
    "\n",
    "# acceso lista con una dimensión\n",
    "print(l[0]) # valdrá 22\n",
    "\n",
    "# acceso lista con dos dimensión\n",
    "l = ['una lista', [1, 2]]\n",
    "print(l[1][1]) # valdrá 2"
   ]
  },
  {
   "cell_type": "markdown",
   "metadata": {},
   "source": [
    "### 2.2 Tuplas\n",
    "Todo lo que hemos explicado sobre las listas se aplica también a las\n",
    "tuplas, a excepción de la forma de definirla, para lo que se utilizan\n",
    "paréntesis en lugar de corchetes.\n",
    "En realidad el constructor de la tupla es la coma, no el paréntesis, pero\n",
    "el intérprete muestra los paréntesis, y nosotros deberíamos utilizarlos,\n",
    "por claridad.\n",
    "Para referirnos a elementos de una tupla, como en una lista, se usa el\n",
    "operador [ ].\n",
    "La diferencia entre las tuplas y las listas es que las tuplas son inmutables, \n",
    "es decir, sus valores no se pueden modificar\n",
    "una vez creada; y tienen un tamaño fijo."
   ]
  },
  {
   "cell_type": "code",
   "execution_count": 53,
   "metadata": {},
   "outputs": [
    {
     "name": "stdout",
     "output_type": "stream",
     "text": [
      "22\n",
      "2\n"
     ]
    }
   ],
   "source": [
    "# definición de tuplas\n",
    "l = (22, True, 'una tupla', [1, 2])\n",
    "p = (11, False)\n",
    "\n",
    "# acceso tuplas con una dimensión\n",
    "print(l[0]) # valdrá 22\n",
    "\n",
    "# acceso tuplas con dos dimensión\n",
    "l = ['una lista', [1, 2]]\n",
    "print(l[1][1]) # valdrá 2"
   ]
  },
  {
   "cell_type": "markdown",
   "metadata": {},
   "source": [
    "### 2.3 Diccionarios \n",
    "Los diccionarios, también llamados matrices asociativas, deben su\n",
    "nombre a que son colecciones que relacionan una clave y un valor.\n",
    "El primer valor se trata de la clave y el segundo del valor asociado\n",
    "a la clave. Como clave podemos utilizar cualquier valor inmutable:\n",
    "podríamos usar números, cadenas, booleanos, tuplas, … pero no listas\n",
    "o diccionarios, dado que son mutables. Esto es así porque los diccionarios se implementan como tablas hash, y a la hora de introducir un\n",
    "nuevo par clave-valor en el diccionario se calcula el hash de la clave\n",
    "para después poder encontrar la entrada correspondiente rápidamente.\n",
    "Si se modificara el objeto clave después de haber sido introducido en el\n",
    "diccionario, evidentemente, su hash también cambiaría y no podría ser\n",
    "encontrado.\n",
    "La diferencia principal entre los diccionarios y las listas o las tuplas es\n",
    "que a los valores almacenados en un diccionario se les accede no por su\n",
    "índice, porque de hecho no tienen orden, sino por su clave, utilizando\n",
    "de nuevo el operador [ ].\n",
    "Al igual que en listas y tuplas también se puede utilizar este operador\n",
    "para reasignar valores."
   ]
  },
  {
   "cell_type": "code",
   "execution_count": 54,
   "metadata": {},
   "outputs": [
    {
     "name": "stdout",
     "output_type": "stream",
     "text": [
      "2\n"
     ]
    },
    {
     "data": {
      "text/plain": [
       "'barcelona'"
      ]
     },
     "execution_count": 54,
     "metadata": {},
     "output_type": "execute_result"
    }
   ],
   "source": [
    "# definicion de un diccionario\n",
    "d = {\"Key1\" : 1, \"key2\" : 2 ,\"key3\" : 2 , \"key4\" : \"value4\"}\n",
    "\n",
    "# acceso al valor de una clave\n",
    "print(d[\"key2\"])\n",
    "\n",
    "# edicion del valor de una clave\n",
    "d[\"key2\"] = \"barcelona\"\n",
    "d[\"key2\"]"
   ]
  },
  {
   "cell_type": "markdown",
   "metadata": {},
   "source": [
    "### ENUNCIADO DEL PROBLEMA DE TIPOS BASICOS Y COLECCIONES"
   ]
  },
  {
   "cell_type": "markdown",
   "metadata": {},
   "source": [
    "## 3 CONTROL DE FLUJO\n",
    "En esta lección vamos a ver los condicionales y los bucles"
   ]
  },
  {
   "cell_type": "markdown",
   "metadata": {},
   "source": [
    "### 3.1 Sentencias condicionales\n",
    "Si un programa no fuera más que una lista de órdenes a ejecutar de\n",
    "forma secuencial, una por una, no tendría mucha utilidad. Los condicionales nos permiten comprobar condiciones y hacer que nuestro\n",
    "programa se comporte de una forma u otra, que ejecute un fragmento\n",
    "de código u otro, dependiendo de esta condición.\n",
    "\n",
    "Aquí es donde cobran su importancia el tipo booleano y los operadores\n",
    "lógicos y relacionales que aprendimos en el capítulo sobre los tipos\n",
    "básicos de Python."
   ]
  },
  {
   "cell_type": "markdown",
   "metadata": {},
   "source": [
    "**IF**\n",
    "\n",
    "La forma más simple de un estamento condicional es un if (del inglés\n",
    "si) seguido de la condición a evaluar, dos puntos (:) y en la siguiente\n",
    "línea e indentado, el código a ejecutar en caso de que se cumpla dicha\n",
    "condición.\n",
    "\n",
    "A diferencia con otros lenguajes de programación los bloques de código que han de ejecutarse dentro del condicional no se incluyen entre corchetes sino mediante la identación de código, es por eso que se debe ser cauteloso con los tabuladores a la hora de crear condicionales, mira el ejemplo a continuación:"
   ]
  },
  {
   "cell_type": "code",
   "execution_count": 55,
   "metadata": {
    "scrolled": true
   },
   "outputs": [
    {
     "name": "stdout",
     "output_type": "stream",
     "text": [
      "Esta sentencia se ejecutará dentro del condicional\n",
      "Esta tambien\n",
      "Esta no se ejecuta dentro del condicional\n"
     ]
    }
   ],
   "source": [
    "n = 10\n",
    "# si (if) n es igual a 10\n",
    "if n == 10:\n",
    "    print('Esta sentencia se ejecutará dentro del condicional')\n",
    "    print('Esta tambien')\n",
    "print('Esta no se ejecuta dentro del condicional')\n",
    "\n"
   ]
  },
  {
   "cell_type": "markdown",
   "metadata": {},
   "source": [
    "**IF … ELSE**\n",
    "\n",
    "Vamos a ver ahora un condicional algo más complicado. ¿Qué haríamos si quisiéramos que se ejecutaran unas ciertas órdenes en el caso de\n",
    "que la condición no se cumpliera? Sin duda podríamos añadir otro if\n",
    "que tuviera como condición la negación del primero pero, como la mayoría de lenguajes de programación, el condicional tiene una segunda construcción mucho más útil, el \"else\". Su funcionamiento es facilmente entendible con un ejemplo:"
   ]
  },
  {
   "cell_type": "code",
   "execution_count": 56,
   "metadata": {},
   "outputs": [
    {
     "name": "stdout",
     "output_type": "stream",
     "text": [
      "esta si\n"
     ]
    }
   ],
   "source": [
    "n = 10\n",
    "if n==11:\n",
    "    print('esta sentencia no se ejecutará')\n",
    "else:\n",
    "    print('esta si')"
   ]
  },
  {
   "cell_type": "markdown",
   "metadata": {},
   "source": [
    "**IF … ELIF … ELIF … ELSE**.\n",
    "\n",
    "Todavía queda una construcción más que ver, que es la que hace uso\n",
    "del elif. Esta permite enlazar condiciones de forma continuada en caso de necesitar condiciones más especificas dentro de otras condiciones:"
   ]
  },
  {
   "cell_type": "code",
   "execution_count": 57,
   "metadata": {},
   "outputs": [
    {
     "name": "stdout",
     "output_type": "stream",
     "text": [
      "Positivo\n"
     ]
    }
   ],
   "source": [
    "n = 4\n",
    "if n < 0:\n",
    " print('Negativo')\n",
    "elif n > 0:\n",
    " print('Positivo')\n",
    "else:\n",
    " print('Cero')"
   ]
  },
  {
   "cell_type": "markdown",
   "metadata": {},
   "source": [
    "**A IF C ELSE B**\n",
    "\n",
    "También existe una construcción similar al operador ? de otros lenguajes, que no es más que una forma compacta de expresar un if else. En\n",
    "esta construcción se evalúa el predicado C y se devuelve A si se cumple\n",
    "o B si no se cumple: A if C else B. Veamos un ejemplo:"
   ]
  },
  {
   "cell_type": "code",
   "execution_count": 58,
   "metadata": {},
   "outputs": [
    {
     "name": "stdout",
     "output_type": "stream",
     "text": [
      "par\n"
     ]
    }
   ],
   "source": [
    "# si n es par la variables \"var\" obtendra el valor \"par\", sino \n",
    "# obtendrá el valor \"impar\"\n",
    "var = 'par' if (n % 2 == 0) else 'impar'\n",
    "print(var)"
   ]
  },
  {
   "cell_type": "markdown",
   "metadata": {},
   "source": [
    "### 3.2 Bucles \n",
    "Mientras que los condicionales nos permiten ejecutar distintos fragmentos de código dependiendo de ciertas condiciones, los bucles nos\n",
    "permiten ejecutar un mismo fragmento de código un cierto número de\n",
    "veces, mientras se cumpla una determinada condición.\n",
    "\n",
    "**WHILE**\n",
    "\n",
    "El bucle while (mientras) ejecuta un fragmento de código mientras se\n",
    "cumpla una condición."
   ]
  },
  {
   "cell_type": "code",
   "execution_count": 60,
   "metadata": {},
   "outputs": [
    {
     "name": "stdout",
     "output_type": "stream",
     "text": [
      "0\n",
      "1\n",
      "2\n",
      "3\n"
     ]
    }
   ],
   "source": [
    "# Este bucle cuenta de 0 a 3\n",
    "n = 0\n",
    "while n <= 3:\n",
    "    print(n)\n",
    "    n += 1"
   ]
  },
  {
   "cell_type": "markdown",
   "metadata": {},
   "source": [
    "Como podemos ver, mientras se cumpla la condicion \"n\" menor o igual que \"3\" se ejecutará el contenido del bloque while. Es importante controlar el final de un bucle while para no caer en los llamados bucles infinitos. Un ejemplo de bucle infinito seria:"
   ]
  },
  {
   "cell_type": "code",
   "execution_count": null,
   "metadata": {},
   "outputs": [],
   "source": [
    "# n = 0\n",
    "# while n <= 3:\n",
    "    # print(n)"
   ]
  },
  {
   "cell_type": "markdown",
   "metadata": {},
   "source": [
    "Al no controlar el final del bucle mediante la variable \"n\", la ejecución quedará atascada ejecutando constantemente la sentencia \"print\".\n",
    "\n",
    "Dentro de los bucles se reservan dos palabras claves para el control de flujo: \"break\" y \"continue\". \"Break\" finaliza automáticamente la ejecución del bucle y pasa a la siguiente sección de codigo y \"continue\" salta a la siguiente ejecución del bucle:"
   ]
  },
  {
   "cell_type": "code",
   "execution_count": 1,
   "metadata": {},
   "outputs": [
    {
     "name": "stdout",
     "output_type": "stream",
     "text": [
      "0\n",
      "1\n",
      "2\n"
     ]
    }
   ],
   "source": [
    "#ejemplo break\n",
    "n = 0\n",
    "while n < 10:\n",
    "    if n == 3: break\n",
    "    print(n)\n",
    "    n += 1"
   ]
  },
  {
   "cell_type": "code",
   "execution_count": 61,
   "metadata": {},
   "outputs": [
    {
     "name": "stdout",
     "output_type": "stream",
     "text": [
      "0\n",
      "1\n",
      "2\n",
      "4\n"
     ]
    }
   ],
   "source": [
    "#ejemplo continue (no imprime el 3 ya que antes de llegar salta a la \n",
    "#siguiente iteración del bucle\n",
    "a = 0\n",
    "while a < 5:\n",
    "    if a == 3:\n",
    "        a += 1 \n",
    "        continue\n",
    "    print(a)\n",
    "    a += 1"
   ]
  },
  {
   "cell_type": "markdown",
   "metadata": {},
   "source": [
    "**FOR ... IN**\n",
    "\n",
    "En Python \"for\" se utiliza como\n",
    "una forma genérica de iterar sobre una secuencia. Y como tal intenta\n",
    "facilitar su uso para este fin."
   ]
  },
  {
   "cell_type": "code",
   "execution_count": 62,
   "metadata": {},
   "outputs": [
    {
     "name": "stdout",
     "output_type": "stream",
     "text": [
      "uno\n",
      "dos\n",
      "tres\n"
     ]
    }
   ],
   "source": [
    "secuencia = ['uno', 'dos', 'tres']\n",
    "for elemento in secuencia:\n",
    "     print(elemento)"
   ]
  },
  {
   "cell_type": "markdown",
   "metadata": {},
   "source": [
    "Como hemos dicho los for se utilizan en Python para recorrer secuencias, por lo que vamos a utilizar un tipo secuencia, como es la lista, para\n",
    "nuestro ejemplo.\n",
    "Leamos la cabecera del bucle como si de lenguaje natural se tratara:\n",
    "“para cada elemento en secuencia”. Y esto es exactamente lo que hace\n",
    "el bucle: para cada elemento que tengamos en la secuencia, ejecuta\n",
    "estas líneas de código.\n",
    "Lo que hace la cabecera del bucle es obtener el siguiente elemento de\n",
    "la secuencia secuencia y almacenarlo en una variable de nombre elemento. Por esta razón en la primera iteración del bucle elemento valdrá\n",
    "“uno”, en la segunda “dos”, y en la tercera “tres”.\n",
    "Fácil y sencillo.\n",
    "Como en el bucle \"while\" tambíen podemos utilizar las palabras break y continue para el control de la ejecución."
   ]
  },
  {
   "cell_type": "markdown",
   "metadata": {},
   "source": [
    "### ENUNCIADO PROBLEMA DE CONTROL DE FLUJO"
   ]
  },
  {
   "cell_type": "markdown",
   "metadata": {},
   "source": [
    "## 5 ORIENTACIÓN A OBJETOS\n",
    "La Programación Orientada a Objetos (POO u OOP según sus siglas\n",
    "en inglés) es un paradigma de programación en el que los conceptos\n",
    "del mundo real relevantes para nuestro problema se modelan a través\n",
    "de clases y objetos, y en el que nuestro programa consiste en una serie\n",
    "de interacciones entre estos objetos."
   ]
  },
  {
   "cell_type": "markdown",
   "metadata": {},
   "source": [
    "### 5.1 Clases y Objetos"
   ]
  },
  {
   "cell_type": "markdown",
   "metadata": {},
   "source": [
    "Para entender este paradigma primero tenemos que comprender qué es\n",
    "una clase y qué es un objeto. Un objeto es una entidad que agrupa un\n",
    "estado y una funcionalidad relacionadas. El estado del objeto se define\n",
    "a través de variables llamadas atributos, mientras que la funcionalidad\n",
    "se modela a través de funciones a las que se les conoce con el nombre\n",
    "de métodos del objeto.\n",
    "\n",
    "Un ejemplo de objeto podría ser un coche, en el que tendríamos atributos como la marca, el número de puertas o el tipo de carburante y\n",
    "métodos como arrancar y parar. O bien cualquier otra combinación de\n",
    "atributos y métodos según lo que fuera relevante para nuestro programa.\n",
    "\n",
    "Una clase, por otro lado, no es más que una plantilla genérica a partir \n",
    "de la cuál instanciar los objetos; plantilla que es la que define qué atributos y métodos tendrán los objetos de esa clase.\n",
    "\n",
    "Volviendo a nuestro ejemplo: en el mundo real existe un conjunto de\n",
    "objetos a los que llamamos coches y que tienen un conjunto de atributos comunes y un comportamiento común, esto es a lo que llamamos\n",
    "clase. Sin embargo, mi coche no es igual que el coche de mi vecino, y\n",
    "aunque pertenecen a la misma clase de objetos, son objetos distintos.\n",
    "En Python las clases se definen mediante la palabra clave class seguida del nombre de la clase, dos puntos (:) y a continuación, indentado,\n",
    "el cuerpo de la clase:"
   ]
  },
  {
   "cell_type": "code",
   "execution_count": 70,
   "metadata": {},
   "outputs": [],
   "source": [
    "class Coche:\n",
    "    \"\"\"Abstraccion de los objetos coche.\"\"\"\n",
    "    def __init__(self, gasolina):\n",
    "         self.gasolina = gasolina\n",
    "         print('Tenemos', gasolina, 'litros')\n",
    "            \n",
    "    def arrancar(self):\n",
    "        if self.gasolina > 0:\n",
    "            print('Arranca')\n",
    "        else:\n",
    "            print('No arranca')\n",
    "                \n",
    "    def conducir(self):\n",
    "        if self.gasolina > 0:\n",
    "            self.gasolina -= 1\n",
    "            print('Quedan', self.gasolina, 'litros')\n",
    "        else:\n",
    "            print('No se mueve')"
   ]
  },
  {
   "cell_type": "markdown",
   "metadata": {},
   "source": [
    "En el ejemplo anterior vemos que en la primera linea dentro de la clase\n",
    "encontramos una cadena de texto entre \"\"\" \"\"\", a esta cadena se le llama docstring o cadena de documentación de la clase y también se utiliza de la misma manera en la creación de funciones con el proposito de proporcionar información sobre el codigo.  "
   ]
  },
  {
   "cell_type": "markdown",
   "metadata": {},
   "source": [
    "Lo primero que llama la atención en el ejemplo anterior es el nombre\n",
    "tan curioso que tiene el método \\__init\\__. Este nombre es una convención y no un capricho. El método \\__init\\__, con una doble barra baja al\n",
    "principio y final del nombre, se ejecuta justo después de crear un nuevo\n",
    "objeto a partir de la clase, proceso que se conoce con el nombre de\n",
    "instanciación. El método \\__init\\__ sirve, como sugiere su nombre, para\n",
    "realizar cualquier proceso de inicialización que sea necesario.\n",
    "\n",
    "Como vemos el primer parámetro de \\__init\\__ y del resto de métodos \n",
    "de la clase es siempre self. Esta es una idea inspirada en Modula-3 y\n",
    "sirve para referirse al objeto actual. Este mecanismo es necesario para\n",
    "poder acceder a los atributos y métodos del objeto diferenciando, por\n",
    "ejemplo, una variable local mi_var de un atributo del objeto self.\n",
    "mi_var.\n",
    "\n",
    "Si volvemos al método \\__init\\__ de nuestra clase Coche veremos cómo\n",
    "se utiliza self para asignar al atributo gasolina del objeto (self.gasolina) el valor que el programador especificó para el parámetro gasolina. El parámetro gasolina se destruye al final de la función, mientras\n",
    "que el atributo gasolina se conserva (y puede ser accedido) mientras el\n",
    "objeto viva.\n",
    "\n",
    "Para crear un objeto se escribiría el nombre de la clase seguido de cualquier parámetro que sea necesario entre paréntesis. Estos parámetros\n",
    "son los que se pasarán al método \\__init\\__, que como decíamos es el\n",
    "método que se llama al instanciar la clase:"
   ]
  },
  {
   "cell_type": "code",
   "execution_count": 71,
   "metadata": {},
   "outputs": [
    {
     "name": "stdout",
     "output_type": "stream",
     "text": [
      "Tenemos 3 litros\n"
     ]
    }
   ],
   "source": [
    "mi_coche = Coche(3)"
   ]
  },
  {
   "cell_type": "markdown",
   "metadata": {},
   "source": [
    "Os preguntareis entonces cómo es posible que a la hora de crear nuestro primer objeto pasemos un solo parámetro a \\__init__, el número\n",
    "3, cuando la definición de la función indica claramente que precisa de\n",
    "dos parámetros (self y gasolina). Esto es así porque Python pasa el\n",
    "primer argumento (la referencia al objeto que se crea) automágicamente.\n",
    "\n",
    "Ahora que ya hemos creado nuestro objeto, podemos acceder a sus\n",
    "atributos y métodos mediante la sintaxis objeto.atributo y objeto.\n",
    "metodo():"
   ]
  },
  {
   "cell_type": "code",
   "execution_count": 72,
   "metadata": {},
   "outputs": [
    {
     "name": "stdout",
     "output_type": "stream",
     "text": [
      "3\n",
      "Arranca\n",
      "Quedan 2 litros\n",
      "Quedan 1 litros\n",
      "Quedan 0 litros\n",
      "No se mueve\n",
      "No arranca\n",
      "0\n"
     ]
    }
   ],
   "source": [
    "# mostrara \"3\"\n",
    "print(mi_coche.gasolina)\n",
    "# mostrara \"Arranca\"\n",
    "mi_coche.arrancar()\n",
    "# mostrara \"Quedan 2 litros\"\n",
    "mi_coche.conducir()\n",
    "# mostrara \"Quedan 1 litros\"\n",
    "mi_coche.conducir()\n",
    "# mostrara \"Quedan 0 litros\"\n",
    "mi_coche.conducir()\n",
    "# mostrara \"No se mueve\"\n",
    "mi_coche.conducir()\n",
    "# mostrara \"No arranca\"\n",
    "mi_coche.arrancar()\n",
    "# mostrara \"0\"\n",
    "print(mi_coche.gasolina)"
   ]
  },
  {
   "cell_type": "markdown",
   "metadata": {},
   "source": [
    "### 5.2 Herencia\n",
    "Hay tres conceptos que son básicos para cualquier lenguaje de programación orientado a objetos: el encapsulamiento, la herencia y el\n",
    "polimorfismo.\n",
    "\n",
    "En un lenguaje orientado a objetos cuando hacemos que una clase\n",
    "(subclase) herede de otra clase (superclase) estamos haciendo que la\n",
    "subclase contenga todos los atributos y métodos que tenía la superclase. No obstante al acto de heredar de una clase también se le llama a\n",
    "menudo “extender una clase”.\n",
    "\n",
    "Supongamos que queremos modelar los instrumentos musicales de\n",
    "una banda, tendremos entonces una clase Guitarra, una clase Batería,\n",
    "una clase Bajo, etc. Cada una de estas clases tendrá una serie de atributos y métodos, pero ocurre que, por el mero hecho de ser instrumentos\n",
    "musicales, estas clases compartirán muchos de sus atributos y métodos;\n",
    "un ejemplo sería el método tocar().\n",
    "\n",
    "Es más sencillo crear un tipo de objeto Instrumento con las atributos y\n",
    "métodos comunes e indicar al programa que Guitarra, Batería y Bajo\n",
    "son tipos de instrumentos, haciendo que hereden de Instrumento.\n",
    "\n",
    "Para indicar que una clase hereda de otra se coloca el nombre de la clase de la que se hereda entre paréntesis después del nombre de la clase:"
   ]
  },
  {
   "cell_type": "code",
   "execution_count": 73,
   "metadata": {},
   "outputs": [],
   "source": [
    "class Instrumento:\n",
    "    def __init__(self, precio):\n",
    "        self.precio = precio\n",
    "    def tocar(self):\n",
    "        print('sonido musical')\n",
    "    def romper(self):\n",
    "        print('instrumento roto')\n",
    "\n",
    "class Bateria(Instrumento):\n",
    "    pass\n",
    "class Guitarra(Instrumento):\n",
    "    pass"
   ]
  },
  {
   "cell_type": "markdown",
   "metadata": {},
   "source": [
    "Como Bateria y Guitarra heredan de Instrumento, ambos tienen un\n",
    "método tocar() y un método romper(), y se inicializan pasando un\n",
    "parámetro precio. Pero, ¿qué ocurriría si quisiéramos especificar un\n",
    "nuevo parámetro tipo_cuerda a la hora de crear un objeto Guitarra?\n",
    "Bastaría con escribir un nuevo método \\__init__ para la clase Guitarra\n",
    "que se ejecutaría en lugar del \\__init__ de Instrumento. Esto es lo que\n",
    "se conoce como sobreescribir métodos.\n",
    "\n",
    "Ahora bien, puede ocurrir en algunos casos que necesitemos sobreescribir un método de la clase padre, pero que en ese método queramos\n",
    "ejecutar el método de la clase padre porque nuestro nuevo método no\n",
    "necesite más que ejecutar un par de nuevas instrucciones extra. En ese\n",
    "caso usaríamos la sintaxis SuperClase.metodo(self, args) para llamar\n",
    "al método de igual nombre de la clase padre. Por ejemplo, para llamar\n",
    "al método \\__init__ de Instrumento desde Guitarra usaríamos Instrumento.\\__init__(self, precio)\n",
    "\n",
    "Observad que en este caso si es necesario especificar el parámetro self."
   ]
  },
  {
   "cell_type": "markdown",
   "metadata": {},
   "source": [
    "Adicionalmente Python permite la **Herencia Mútiple**, es decir, una clase hereda de varias simultaneamente. Para la definicón de esta simplemente hay que enumerar las clases padre separadas por comas."
   ]
  },
  {
   "cell_type": "markdown",
   "metadata": {},
   "source": [
    "### 5.3 Polimorfismo\n",
    "La palabra polimorfismo, del griego poly morphos (varias formas), se refiere a la habilidad de objetos de distintas clases de responder al mismo\n",
    "mensaje. Esto se puede conseguir a través de la herencia: un objeto de\n",
    "una clase derivada es al mismo tiempo un objeto de la clase padre, de\n",
    "forma que allí donde se requiere un objeto de la clase padre también se\n",
    "puede utilizar uno de la clase hija.\n",
    "\n",
    "Python, al ser de tipado dinámico, no impone restricciones a los tipos\n",
    "que se le pueden pasar a una función, por ejemplo, más allá de que el\n",
    "objeto se comporte como se espera: si se va a llamar a un método f()\n",
    "del objeto pasado como parámetro, por ejemplo, evidentemente el\n",
    "objeto tendrá que contar con ese método. Por ese motivo, a diferencia\n",
    "de lenguajes de tipado estático como Java o C++, el polimorfismo en\n",
    "Python no es de gran importancia."
   ]
  },
  {
   "cell_type": "markdown",
   "metadata": {},
   "source": [
    "### 5.4 Encapsulación\n",
    "La encapsulación se refiere a impedir el acceso a determinados métodos y atributos de los objetos estableciendo así qué puede utilizarse\n",
    "desde fuera de la clase.\n",
    "\n",
    "Esto se consigue en otros lenguajes de programación como Java utilizando modificadores de acceso que definen si cualquiera puede acceder\n",
    "a esa función o variable (public) o si está restringido el acceso a la\n",
    "propia clase (private).\n",
    "\n",
    "En Python no existen los modificadores de acceso, y lo que se suele\n",
    "hacer es que el acceso a una variable o función viene determinado por\n",
    "su nombre: si el nombre comienza con dos guiones bajos (y no termina\n",
    "también con dos guiones bajos) se trata de una variable o función privada, en caso contrario es pública. Los métodos cuyo nombre comienza y termina con dos guiones bajos son métodos especiales que Python\n",
    "llama automáticamente bajo ciertas circunstancias.\n",
    "\n",
    "En el siguiente ejemplo sólo se imprimirá la cadena correspondiente al\n",
    "método publico(), mientras que al intentar llamar al método \\__privado() Python lanzará una excepción quejándose de que no existe\n",
    "(evidentemente existe, pero no lo podemos ver porque es privado)."
   ]
  },
  {
   "cell_type": "code",
   "execution_count": 74,
   "metadata": {},
   "outputs": [
    {
     "name": "stdout",
     "output_type": "stream",
     "text": [
      "Publico\n"
     ]
    }
   ],
   "source": [
    "class Ejemplo:\n",
    "    def publico(self):\n",
    "        print('Publico')\n",
    "    def __privado(self):\n",
    "        print('Privado')\n",
    "        \n",
    "ej = Ejemplo()\n",
    "# llamada al metodo publico\n",
    "ej.publico()"
   ]
  },
  {
   "cell_type": "code",
   "execution_count": 75,
   "metadata": {},
   "outputs": [
    {
     "ename": "AttributeError",
     "evalue": "'Ejemplo' object has no attribute '__privado'",
     "output_type": "error",
     "traceback": [
      "\u001b[1;31m---------------------------------------------------------------------------\u001b[0m",
      "\u001b[1;31mAttributeError\u001b[0m                            Traceback (most recent call last)",
      "\u001b[1;32m~\\AppData\\Local\\Temp/ipykernel_13208/3831526912.py\u001b[0m in \u001b[0;36m<module>\u001b[1;34m\u001b[0m\n\u001b[0;32m      1\u001b[0m \u001b[1;31m# llamada al metodo privado\u001b[0m\u001b[1;33m\u001b[0m\u001b[1;33m\u001b[0m\u001b[0m\n\u001b[1;32m----> 2\u001b[1;33m \u001b[0mej\u001b[0m\u001b[1;33m.\u001b[0m\u001b[0m__privado\u001b[0m\u001b[1;33m(\u001b[0m\u001b[1;33m)\u001b[0m\u001b[1;33m\u001b[0m\u001b[1;33m\u001b[0m\u001b[0m\n\u001b[0m",
      "\u001b[1;31mAttributeError\u001b[0m: 'Ejemplo' object has no attribute '__privado'"
     ]
    }
   ],
   "source": [
    "# llamada al metodo privado\n",
    "ej.__privado()"
   ]
  },
  {
   "cell_type": "markdown",
   "metadata": {},
   "source": [
    "En ocasiones también puede suceder que queramos permitir el acceso\n",
    "a algún atributo de nuestro objeto, pero que este se produzca de forma\n",
    "controlada. Para esto podemos escribir métodos cuyo único cometido\n",
    "sea este, métodos que normalmente, por convención, tienen nombres\n",
    "como getVariable y setVariable; de ahí que se conozcan también con\n",
    "el nombre de getters y setters:"
   ]
  },
  {
   "cell_type": "code",
   "execution_count": 76,
   "metadata": {},
   "outputs": [
    {
     "name": "stdout",
     "output_type": "stream",
     "text": [
      "Error\n"
     ]
    }
   ],
   "source": [
    "class Fecha():\n",
    "    def __init__(self):\n",
    "        self.__dia = 1\n",
    "    def getDia(self):\n",
    "        return self.__dia\n",
    "    def setDia(self, dia):\n",
    "        if dia > 0 and dia < 31:\n",
    "            self.__dia = dia\n",
    "        else:\n",
    "            print('Error')\n",
    "mi_fecha = Fecha()\n",
    "mi_fecha.setDia(33)"
   ]
  },
  {
   "cell_type": "markdown",
   "metadata": {},
   "source": [
    "### 5.5 Métodos Especiales\n",
    "Ya vimos al principio del artículo el uso del método __init__. Existen otros métodos con significados especiales, cuyos nombres siempre\n",
    "comienzan y terminan con dos guiones bajos. A continuación se listan\n",
    "algunos especialmente útiles:\n",
    "\n",
    "- \\__init__(self, args)\n",
    "\n",
    "Método llamado después de crear el objeto para realizar tareas de\n",
    "inicialización.\n",
    "\n",
    "\n",
    "- \\__new__(cls, args)\n",
    "\n",
    "Método exclusivo de las clases de nuevo estilo que se ejecuta antes que\n",
    "\\__init__ y que se encarga de construir y devolver el objeto en sí. Es\n",
    "equivalente a los constructores de C++ o Java. Se trata de un método\n",
    "estático, es decir, que existe con independencia de las instancias de\n",
    "la clase: es un método de clase, no de objeto, y por lo tanto el primer\n",
    "parámetro no es self, sino la propia clase: cls.\n",
    "\n",
    "\n",
    "- \\__del__(self)\n",
    "\n",
    "Método llamado cuando el objeto va a ser borrado. También llamado\n",
    "destructor, se utiliza para realizar tareas de limpieza.\n",
    "\n",
    "\n",
    "- \\__str__(self)\n",
    "\n",
    "Método llamado para crear una cadena de texto que represente a nuestro objeto. Se utiliza cuando usamos print para mostrar nuestro objeto\n",
    "o cuando usamos la función str(obj) para crear una cadena a partir de\n",
    "nuestro objeto.\n",
    "\n",
    "\n",
    "- \\__cmp__(self, otro)\n",
    "\n",
    "Método llamado cuando se utilizan los operadores de comparación\n",
    "para comprobar si nuestro objeto es menor, mayor o igual al objeto\n",
    "pasado como parámetro. Debe devolver un número negativo si nuestro\n",
    "objeto es menor, cero si son iguales, y un número positivo si nuestro\n",
    "objeto es mayor. Si este método no está definido y se intenta comparar el objeto mediante los operadores <, <=, > o >= se lanzará una\n",
    "excepción. Si se utilizan los operadores == o != para comprobar si dos\n",
    "objetos son iguales, se comprueba si son el mismo objeto (si tienen el\n",
    "mismo id).\n",
    "\n",
    "\n",
    "- \\__len__(self)\n",
    "\n",
    "Método llamado para comprobar la longitud del objeto. Se utiliza, por ejemplo, cuando se llama a la función len(obj) sobre nuestro objeto.\n",
    "Como es de suponer, el método debe devolver la longitud del objeto.\n",
    "\n",
    "Existen bastantes más métodos especiales pero un\n",
    "estudio exhaustivo de todos los métodos queda fuera del propósito del\n",
    "capítulo."
   ]
  },
  {
   "cell_type": "markdown",
   "metadata": {},
   "source": [
    "### ENUNCIADO PROBLEMA DE O.O."
   ]
  },
  {
   "cell_type": "markdown",
   "metadata": {},
   "source": [
    "## 6 REVISITANDO OBJETOS\n",
    "En los capítulos dedicados a los tipos simples y las colecciones veíamos\n",
    "por primera vez algunos de los objetos del lenguaje Python: números,\n",
    "booleanos, cadenas de texto, diccionarios, listas y tuplas.\n",
    "Ahora que sabemos qué son las clases, los objetos, las funciones, y los\n",
    "métodos es el momento de revisitar estos objetos para descubrir su\n",
    "verdadero potencial.\n",
    "\n",
    "Veremos a continuación algunos métodos útiles de estos objetos. Evidentemente, no es necesario memorizarlos, pero si, al menos, recordar\n",
    "que existen para cuando sean necesarios.\n"
   ]
  },
  {
   "cell_type": "markdown",
   "metadata": {},
   "source": [
    "### 6.1 Diccionarios\n",
    "- *D.get(k[, d])*: Busca el valor de la clave k en el diccionario. Es equivalente a utilizar D[k] pero al utilizar este método podemos indicar un valor a devolver por defecto si no se encuentra la clave, mientras que con la sintaxis D[k], de no existir la clave se lanzaría una excepción.\n",
    "\n",
    "\n",
    "- *D.has_key(k)*: Comprueba si el diccionario tiene la clave k. Es equivalente a la sintaxis k in D.\n",
    "\n",
    "\n",
    "- *D.items()*: Devuelve una lista de tuplas con pares clave-valor\n",
    "\n",
    "\n",
    "- *D.keys()*: Devuelve una lista de las claves del diccionario.\n",
    "\n",
    "\n",
    "- *D.pop(k[, d])*: Borra la clave k del diccionario y devuelve su valor. Si no se encuentra dicha clave se devuelve d si se especificó el parámetro o bien se lanza una excepción.\n",
    "\n",
    "\n",
    "- *D.values()*: Devuelve una lista de los valores del diccionario."
   ]
  },
  {
   "cell_type": "markdown",
   "metadata": {},
   "source": [
    "### 6.2 Cadenas\n",
    "\n",
    "- *S.count(sub[, start[, end]])*: Devuelve el número de veces que se encuentra sub en la cadena. Los parámetros opcionales start y end definen una subcadena en la que buscar.\n",
    "\n",
    "\n",
    "- *S.find(sub[, start[, end]])*: Devuelve la posición en la que se encontró por primera vez sub en la cadena o -1 si no se encontró.\n",
    "\n",
    "\n",
    "- *S.join(sequence)*: Devuelve una cadena resultante de concatenar las cadenas de la secuencia seq separadas por la cadena sobre la que se llama el método.\n",
    "\n",
    "\n",
    "- *S.partition(sep)*: Busca el separador sep en la cadena y devuelve una tupla con la subcadena hasta dicho separador, el separador en si, y la subcadena del separador hasta el final de la cadena. Si no se encuentra el separador, la tupla contendrá la cadena en si y dos cadenas vacías.\n",
    "\n",
    "\n",
    "- *S.replace(old, new[, count])*: Devuelve una cadena en la que se han reemplazado todas las ocurrencias de la cadena old por la cadena new. Si se especifica el parámetro count, este indica el número máximo de ocurrencias a reemplazar.\n",
    "\n",
    "\n",
    "- *S.split([sep [,maxsplit]])*: Devuelve una lista conteniendo las subcadenas en las que se divide nuestra cadena al dividirlas por el delimitador sep. En el caso de que no se especifique sep, se usan espacios. Si se especifica maxsplit, este indica el número máximo de particiones a realizar."
   ]
  },
  {
   "cell_type": "markdown",
   "metadata": {},
   "source": [
    "### 6.3 Listas\n",
    "\n",
    "- *L.append(object)*: Añade un objeto al final de la lista.\n",
    "\n",
    "\n",
    "- *L.count(value)*: Devuelve el número de veces que se encontró value en la lista.\n",
    "\n",
    "\n",
    "- *L.extend(iterable)*: Añade los elementos del iterable a la lista.\n",
    "\n",
    "\n",
    "- *L.index(value[, start[, stop]])*: Devuelve la posición en la que se encontró la primera ocurrencia de value. Si se especifican, start y stop definen las posiciones de inicio y fin de una sublista en la que buscar.\n",
    "\n",
    "\n",
    "- *L.insert(index, object)*: Inserta el objeto object en la posición index.\n",
    "\n",
    "\n",
    "- *L.pop([index])*: Devuelve el valor en la posición index y lo elimina de la lista. Si no se especifica la posición, se utiliza el último elemento de la lista.\n",
    "\n",
    "\n",
    "- *L.remove(value)*: Eliminar la primera ocurrencia de value en la lista.\n",
    "\n",
    "\n",
    "- *L.reverse()*: Invierte la lista. Esta función trabaja sobre la propia lista desde la que se invoca el método, no sobre una copia.\n",
    "\n",
    "\n",
    "- *L.sort(cmp=None, key=None, reverse=False)*: Ordena la lista. Si se especifica cmp, este debe ser una función que tome como parámetro dos valores x e y de la lista y devuelva -1 si x es menor que y, 0 si son iguales y 1 si x es mayor que y.\n",
    "\n",
    "\n",
    "El parámetro reverse es un booleano que indica si se debe ordenar\n",
    "la lista de forma inversa, lo que sería equivalente a llamar primero a\n",
    "L.sort() y después a L.reverse().\n",
    "\n",
    "Por último, si se especifica, el parámetro key debe ser una función que\n",
    "tome un elemento de la lista y devuelva una clave a utilizar a la hora de\n",
    "comparar, en lugar del elemento en si."
   ]
  },
  {
   "cell_type": "markdown",
   "metadata": {},
   "source": [
    "### ENUNCIADO PROBLEMA DE REVISITANDO"
   ]
  },
  {
   "cell_type": "markdown",
   "metadata": {},
   "source": [
    "## 7 EXCEPCIONES"
   ]
  },
  {
   "cell_type": "markdown",
   "metadata": {},
   "source": [
    "Las excepciones son errores detectados por Python durante la ejecución del programa. Cuando el intérprete se encuentra con una\n",
    "situación excepcional, como el intentar dividir un número entre 0 o\n",
    "el intentar acceder a un archivo que no existe, este genera o lanza una\n",
    "excepción, informando al usuario de que existe algún problema.\n",
    "\n",
    "Si la excepción no se captura el flujo de ejecución se interrumpe y se\n",
    "muestra la información asociada a la excepción en la consola de forma\n",
    "que el programador pueda solucionar el problema.\n",
    "\n",
    "Veamos un pequeño programa que lanzaría una excepción al intentar\n",
    "dividir 1 entre 0 y observemos el mensaje que nos muestra:"
   ]
  },
  {
   "cell_type": "code",
   "execution_count": 91,
   "metadata": {},
   "outputs": [
    {
     "ename": "ZeroDivisionError",
     "evalue": "division by zero",
     "output_type": "error",
     "traceback": [
      "\u001b[1;31m---------------------------------------------------------------------------\u001b[0m",
      "\u001b[1;31mZeroDivisionError\u001b[0m                         Traceback (most recent call last)",
      "\u001b[1;32m~\\AppData\\Local\\Temp/ipykernel_13208/1088510525.py\u001b[0m in \u001b[0;36m<module>\u001b[1;34m\u001b[0m\n\u001b[0;32m      5\u001b[0m     \u001b[0mdivision\u001b[0m\u001b[1;33m(\u001b[0m\u001b[1;36m1\u001b[0m\u001b[1;33m,\u001b[0m \u001b[1;36m0\u001b[0m\u001b[1;33m)\u001b[0m\u001b[1;33m\u001b[0m\u001b[1;33m\u001b[0m\u001b[0m\n\u001b[0;32m      6\u001b[0m \u001b[1;33m\u001b[0m\u001b[0m\n\u001b[1;32m----> 7\u001b[1;33m \u001b[0mcalcular\u001b[0m\u001b[1;33m(\u001b[0m\u001b[1;33m)\u001b[0m\u001b[1;33m\u001b[0m\u001b[1;33m\u001b[0m\u001b[0m\n\u001b[0m",
      "\u001b[1;32m~\\AppData\\Local\\Temp/ipykernel_13208/1088510525.py\u001b[0m in \u001b[0;36mcalcular\u001b[1;34m()\u001b[0m\n\u001b[0;32m      3\u001b[0m \u001b[1;33m\u001b[0m\u001b[0m\n\u001b[0;32m      4\u001b[0m \u001b[1;32mdef\u001b[0m \u001b[0mcalcular\u001b[0m\u001b[1;33m(\u001b[0m\u001b[1;33m)\u001b[0m\u001b[1;33m:\u001b[0m\u001b[1;33m\u001b[0m\u001b[1;33m\u001b[0m\u001b[0m\n\u001b[1;32m----> 5\u001b[1;33m     \u001b[0mdivision\u001b[0m\u001b[1;33m(\u001b[0m\u001b[1;36m1\u001b[0m\u001b[1;33m,\u001b[0m \u001b[1;36m0\u001b[0m\u001b[1;33m)\u001b[0m\u001b[1;33m\u001b[0m\u001b[1;33m\u001b[0m\u001b[0m\n\u001b[0m\u001b[0;32m      6\u001b[0m \u001b[1;33m\u001b[0m\u001b[0m\n\u001b[0;32m      7\u001b[0m \u001b[0mcalcular\u001b[0m\u001b[1;33m(\u001b[0m\u001b[1;33m)\u001b[0m\u001b[1;33m\u001b[0m\u001b[1;33m\u001b[0m\u001b[0m\n",
      "\u001b[1;32m~\\AppData\\Local\\Temp/ipykernel_13208/1088510525.py\u001b[0m in \u001b[0;36mdivision\u001b[1;34m(a, b)\u001b[0m\n\u001b[0;32m      1\u001b[0m \u001b[1;32mdef\u001b[0m \u001b[0mdivision\u001b[0m\u001b[1;33m(\u001b[0m\u001b[0ma\u001b[0m\u001b[1;33m,\u001b[0m \u001b[0mb\u001b[0m\u001b[1;33m)\u001b[0m\u001b[1;33m:\u001b[0m\u001b[1;33m\u001b[0m\u001b[1;33m\u001b[0m\u001b[0m\n\u001b[1;32m----> 2\u001b[1;33m     \u001b[1;32mreturn\u001b[0m \u001b[0ma\u001b[0m \u001b[1;33m/\u001b[0m \u001b[0mb\u001b[0m\u001b[1;33m\u001b[0m\u001b[1;33m\u001b[0m\u001b[0m\n\u001b[0m\u001b[0;32m      3\u001b[0m \u001b[1;33m\u001b[0m\u001b[0m\n\u001b[0;32m      4\u001b[0m \u001b[1;32mdef\u001b[0m \u001b[0mcalcular\u001b[0m\u001b[1;33m(\u001b[0m\u001b[1;33m)\u001b[0m\u001b[1;33m:\u001b[0m\u001b[1;33m\u001b[0m\u001b[1;33m\u001b[0m\u001b[0m\n\u001b[0;32m      5\u001b[0m     \u001b[0mdivision\u001b[0m\u001b[1;33m(\u001b[0m\u001b[1;36m1\u001b[0m\u001b[1;33m,\u001b[0m \u001b[1;36m0\u001b[0m\u001b[1;33m)\u001b[0m\u001b[1;33m\u001b[0m\u001b[1;33m\u001b[0m\u001b[0m\n",
      "\u001b[1;31mZeroDivisionError\u001b[0m: division by zero"
     ]
    }
   ],
   "source": [
    "def division(a, b):\n",
    "    return a / b\n",
    "\n",
    "def calcular():\n",
    "    division(1, 0)\n",
    "    \n",
    "calcular()"
   ]
  },
  {
   "cell_type": "markdown",
   "metadata": {},
   "source": [
    "Lo primero que se muestra es el trazado de pila o traceback, que consiste en una lista con las llamadas que provocaron la excepción. Como vemos en el trazado de pila, el error estuvo causado por la llamada a\n",
    "calcular() de la línea 7, que a su vez llama a division(1, 0) en la\n",
    "línea 5 y en última instancia por la ejecución de la sentencia a / b de\n",
    "la línea 2 de division.\n",
    "\n",
    "A continuación vemos el tipo de la excepción, ZeroDivisionError,\n",
    "junto a una descripción del error: “division by zero”\n",
    "(módulo o división entre cero).\n",
    "\n",
    "En Python se utiliza una construcción try-except para capturar y\n",
    "tratar las excepciones. El bloque try (intentar) define el fragmento de\n",
    "código en el que creemos que podría producirse una excepción. El bloque except (excepción) permite indicar el tratamiento que se llevará a\n",
    "cabo de producirse dicha excepción. Muchas veces nuestro tratamiento\n",
    "de la excepción consistirá simplemente en imprimir un mensaje más\n",
    "amigable para el usuario, otras veces nos interesará registrar los errores\n",
    "y de vez en cuando podremos establecer una estrategia de resolución\n",
    "del problema.\n",
    "\n",
    "En el siguiente ejemplo intentamos crear un objeto f de tipo fichero.\n",
    "De no existir el archivo pasado como parámetro, se lanza una excepción de tipo IOError, que capturamos gracias a nuestro try-except:"
   ]
  },
  {
   "cell_type": "code",
   "execution_count": 92,
   "metadata": {},
   "outputs": [
    {
     "name": "stdout",
     "output_type": "stream",
     "text": [
      "El archivo no existe\n"
     ]
    }
   ],
   "source": [
    "try:\n",
    "    f = file('archivo.txt')\n",
    "except:\n",
    "    print('El archivo no existe')"
   ]
  },
  {
   "cell_type": "markdown",
   "metadata": {},
   "source": [
    "Python permite utilizar varios except para un solo bloque try, de\n",
    "forma que podamos dar un tratamiento distinto a la excepción dependiendo del tipo de excepción de la que se trate. Esto es una buena\n",
    "práctica, y es tan sencillo como indicar el nombre del tipo a continuación del except:"
   ]
  },
  {
   "cell_type": "code",
   "execution_count": 93,
   "metadata": {},
   "outputs": [
    {
     "name": "stdout",
     "output_type": "stream",
     "text": [
      "El valor no es un numero\n"
     ]
    }
   ],
   "source": [
    "try:\n",
    "    num = int('3a')\n",
    "except NameError:\n",
    "    print('La variable no existe')\n",
    "except ValueError: \n",
    "    print('El valor no es un numero')"
   ]
  },
  {
   "cell_type": "markdown",
   "metadata": {},
   "source": [
    "Cuando se lanza una excepción en el bloque try, se busca en cada una\n",
    "de las clausulas except un manejador adecuado para el tipo de error\n",
    "que se produjo. En caso de que no se encuentre, se propaga la excepción.\n",
    "\n",
    "Además podemos hacer que un mismo except sirva para tratar más\n",
    "de una excepción usando una tupla para listar los tipos de error que\n",
    "queremos que trate el bloque:"
   ]
  },
  {
   "cell_type": "code",
   "execution_count": 94,
   "metadata": {},
   "outputs": [
    {
     "name": "stdout",
     "output_type": "stream",
     "text": [
      "Ocurrio un error\n"
     ]
    }
   ],
   "source": [
    "try:\n",
    "    num = int('3a')\n",
    "except (NameError, ValueError):\n",
    "    print('Ocurrio un error')\n"
   ]
  },
  {
   "cell_type": "markdown",
   "metadata": {},
   "source": [
    "La construcción try-except puede contar además con una clausula\n",
    "else, que define un fragmento de código a ejecutar sólo si no se ha\n",
    "producido ninguna excepción en el try.\n",
    "\n",
    "También existe una clausula finally que se ejecuta siempre, se produzca o no una excepción. Esta clausula se suele utilizar, entre otras\n",
    "cosas, para tareas de limpieza.\n",
    "\n",
    "Veamos unos ejemplos:"
   ]
  },
  {
   "cell_type": "code",
   "execution_count": 95,
   "metadata": {},
   "outputs": [
    {
     "name": "stdout",
     "output_type": "stream",
     "text": [
      "Todo esta bien\n"
     ]
    }
   ],
   "source": [
    "# uso de else\n",
    "try:\n",
    "    num = 33\n",
    "except:\n",
    "    print('Hubo un error!')\n",
    "else:\n",
    "    print('Todo esta bien')"
   ]
  },
  {
   "cell_type": "code",
   "execution_count": 100,
   "metadata": {},
   "outputs": [
    {
     "name": "stdout",
     "output_type": "stream",
     "text": [
      "Division por cero\n",
      "Limpiando\n"
     ]
    }
   ],
   "source": [
    "# uso de finally\n",
    "try:\n",
    "    z = 10 / 0\n",
    "except ZeroDivisionError:\n",
    "    print('Division por cero')\n",
    "finally:\n",
    "    print('Limpiando')"
   ]
  },
  {
   "cell_type": "markdown",
   "metadata": {},
   "source": [
    "También es interesante comentar que como programadores podemos\n",
    "crear y lanzar nuestras propias excepciones. Basta crear una clase que\n",
    "herede de Exception o cualquiera de sus hijas y lanzarla con raise:"
   ]
  },
  {
   "cell_type": "code",
   "execution_count": 104,
   "metadata": {},
   "outputs": [
    {
     "name": "stdout",
     "output_type": "stream",
     "text": [
      "Error33\n"
     ]
    }
   ],
   "source": [
    "# definicion\n",
    "class MiError(Exception):\n",
    "    def __init__(self, valor):\n",
    "        self.valor = valor\n",
    "    def __str__(self):\n",
    "        return 'Error' + str(self.valor)\n",
    "\n",
    "# encapsulamiento\n",
    "try:\n",
    "    if 21 > 20:\n",
    "        raise MiError(33)\n",
    "except MiError as e:\n",
    "    print(e)\n"
   ]
  },
  {
   "cell_type": "markdown",
   "metadata": {},
   "source": [
    "En el siguiente enlace de la documentación de Python podrá encontrar todas las erramientas por defecto del lenguaje: https://docs.python.org/3/library/exceptions.html"
   ]
  },
  {
   "cell_type": "markdown",
   "metadata": {},
   "source": [
    "### ENUNCIADO PROBLEMA DE EXCEPCIONES"
   ]
  },
  {
   "cell_type": "markdown",
   "metadata": {},
   "source": [
    "## 8 MÓDULOS Y PAQUETES"
   ]
  },
  {
   "cell_type": "markdown",
   "metadata": {},
   "source": [
    "### 8.1 Módulos\n",
    "Para facilitar el mantenimiento y la lectura los programas demasiado\n",
    "largos pueden dividirse en módulos, agrupando elementos relacionados. Los módulos son entidades que permiten una organización y división lógica de nuestro código. Los ficheros son su contrapartida física:\n",
    "cada archivo Python almacenado en disco equivale a un módulo.\n",
    "\n",
    "Si quisiéramos utilizar la funcionalidad definida en un módulo en\n",
    "nuestro programa tendríamos que importarlo. Para importar un módulo se utiliza la palabra clave import seguida del nombre del módulo,\n",
    "que consiste en el nombre del archivo menos la extensión.\n",
    "\n",
    "El import no solo hace que tengamos disponible todo lo definido\n",
    "dentro del módulo (objetos, funciones, etc), sino que también ejecuta el código del módulo.\n",
    "\n",
    "La clausula import también permite importar varios módulos en la\n",
    "misma línea. En el siguiente ejemplo podemos ver cómo se importa\n",
    "con una sola clausula import los módulos de la distribución por defecto\n",
    "de Python os, que engloba funcionalidad relativa al sistema operativo;\n",
    "sys, con funcionalidad relacionada con el propio intérprete de Python\n",
    "y time, en el que se almacenan funciones para manipular fechas y\n",
    "horas."
   ]
  },
  {
   "cell_type": "code",
   "execution_count": 106,
   "metadata": {},
   "outputs": [
    {
     "name": "stdout",
     "output_type": "stream",
     "text": [
      "Fri Mar 18 15:57:40 2022\n"
     ]
    }
   ],
   "source": [
    "import os, sys, time\n",
    "print(time.asctime())"
   ]
  },
  {
   "cell_type": "markdown",
   "metadata": {},
   "source": [
    "Como vemos, es necesario preceder el nombre de\n",
    "los objetos que importamos de un módulo con el nombre del módulo\n",
    "al que pertenecen, o lo que es lo mismo, el espacio de nombres en el\n",
    "que se encuentran. Esto permite que no sobreescribamos accidentalmente algún otro objeto que tuviera el mismo nombre al importar otro\n",
    "módulo.\n",
    "\n",
    "Sin embargo es posible utilizar la construcción from-import para\n",
    "ahorrarnos el tener que indicar el nombre del módulo antes del objeto\n",
    "que nos interesa. De esta forma se importa el objeto o los objetos que\n",
    "indiquemos al espacio de nombres actual y, unque se considera una mala práctica, también es posible importar\n",
    "todos los nombres del módulo al espacio de nombres actual usando el\n",
    "caracter *."
   ]
  },
  {
   "cell_type": "code",
   "execution_count": 107,
   "metadata": {},
   "outputs": [
    {
     "name": "stdout",
     "output_type": "stream",
     "text": [
      "Fri Mar 18 15:58:46 2022\n"
     ]
    }
   ],
   "source": [
    "from time import asctime\n",
    "print(asctime())"
   ]
  },
  {
   "cell_type": "markdown",
   "metadata": {},
   "source": [
    "Si hemos creado un módulo en el mismo directorio de ficheros en el que estamos trabajando y tratamos importarlo desde otro fichero dentro de ese mismo directorio, Python no tendrá problema en importarlo, pero entonces, ¿cómo podemos importar los módulos os, sys o time si no se encuentran los archivos os.py, sys.py y time.py en el mismo directorio?\n",
    "\n",
    "A la hora de importar un módulo Python recorre todos los directorios\n",
    "indicados en la variable de entorno PYTHONPATH en busca de un archivo\n",
    "con el nombre adecuado. El valor de la variable PYTHONPATH se puede\n",
    "consultar desde Python mediante sys.path"
   ]
  },
  {
   "cell_type": "code",
   "execution_count": 109,
   "metadata": {},
   "outputs": [],
   "source": [
    "# sys.path"
   ]
  },
  {
   "cell_type": "markdown",
   "metadata": {},
   "source": [
    "De esta forma para que nuestro módulo estuviera disponible para\n",
    "todos los programas del sistema bastaría con que lo copiáramos a uno\n",
    "de los directorios indicados en PYTHONPATH.\n",
    "\n",
    "En el caso de que Python no encontrara ningún módulo con el nombre especificado, se lanzaría una excepción de tipo ImportError."
   ]
  },
  {
   "cell_type": "markdown",
   "metadata": {},
   "source": [
    "### 8.2 Paquetes\n",
    "Si los módulos sirven para organizar el código, los paquetes sirven para\n",
    "organizar los módulos. Los paquetes son tipos especiales de módulos\n",
    "(ambos son de tipo module) que permiten agrupar módulos relacionados. \n",
    "Mientras los módulos se corresponden a nivel físico con los\n",
    "archivos, los paquetes se representan mediante directorios.\n",
    "\n",
    "En una aplicación cualquiera podríamos tener, por ejemplo, un paquete iu para la interfaz o un paquete bbdd para la persistencia a base de\n",
    "datos.\n",
    "\n",
    "Para hacer que Python trate a un directorio como un paquete es necesario crear un archivo \\__init__.py en dicha carpeta. En este archivo se\n",
    "pueden definir elementos que pertenezcan a dicho paquete, como una\n",
    "constante DRIVER para el paquete bbdd, aunque habitualmente se tratará de un archivo vacío. Para hacer que un cierto módulo se encuentre\n",
    "dentro de un paquete, basta con copiar el archivo que define el módulo\n",
    "al directorio del paquete.\n",
    "\n",
    "Como los modulos, para importar paquetes también se utiliza import\n",
    "y from-import y el caracter . para separar paquetes, subpaquetes y\n",
    "módulos."
   ]
  },
  {
   "cell_type": "code",
   "execution_count": 111,
   "metadata": {},
   "outputs": [],
   "source": [
    "# EJEMPLO:\n",
    "# import paq.subpaq.modulo\n",
    "# paq.subpaq.modulo.func()"
   ]
  },
  {
   "cell_type": "markdown",
   "metadata": {},
   "source": [
    "### ENUNCIADO PROBLEMA MODULOS Y PAQUETES"
   ]
  },
  {
   "cell_type": "markdown",
   "metadata": {},
   "source": [
    "## 9 ENTRADA / SALIDA Y FICHEROS\n",
    "Nuestros programas serían de muy poca utilidad si no fueran capaces\n",
    "de interaccionar con el usuario. En capítulos anteriores vimos, de pasada, el uso de la palabra clave print para mostrar mensajes en pantalla.\n",
    "\n",
    "En esta lección, además de describir más detalladamente del uso de\n",
    "print para mostrar mensajes al usuario, aprenderemos a utilizar las\n",
    "funciones input y raw_input para pedir información, así como los\n",
    "argumentos de línea de comandos y, por último, la entrada/salida de\n",
    "ficheros."
   ]
  },
  {
   "cell_type": "markdown",
   "metadata": {},
   "source": [
    "### 9.1 Entrada Estándar\n",
    "La forma más sencilla de obtener información por parte del usuario\n",
    "es mediante la función \"input\". Esta función toma como parámetro una cadena a usar como prompt (es decir, como texto a mostrar al\n",
    "usuario pidiendo la entrada) y devuelve una cadena con los caracteres\n",
    "introducidos por el usuario hasta que pulsó la tecla Enter. Veamos un\n",
    "pequeño ejemplo:"
   ]
  },
  {
   "cell_type": "code",
   "execution_count": 1,
   "metadata": {},
   "outputs": [
    {
     "name": "stdout",
     "output_type": "stream",
     "text": [
      "Como te llamas?Alberto\n",
      "Encantado, Alberto\n"
     ]
    }
   ],
   "source": [
    "nombre = input('Como te llamas?')\n",
    "print('Encantado, ' + nombre)"
   ]
  },
  {
   "cell_type": "markdown",
   "metadata": {},
   "source": [
    "Si se quiere que Python interprete la entrada como un número, se debe utilizar la función int() o float() según el tipo a manejar de la siguiente manera:"
   ]
  },
  {
   "cell_type": "code",
   "execution_count": 2,
   "metadata": {},
   "outputs": [
    {
     "name": "stdout",
     "output_type": "stream",
     "text": [
      "Dígame un número: 10\n",
      "10\n"
     ]
    }
   ],
   "source": [
    "num = int(input(\"Dígame un número: \"))\n",
    "print(num)"
   ]
  },
  {
   "cell_type": "code",
   "execution_count": 3,
   "metadata": {},
   "outputs": [
    {
     "name": "stdout",
     "output_type": "stream",
     "text": [
      "Dígame un número: 10.2\n",
      "10.2\n"
     ]
    }
   ],
   "source": [
    "num = float(input(\"Dígame un número: \"))\n",
    "print(num)"
   ]
  },
  {
   "cell_type": "markdown",
   "metadata": {},
   "source": [
    "### 9.2 Salida Estándar\n",
    "La salida estándar es el resultado de un programa que se quiere mostrar en pantalla al usuario:\n",
    "\n",
    "La forma más sencilla de mostrar algo en la salida estándar es mediante el uso de la sentencia print, como hemos visto multitud de veces en ejemplos anteriores.\n",
    "\n",
    "La función Python print() toma cualquier número de parámetros y los imprime en una línea de texto. Cada uno de los elementos se convierte a formato de texto, separados por espacios, y hay un único '\\n'al final (el carácter de \"nueva línea\"). Cuando se llama con cero parámetros, print() simplemente imprime '\\n'y nada más. "
   ]
  },
  {
   "cell_type": "code",
   "execution_count": 5,
   "metadata": {},
   "outputs": [
    {
     "name": "stdout",
     "output_type": "stream",
     "text": [
      "palabra -2\n"
     ]
    }
   ],
   "source": [
    "print('palabra', -2)"
   ]
  },
  {
   "cell_type": "markdown",
   "metadata": {},
   "source": [
    "Por defecto, print() separa los elementos por espacios. El parámetro opcional sep=establece un texto separador diferente:"
   ]
  },
  {
   "cell_type": "code",
   "execution_count": 9,
   "metadata": {},
   "outputs": [
    {
     "name": "stdout",
     "output_type": "stream",
     "text": [
      "prueba*de*sep\n"
     ]
    }
   ],
   "source": [
    "print('prueba', 'de', 'sep', sep='*')"
   ]
  },
  {
   "cell_type": "markdown",
   "metadata": {},
   "source": [
    "### 9.3 Archivos\n",
    "Los ficheros en Python son objetos de tipo file creados mediante la\n",
    "función open (abrir). Esta función toma como parámetros una cadena\n",
    "con la ruta al fichero a abrir, que puede ser relativa o absoluta; una\n",
    "cadena opcional indicando el modo de acceso (si no se especifica se\n",
    "accede en modo lectura) y, por último, un entero opcional para especificar un tamaño de buffer distinto del utilizado por defecto.\n",
    "\n",
    "El modo de acceso puede ser cualquier combinación lógica de los\n",
    "siguientes modos:\n",
    "\n",
    "-  'r': read, lectura. Abre el archivo en modo lectura. El archivo tiene que existir previamente, en caso contrario se lanzará una excepción de tipo IOError.\n",
    "\n",
    "\n",
    "-  'w': write, escritura. Abre el archivo en modo escritura. Si el archivo no existe se crea. Si existe, sobreescribe el contenido.\n",
    "\n",
    "\n",
    "-  'a': append, añadir. Abre el archivo en modo escritura. Se diferencia del modo ‘w' en que en este caso no se sobreescribe el contenido del archivo, sino que se comienza a escribir al final del archivo.\n",
    "\n",
    "-  'x': create, crear. Crea el archivo con el nombre especificado.\n",
    "\n",
    "Adicionalmente, se puede especificar el formato del archivo:\n",
    "\n",
    "-  'b': binary, binario.\n",
    "\n",
    "\n",
    "-  't': texto, archivo de texto.\n",
    "\n"
   ]
  },
  {
   "cell_type": "code",
   "execution_count": 18,
   "metadata": {},
   "outputs": [],
   "source": [
    "# ejemplo de ejecucion de open:\n",
    "# este archivo no se encuentra en el directorio por lo que generaría\n",
    "# una excepción en caso de ejecutarlo\n",
    "\n",
    "# f = open('nombre_archivo.txt', 'r')"
   ]
  },
  {
   "cell_type": "markdown",
   "metadata": {},
   "source": [
    "**LECTURA DE ARCHIVOS**\n",
    "\n",
    "Una vez abierto el archivo: ara la lectura de archivos se utilizan los métodos read, readline y realines.\n",
    "\n",
    "El método read devuelve una cadena con el contenido del archivo o\n",
    "bien el contenido de los primeros n bytes, si se especifica el tamaño\n",
    "máximo a leer.\n",
    "\n",
    "El método readline sirve para leer las líneas del fichero una por una.\n",
    "Es decir, cada vez que se llama a este método, se devuelve el contenido del archivo desde el puntero hasta que se encuentra un carácter de\n",
    "nueva línea, incluyendo este carácter.\n",
    "\n",
    "Por último, readlines, funciona leyendo todas las líneas del archivo y\n",
    "devolviendo una lista con las líneas leídas."
   ]
  },
  {
   "cell_type": "markdown",
   "metadata": {},
   "source": [
    "**ESCRITURA DE ARCHIVOS**\n",
    "\n",
    "Para la escritura de archivos se utilizan los método write y writelines.\n",
    "Mientras el primero funciona escribiendo en el archivo una cadena de\n",
    "texto que toma como parámetro, el segundo toma como parámetro una\n",
    "lista de cadenas de texto indicando las líneas que queremos escribir en\n",
    "el fichero."
   ]
  },
  {
   "cell_type": "markdown",
   "metadata": {},
   "source": [
    "**MOVIMIENTO DEL PUNTURO DE LECTURA / SCRITURA**\n",
    "\n",
    "Hay situaciones en las que nos puede interesar mover el puntero de\n",
    "lectura/escritura a una posición determinada del archivo. Por ejemplo\n",
    "si queremos empezar a escribir en una posición determinada y no al\n",
    "final o al principio del archivo.\n",
    "\n",
    "Para esto se utiliza el método seek que toma como parámetro un número positivo o negativo a utilizar como desplazamiento. También es\n",
    "posible utilizar un segundo parámetro para indicar desde dónde queremos que se haga el desplazamiento: 0 indicará que el desplazamiento\n",
    "se refiere al principio del fichero (comportamiento por defecto), 1 se\n",
    "refiere a la posición actual, y 2, al final del fichero.\n",
    "\n",
    "Para determinar la posición en la que se encuentra actualmente el\n",
    "puntero se utiliza el método tell(), que devuelve un entero indicando\n",
    "la distancia en bytes desde el principio del fichero."
   ]
  },
  {
   "cell_type": "markdown",
   "metadata": {},
   "source": [
    "### ENUNCIADO PROBLEMA E/S Y FICHEROS"
   ]
  },
  {
   "cell_type": "code",
   "execution_count": null,
   "metadata": {},
   "outputs": [],
   "source": []
  },
  {
   "cell_type": "code",
   "execution_count": null,
   "metadata": {},
   "outputs": [],
   "source": []
  },
  {
   "cell_type": "code",
   "execution_count": null,
   "metadata": {},
   "outputs": [],
   "source": []
  }
 ],
 "metadata": {
  "kernelspec": {
   "display_name": "Python 3",
   "language": "python",
   "name": "python3"
  },
  "language_info": {
   "codemirror_mode": {
    "name": "ipython",
    "version": 3
   },
   "file_extension": ".py",
   "mimetype": "text/x-python",
   "name": "python",
   "nbconvert_exporter": "python",
   "pygments_lexer": "ipython3",
   "version": "3.7.4"
  }
 },
 "nbformat": 4,
 "nbformat_minor": 5
}

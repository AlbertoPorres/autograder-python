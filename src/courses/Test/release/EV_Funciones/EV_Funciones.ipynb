{
 "cells": [
  {
   "cell_type": "markdown",
   "metadata": {
    "deletable": false,
    "editable": false,
    "nbgrader": {
     "cell_type": "markdown",
     "checksum": "41fc395c7c748167c67df9644707c3bd",
     "grade": false,
     "grade_id": "cell-c19d61c6a04e3277",
     "locked": true,
     "schema_version": 3,
     "solution": false,
     "task": false
    }
   },
   "source": [
    "### AUTOEVALUACIÓN FUNCIONES"
   ]
  },
  {
   "cell_type": "markdown",
   "metadata": {
    "deletable": false,
    "editable": false,
    "nbgrader": {
     "cell_type": "markdown",
     "checksum": "8bfbeeb45427b24077fe3ef62a82be48",
     "grade": false,
     "grade_id": "cell-9fcb298d2292b232",
     "locked": true,
     "schema_version": 3,
     "solution": false,
     "task": false
    }
   },
   "source": [
    "**Ejercicio 1**\n",
    "\n",
    "Define una función llamada _area\\_circulo_ la cual calcule el area de la base de un cilindro (círculo) dado el rádio por parámetro y, en caso de no ser pasado este parametro, que telga el valor 10 por defecto:"
   ]
  },
  {
   "cell_type": "code",
   "execution_count": null,
   "metadata": {
    "deletable": false,
    "nbgrader": {
     "cell_type": "code",
     "checksum": "5018fa3fb2a5e437aee0ff9cc4bd13ed",
     "grade": false,
     "grade_id": "cell-3a98f8ea28d51d44",
     "locked": false,
     "schema_version": 3,
     "solution": true,
     "task": false
    }
   },
   "outputs": [],
   "source": [
    "# COMPLETA EL EJERCICIO 1 AQUI\n",
    "# Define la función a continuación, usa el valor de pi como 3.14:\n",
    "\n",
    "def area_circulo(radio):\n",
    "    # YOUR CODE HERE\n",
    "    raise NotImplementedError()"
   ]
  },
  {
   "cell_type": "code",
   "execution_count": null,
   "metadata": {
    "deletable": false,
    "editable": false,
    "nbgrader": {
     "cell_type": "code",
     "checksum": "63d3e53d6affc447ddaa76505de841ef",
     "grade": true,
     "grade_id": "cell-954952c2cd354a46",
     "locked": true,
     "points": 5,
     "schema_version": 3,
     "solution": false,
     "task": false
    }
   },
   "outputs": [],
   "source": [
    "# Ignónereme pero no intente eliminarme, no podrá"
   ]
  },
  {
   "cell_type": "markdown",
   "metadata": {
    "deletable": false,
    "editable": false,
    "nbgrader": {
     "cell_type": "markdown",
     "checksum": "07df017a844db3a6e3eed5b09c6759f0",
     "grade": false,
     "grade_id": "cell-6a40d9b0834e9083",
     "locked": true,
     "schema_version": 3,
     "solution": false,
     "task": false
    }
   },
   "source": [
    "**Ejercicio 2**\n",
    "\n",
    "Define una función llamada _volumen\\_cilindro_ la cual calcule el volumen de un cilindro dado el rádio de la base y su altura por parámetro en ese orden. Utiliza la función _area\\_circulo_ definida en el anterior ejercicio para calcular el área de la base dentro de la función volumen:"
   ]
  },
  {
   "cell_type": "code",
   "execution_count": null,
   "metadata": {
    "deletable": false,
    "nbgrader": {
     "cell_type": "code",
     "checksum": "6c6e9bec5903c5de2fb44423f7a34fb1",
     "grade": false,
     "grade_id": "cell-2e3314a33e65af00",
     "locked": false,
     "schema_version": 3,
     "solution": true,
     "task": false
    }
   },
   "outputs": [],
   "source": [
    "# COMPLETA EL EJERCICIO 2 AQUI\n",
    "\n",
    "def volumen_cilindro(radio, altura):\n",
    "    # YOUR CODE HERE\n",
    "    raise NotImplementedError()"
   ]
  },
  {
   "cell_type": "code",
   "execution_count": null,
   "metadata": {
    "deletable": false,
    "editable": false,
    "nbgrader": {
     "cell_type": "code",
     "checksum": "95f39aa3601751dd1c4ea31ebb989e47",
     "grade": true,
     "grade_id": "cell-3c1157e43302672a",
     "locked": true,
     "points": 5,
     "schema_version": 3,
     "solution": false,
     "task": false
    }
   },
   "outputs": [],
   "source": [
    "# Ignónereme pero no intente eliminarme, no podrá"
   ]
  },
  {
   "cell_type": "markdown",
   "metadata": {
    "deletable": false,
    "editable": false,
    "nbgrader": {
     "cell_type": "markdown",
     "checksum": "2704ae4b07bea288904161c7e208b958",
     "grade": false,
     "grade_id": "cell-90cb0c4140bedd64",
     "locked": true,
     "schema_version": 3,
     "solution": false,
     "task": false
    }
   },
   "source": [
    "**Ejercicio 3**\n",
    "\n",
    "Llama a la función _volumen\\_cilindro_ creada anteriormente para calcular el volumen de un cilindro dados un rádio y una altura:"
   ]
  },
  {
   "cell_type": "code",
   "execution_count": null,
   "metadata": {
    "deletable": false,
    "nbgrader": {
     "cell_type": "code",
     "checksum": "fbf6d5fb4df2c2c8378ff1dbd45d2e6b",
     "grade": false,
     "grade_id": "cell-5b72c725b84e81cb",
     "locked": false,
     "schema_version": 3,
     "solution": true,
     "task": false
    }
   },
   "outputs": [],
   "source": [
    "# COMPLETA EL EJERCICIO 3 AQUI\n",
    "radio_base = 5\n",
    "altura_cilindro = 10\n",
    "\n",
    "# descomenta la siguiente línea llamando a tu función para asignar a la variable solución el volumen del cilindro:\n",
    "# solucion = \n",
    "\n",
    "# Puede eliminar el codigo inferior junto con este comentario\n",
    "# YOUR CODE HERE\n",
    "raise NotImplementedError()"
   ]
  },
  {
   "cell_type": "code",
   "execution_count": null,
   "metadata": {
    "deletable": false,
    "editable": false,
    "nbgrader": {
     "cell_type": "code",
     "checksum": "e955dc60668d53cf2ee89d02fb252620",
     "grade": true,
     "grade_id": "cell-d57386c63deb464d",
     "locked": true,
     "points": 5,
     "schema_version": 3,
     "solution": false,
     "task": false
    }
   },
   "outputs": [],
   "source": [
    "# Ignónereme pero no intente eliminarme, no podrá"
   ]
  },
  {
   "cell_type": "code",
   "execution_count": null,
   "metadata": {},
   "outputs": [],
   "source": []
  }
 ],
 "metadata": {
  "kernelspec": {
   "display_name": "Python 3 (ipykernel)",
   "language": "python",
   "name": "python3"
  },
  "language_info": {
   "codemirror_mode": {
    "name": "ipython",
    "version": 3
   },
   "file_extension": ".py",
   "mimetype": "text/x-python",
   "name": "python",
   "nbconvert_exporter": "python",
   "pygments_lexer": "ipython3",
   "version": "3.9.7"
  }
 },
 "nbformat": 4,
 "nbformat_minor": 2
}

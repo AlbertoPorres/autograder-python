{
 "cells": [
  {
   "cell_type": "markdown",
   "metadata": {
    "nbgrader": {
     "grade": false,
     "grade_id": "cell-33ab73b8ffac4d46",
     "locked": true,
     "schema_version": 3,
     "solution": false,
     "task": false
    }
   },
   "source": [
    "### AUTOEVALUACIÓN INTRODUCCIÓN A PYTHON"
   ]
  },
  {
   "cell_type": "markdown",
   "metadata": {
    "nbgrader": {
     "grade": false,
     "grade_id": "cell-36d219bf1c207421",
     "locked": true,
     "schema_version": 3,
     "solution": false,
     "task": false
    }
   },
   "source": [
    "**Ejercicio 1**\n",
    "\n",
    "Realiza la siguiente asignación de variables:\n",
    "- Una variable numérica entera de nombre _mi\\_entero_ con el valor 100.\n",
    "\n",
    "- Una variable numérica en octal de nombre _mi\\_octal_ con valor 20 (16 en decimal).\n",
    "\n",
    "- Una cadena de nombre _mi\\_cadena_ con el contenido \"Hola Python\", asegurate de respetar mayusculas y el espacio intermedio y de no dejar espacios al principio y al final.\n",
    "\n",
    "- Una variable booleana de nombre _mi\\_bool_ con valor True.\n",
    "\n",
    "Respeta los nombres de las variables y los valores pedidos:"
   ]
  },
  {
   "cell_type": "code",
   "execution_count": 1,
   "metadata": {
    "nbgrader": {
     "grade": false,
     "grade_id": "cell-3cb04eba55b6d59d",
     "locked": false,
     "schema_version": 3,
     "solution": true,
     "task": false
    }
   },
   "outputs": [],
   "source": [
    "# COMPLETA EL EJERCICIO 1 AQUI\n",
    "# Descomenta la siguiente linea y completa tu variable entera:\n",
    "mi_entero = \n",
    "# Descomenta la siguiente linea y completa tu variable octal:\n",
    "mi_octal = \n",
    "# Descomenta la siguiente linea y completa tu cadena:\n",
    "mi_cadena = \n",
    "# Descomenta la siguiente linea y completa tu booleano:\n",
    "mi_bool = \n",
    "\n",
    "# Puede eliminar el codigo inferior junto con este comentario\n",
    "### BEGIN SOLUTION\n",
    " # Esta sección ha sido introducida para que el texto de encima no sea eliminado al\n",
    " # generarse la tarea\n",
    "### END SOLUTION"
   ]
  },
  {
   "cell_type": "code",
   "execution_count": 2,
   "metadata": {
    "nbgrader": {
     "grade": true,
     "grade_id": "cell-bf76ba2e7507e82d",
     "locked": true,
     "points": 5,
     "schema_version": 3,
     "solution": false,
     "task": false
    }
   },
   "outputs": [],
   "source": [
    "# Ignónereme pero no intente eliminarme, no podrá\n",
    "# BEGIN HIDDEN TESTS \n",
    "assert(mi_entero == 100)\n",
    "assert(mi_octal  == 16)\n",
    "assert(mi_octal  == 0o20)\n",
    "assert(mi_cadena == \"Hola Python\")\n",
    "assert(mi_bool)\n",
    "# END HIDDEN TESTS "
   ]
  },
  {
   "cell_type": "markdown",
   "metadata": {
    "nbgrader": {
     "grade": false,
     "grade_id": "cell-3c1e97cdde985c94",
     "locked": true,
     "schema_version": 3,
     "solution": false,
     "task": false
    }
   },
   "source": [
    "**Ejercicio 2**\n",
    "\n",
    "Dado el radio de la base de un cilindro y su altura (en cm) calcula el area de su base y posteriormente el volumen de dicho cilindro:"
   ]
  },
  {
   "cell_type": "code",
   "execution_count": 3,
   "metadata": {
    "nbgrader": {
     "grade": false,
     "grade_id": "cell-924b55d5e9ccab8d",
     "locked": false,
     "schema_version": 3,
     "solution": true,
     "task": false
    }
   },
   "outputs": [],
   "source": [
    "# COMPLETA EL EJERCICIO 2 AQUI\n",
    "radio = 6\n",
    "pi = 3.14\n",
    "altura = 20\n",
    "\n",
    "# Descomenta la siguiente linea y calcula el area de la base\n",
    "# area_base = \n",
    "\n",
    "# Descomenta la siguiente linea y calcula el volumen usando el area de la base calculado anteriormente\n",
    "# volumen = \n",
    "\n",
    "\n",
    "# Puede eliminar el codigo inferior junto con este comentario\n",
    "### BEGIN SOLUTION\n",
    " # Esta sección ha sido introducida para que el texto de encima no sea eliminado al\n",
    " # generarse la tarea\n",
    "### END SOLUTION"
   ]
  },
  {
   "cell_type": "code",
   "execution_count": 4,
   "metadata": {
    "nbgrader": {
     "grade": true,
     "grade_id": "cell-0afd55718551d970",
     "locked": true,
     "points": 5,
     "schema_version": 3,
     "solution": false,
     "task": false
    }
   },
   "outputs": [],
   "source": [
    "# Ignónereme pero no intente eliminarme, no podrá\n",
    "# BEGIN HIDDEN TESTS \n",
    "assert(area_base == 113.04)\n",
    "assert(volumen  == 2260.8)\n",
    "# END HIDDEN TESTS "
   ]
  },
  {
   "cell_type": "markdown",
   "metadata": {
    "nbgrader": {
     "grade": false,
     "grade_id": "cell-de10e07f453248c0",
     "locked": true,
     "schema_version": 3,
     "solution": false,
     "task": false
    }
   },
   "source": [
    "**Ejercicio 3**\n",
    "\n",
    "Dada una variable _A_ con un valor asignado, y una variable _B_ con otro valor asignado, intercambia el valor de estas dos variables de manera que el contenido de _A_ pase a  _B_  y viceversa mediante el uso de otra variable externa llamada _C_:"
   ]
  },
  {
   "cell_type": "code",
   "execution_count": 5,
   "metadata": {
    "nbgrader": {
     "grade": false,
     "grade_id": "cell-edad94cd683b03c0",
     "locked": false,
     "schema_version": 3,
     "solution": true,
     "task": false
    }
   },
   "outputs": [],
   "source": [
    "# COMPLETA EL EJERCICIO 3 AQUI\n",
    "A = 10\n",
    "B = 50\n",
    "\n",
    "# Realiza el intercambio a continuación usando una variable de nombre C (descomentala):\n",
    "# C = \n",
    "\n",
    "\n",
    "# Puede eliminar el codigo inferior junto con este comentario\n",
    "### BEGIN SOLUTION\n",
    " # Esta sección ha sido introducida para que el texto de encima no sea eliminado al\n",
    " # generarse la tarea\n",
    "### END SOLUTION"
   ]
  },
  {
   "cell_type": "code",
   "execution_count": 6,
   "metadata": {
    "nbgrader": {
     "grade": true,
     "grade_id": "cell-c2e4ef6d83ac395c",
     "locked": true,
     "points": 5,
     "schema_version": 3,
     "solution": false,
     "task": false
    }
   },
   "outputs": [],
   "source": [
    "# Ignónereme pero no intente eliminarme, no podrá\n",
    "assert(A == 50)\n",
    "assert(B == 10)\n",
    "assert(C == 50 or C == 10)"
   ]
  },
  {
   "cell_type": "markdown",
   "metadata": {
    "nbgrader": {
     "grade": false,
     "grade_id": "cell-8e876fedd3f11709",
     "locked": true,
     "schema_version": 3,
     "solution": false,
     "task": false
    }
   },
   "source": [
    "**Ejercicio 4**\n",
    "\n",
    "Coloca paréntesis () en la siguiente expresión para que se corresponda con la fórmula del area de un trapecio. Recuerda que el area del trapecio es la suma de las bases por la altura dividido entre dos:"
   ]
  },
  {
   "cell_type": "code",
   "execution_count": 7,
   "metadata": {
    "nbgrader": {
     "grade": false,
     "grade_id": "cell-835f3ebb7dda8652",
     "locked": false,
     "schema_version": 3,
     "solution": true,
     "task": false
    }
   },
   "outputs": [],
   "source": [
    "# COMPLETA EL EJERCICIO 3 AQUI\n",
    "base_mayor = 10\n",
    "base_menor = 4\n",
    "altura_tr = 4\n",
    "# Coloca los parentesis de forma correcta:\n",
    "area_tr = base_mayor + base_menor * altura_tr  / 2\n",
    "\n",
    "\n",
    "# Puede eliminar el codigo inferior junto con este comentario\n",
    "### BEGIN SOLUTION\n",
    " # Esta sección ha sido introducida para que el texto de encima no sea eliminado al\n",
    " # generarse la tarea\n",
    "### END SOLUTION"
   ]
  },
  {
   "cell_type": "code",
   "execution_count": 8,
   "metadata": {
    "nbgrader": {
     "grade": true,
     "grade_id": "cell-5b5576449acf44b4",
     "locked": true,
     "points": 5,
     "schema_version": 3,
     "solution": false,
     "task": false
    }
   },
   "outputs": [],
   "source": [
    "# Ignónereme pero no intente eliminarme, no podrá\n",
    "# BEGIN HIDDEN TESTS \n",
    "assert(area_tr == 28.0)\n",
    "# END HIDDEN TESTS "
   ]
  },
  {
   "cell_type": "code",
   "execution_count": null,
   "metadata": {
    "nbgrader": {
     "grade": false,
     "grade_id": "cell-b1ed1e56fc644453",
     "locked": true,
     "schema_version": 3,
     "solution": false,
     "task": false
    }
   },
   "outputs": [],
   "source": []
  }
 ],
 "metadata": {
  "celltoolbar": "Create Assignment",
  "kernelspec": {
   "display_name": "Python 3 (ipykernel)",
   "language": "python",
   "name": "python3"
  },
  "language_info": {
   "codemirror_mode": {
    "name": "ipython",
    "version": 3
   },
   "file_extension": ".py",
   "mimetype": "text/x-python",
   "name": "python",
   "nbconvert_exporter": "python",
   "pygments_lexer": "ipython3",
   "version": "3.9.7"
  }
 },
 "nbformat": 4,
 "nbformat_minor": 2
}

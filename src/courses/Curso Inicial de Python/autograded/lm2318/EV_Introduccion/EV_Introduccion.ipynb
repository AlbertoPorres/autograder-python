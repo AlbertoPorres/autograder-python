{
 "cells": [
  {
   "cell_type": "markdown",
   "metadata": {
    "deletable": false,
    "editable": false,
    "nbgrader": {
     "cell_type": "markdown",
     "checksum": "c4aaeba506f72c8047790b19d2dd2e4e",
     "grade": false,
     "grade_id": "cell-33ab73b8ffac4d46",
     "locked": true,
     "schema_version": 3,
     "solution": false,
     "task": false
    }
   },
   "source": [
    "### AUTOEVALUACIÓN INTRODUCCIÓN A PYTHON"
   ]
  },
  {
   "cell_type": "markdown",
   "metadata": {
    "deletable": false,
    "editable": false,
    "nbgrader": {
     "cell_type": "markdown",
     "checksum": "9a2e3c8022b8f1f95039f969d9ed8cf1",
     "grade": false,
     "grade_id": "cell-36d219bf1c207421",
     "locked": true,
     "schema_version": 3,
     "solution": false,
     "task": false
    }
   },
   "source": [
    "**Ejercicio 1**\n",
    "\n",
    "Realiza la siguiente asignación de variables:\n",
    "- Una variable numérica entera de nombre _mi\\_entero_ con el valor 100.\n",
    "\n",
    "- Una variable numérica en octal de nombre _mi\\_octal_ con valor 20 (16 en decimal).\n",
    "\n",
    "- Una cadena de nombre _mi\\_cadena_ con el contenido \"Hola Python\", asegurate de respetar mayusculas y el espacio intermedio y de no dejar espacios al principio y al final.\n",
    "\n",
    "- Una variable booleana de nombre _mi\\_bool_ con valor True.\n",
    "\n",
    "Respeta los nombres de las variables y los valores pedidos:"
   ]
  },
  {
   "cell_type": "code",
   "execution_count": 1,
   "metadata": {
    "deletable": false,
    "editable": false,
    "execution": {
     "iopub.execute_input": "2022-06-13T10:24:46.631252Z",
     "iopub.status.busy": "2022-06-13T10:24:46.630858Z",
     "iopub.status.idle": "2022-06-13T10:24:46.666596Z",
     "shell.execute_reply": "2022-06-13T10:24:46.665807Z"
    },
    "nbgrader": {
     "cell_type": "code",
     "checksum": "3c366585ea38ecfff65f20d6dcd8816e",
     "grade": false,
     "grade_id": "cell-3cb04eba55b6d59d",
     "locked": true,
     "schema_version": 3,
     "solution": false,
     "task": false
    }
   },
   "outputs": [
    {
     "ename": "SyntaxError",
     "evalue": "invalid syntax (1950540188.py, line 3)",
     "output_type": "error",
     "traceback": [
      "\u001b[0;36m  Input \u001b[0;32mIn [1]\u001b[0;36m\u001b[0m\n\u001b[0;31m    mi_entero =\u001b[0m\n\u001b[0m                ^\u001b[0m\n\u001b[0;31mSyntaxError\u001b[0m\u001b[0;31m:\u001b[0m invalid syntax\n"
     ]
    }
   ],
   "source": [
    "# COMPLETA EL EJERCICIO 1 AQUI\n",
    "# Descomenta la siguiente linea y completa tu variable entera:\n",
    "mi_entero = \n",
    "# Descomenta la siguiente linea y completa tu variable octal:\n",
    "mi_octal = \n",
    "# Descomenta la siguiente linea y completa tu cadena:\n",
    "mi_cadena = \n",
    "# Descomenta la siguiente linea y completa tu booleano:\n",
    "mi_bool = \n",
    "\n"
   ]
  },
  {
   "cell_type": "code",
   "execution_count": 2,
   "metadata": {
    "execution": {
     "iopub.execute_input": "2022-06-13T10:24:46.671863Z",
     "iopub.status.busy": "2022-06-13T10:24:46.671070Z",
     "iopub.status.idle": "2022-06-13T10:24:46.682925Z",
     "shell.execute_reply": "2022-06-13T10:24:46.682163Z"
    }
   },
   "outputs": [],
   "source": [
    "# Escribe debajo de este comentario tu variable entera:\n",
    "mi_entero = 100\n",
    "# Escribe debajo de este comentario tu variable octal:\n",
    "mi_octal = 0o20\n",
    "# Escribe debajo de este comentario tu cadena:\n",
    "mi_cadena = \"Hola Python\"\n",
    "# Escribe debajo de este comentario tu booleano:\n",
    "mi_bool = True"
   ]
  },
  {
   "cell_type": "code",
   "execution_count": 3,
   "metadata": {
    "deletable": false,
    "editable": false,
    "execution": {
     "iopub.execute_input": "2022-06-13T10:24:46.690241Z",
     "iopub.status.busy": "2022-06-13T10:24:46.689323Z",
     "iopub.status.idle": "2022-06-13T10:24:46.697998Z",
     "shell.execute_reply": "2022-06-13T10:24:46.696976Z"
    },
    "nbgrader": {
     "cell_type": "code",
     "checksum": "a885a0ce15e3d1312461f2e14f307e67",
     "grade": true,
     "grade_id": "cell-bf76ba2e7507e82d",
     "locked": true,
     "points": 5,
     "schema_version": 3,
     "solution": false,
     "task": false
    }
   },
   "outputs": [],
   "source": [
    "# NO EDITE ESTA CELDA\n",
    "# BEGIN HIDDEN TESTS \n",
    "assert(mi_entero == 100)\n",
    "assert(mi_octal  == 16)\n",
    "assert(mi_octal  == 0o20)\n",
    "assert(mi_cadena == \"Hola Python\")\n",
    "assert(mi_bool)\n",
    "# END HIDDEN TESTS "
   ]
  },
  {
   "cell_type": "markdown",
   "metadata": {
    "deletable": false,
    "editable": false,
    "nbgrader": {
     "cell_type": "markdown",
     "checksum": "84065ecd87b00ed669883b3bfae29971",
     "grade": false,
     "grade_id": "cell-3c1e97cdde985c94",
     "locked": true,
     "schema_version": 3,
     "solution": false,
     "task": false
    }
   },
   "source": [
    "**Ejercicio 2**\n",
    "\n",
    "Dado el radio de la base de un cilindro y su altura (en cm) calcula el area de su base y posteriormente el volumen de dicho cilindro:"
   ]
  },
  {
   "cell_type": "code",
   "execution_count": 4,
   "metadata": {
    "deletable": false,
    "editable": false,
    "execution": {
     "iopub.execute_input": "2022-06-13T10:24:46.706876Z",
     "iopub.status.busy": "2022-06-13T10:24:46.706026Z",
     "iopub.status.idle": "2022-06-13T10:24:46.713446Z",
     "shell.execute_reply": "2022-06-13T10:24:46.710513Z"
    },
    "nbgrader": {
     "cell_type": "code",
     "checksum": "db35ecf58d7d9ab8de031f3d30001f09",
     "grade": false,
     "grade_id": "cell-924b55d5e9ccab8d",
     "locked": true,
     "schema_version": 3,
     "solution": false,
     "task": false
    }
   },
   "outputs": [],
   "source": [
    "# COMPLETA EL EJERCICIO 2 AQUI\n",
    "radio = 6\n",
    "pi = 3.14\n",
    "altura = 20\n",
    "\n",
    "# Descomenta la siguiente linea y calcula el area de la base\n",
    "# area_base = \n",
    "\n",
    "# Descomenta la siguiente linea y calcula el volumen usando el area de la base calculado anteriormente\n",
    "# volumen = "
   ]
  },
  {
   "cell_type": "code",
   "execution_count": 5,
   "metadata": {
    "execution": {
     "iopub.execute_input": "2022-06-13T10:24:46.719554Z",
     "iopub.status.busy": "2022-06-13T10:24:46.717381Z",
     "iopub.status.idle": "2022-06-13T10:24:46.734869Z",
     "shell.execute_reply": "2022-06-13T10:24:46.734046Z"
    }
   },
   "outputs": [],
   "source": [
    "# COMPLETA EL EJERCICIO 2 AQUI\n",
    "radio = 6\n",
    "pi = 3.14\n",
    "altura = 20\n",
    "\n",
    "# Descomenta la siguiente linea y calcula el area de la base\n",
    "area_base = pi * (radio**2)\n",
    "\n",
    "# Descomenta la siguiente linea y calcula el volumen usando el area de la base calculado anteriormente\n",
    "volumen = area_base * altura"
   ]
  },
  {
   "cell_type": "code",
   "execution_count": 6,
   "metadata": {
    "deletable": false,
    "editable": false,
    "execution": {
     "iopub.execute_input": "2022-06-13T10:24:46.745214Z",
     "iopub.status.busy": "2022-06-13T10:24:46.740226Z",
     "iopub.status.idle": "2022-06-13T10:24:46.752302Z",
     "shell.execute_reply": "2022-06-13T10:24:46.751341Z"
    },
    "nbgrader": {
     "cell_type": "code",
     "checksum": "d3a2669176443b8aa499624ffe5757fe",
     "grade": true,
     "grade_id": "cell-0afd55718551d970",
     "locked": true,
     "points": 5,
     "schema_version": 3,
     "solution": false,
     "task": false
    }
   },
   "outputs": [],
   "source": [
    "# NO EDITE ESTA CELDA\n",
    "# BEGIN HIDDEN TESTS \n",
    "assert(area_base == 113.04)\n",
    "assert(volumen  == 2260.8)\n",
    "# END HIDDEN TESTS "
   ]
  },
  {
   "cell_type": "markdown",
   "metadata": {
    "deletable": false,
    "editable": false,
    "nbgrader": {
     "cell_type": "markdown",
     "checksum": "d53ee3f5557951721056b9b89df28e4d",
     "grade": false,
     "grade_id": "cell-de10e07f453248c0",
     "locked": true,
     "schema_version": 3,
     "solution": false,
     "task": false
    }
   },
   "source": [
    "**Ejercicio 3**\n",
    "\n",
    "Dada una variable _A_ con un valor asignado, y una variable _B_ con otro valor asignado, intercambia el valor de estas dos variables de manera que el contenido de _A_ pase a  _B_  y viceversa mediante el uso de otra variable externa llamada _C_:"
   ]
  },
  {
   "cell_type": "code",
   "execution_count": 7,
   "metadata": {
    "deletable": false,
    "editable": false,
    "execution": {
     "iopub.execute_input": "2022-06-13T10:24:46.761263Z",
     "iopub.status.busy": "2022-06-13T10:24:46.758648Z",
     "iopub.status.idle": "2022-06-13T10:24:46.770563Z",
     "shell.execute_reply": "2022-06-13T10:24:46.769440Z"
    },
    "nbgrader": {
     "cell_type": "code",
     "checksum": "4cd24e39e0a4554532782d95efdf7c98",
     "grade": false,
     "grade_id": "cell-edad94cd683b03c0",
     "locked": true,
     "schema_version": 3,
     "solution": false,
     "task": false
    }
   },
   "outputs": [],
   "source": [
    "# COMPLETA EL EJERCICIO 3 AQUI\n",
    "A = 10\n",
    "B = 50\n",
    "\n",
    "# Realiza el intercambio a continuación usando una variable de nombre C (descomentala):\n",
    "# C = "
   ]
  },
  {
   "cell_type": "code",
   "execution_count": 8,
   "metadata": {
    "execution": {
     "iopub.execute_input": "2022-06-13T10:24:46.781136Z",
     "iopub.status.busy": "2022-06-13T10:24:46.780757Z",
     "iopub.status.idle": "2022-06-13T10:24:46.785477Z",
     "shell.execute_reply": "2022-06-13T10:24:46.784702Z"
    }
   },
   "outputs": [],
   "source": [
    "# COMPLETA EL EJERCICIO 3 AQUI\n",
    "A = 10\n",
    "B = 50\n",
    "\n",
    "# Realiza el intercambio a continuación usando una variable de nombre C:\n",
    "C = B\n",
    "B = A\n",
    "A = C"
   ]
  },
  {
   "cell_type": "code",
   "execution_count": 9,
   "metadata": {
    "deletable": false,
    "editable": false,
    "execution": {
     "iopub.execute_input": "2022-06-13T10:24:46.793967Z",
     "iopub.status.busy": "2022-06-13T10:24:46.791635Z",
     "iopub.status.idle": "2022-06-13T10:24:46.807360Z",
     "shell.execute_reply": "2022-06-13T10:24:46.805512Z"
    },
    "nbgrader": {
     "cell_type": "code",
     "checksum": "1bc9e2640562705e3cb7fdbf8955afe4",
     "grade": true,
     "grade_id": "cell-c2e4ef6d83ac395c",
     "locked": true,
     "points": 5,
     "schema_version": 3,
     "solution": false,
     "task": false
    }
   },
   "outputs": [],
   "source": [
    "# NO EDITE ESTA CELDA\n",
    "assert(A == 50)\n",
    "assert(B == 10)\n",
    "assert(C == 50 or C == 10)"
   ]
  },
  {
   "cell_type": "markdown",
   "metadata": {
    "deletable": false,
    "editable": false,
    "nbgrader": {
     "cell_type": "markdown",
     "checksum": "268d212b02c34f68a005a0075fbfca88",
     "grade": false,
     "grade_id": "cell-8e876fedd3f11709",
     "locked": true,
     "schema_version": 3,
     "solution": false,
     "task": false
    }
   },
   "source": [
    "**Ejercicio 4**\n",
    "\n",
    "Coloca paréntesis () en la siguiente expresión para que se corresponda con la fórmula del area de un trapecio. Recuerda que el area del trapecio es la suma de las bases por la altura dividido entre dos:"
   ]
  },
  {
   "cell_type": "code",
   "execution_count": 10,
   "metadata": {
    "deletable": false,
    "editable": false,
    "execution": {
     "iopub.execute_input": "2022-06-13T10:24:46.816520Z",
     "iopub.status.busy": "2022-06-13T10:24:46.815286Z",
     "iopub.status.idle": "2022-06-13T10:24:46.822801Z",
     "shell.execute_reply": "2022-06-13T10:24:46.821767Z"
    },
    "nbgrader": {
     "cell_type": "code",
     "checksum": "256382bfd96d52998f78deaef183628e",
     "grade": false,
     "grade_id": "cell-835f3ebb7dda8652",
     "locked": true,
     "schema_version": 3,
     "solution": false,
     "task": false
    }
   },
   "outputs": [],
   "source": [
    "# COMPLETA EL EJERCICIO 3 AQUI\n",
    "base_mayor = 10\n",
    "base_menor = 4\n",
    "altura_tr = 4\n",
    "# Coloca los parentesis de forma correcta:\n",
    "area_tr = base_mayor + base_menor * altura_tr  / 2"
   ]
  },
  {
   "cell_type": "code",
   "execution_count": 11,
   "metadata": {
    "execution": {
     "iopub.execute_input": "2022-06-13T10:24:46.841575Z",
     "iopub.status.busy": "2022-06-13T10:24:46.841247Z",
     "iopub.status.idle": "2022-06-13T10:24:46.854623Z",
     "shell.execute_reply": "2022-06-13T10:24:46.852944Z"
    }
   },
   "outputs": [],
   "source": [
    "# COMPLETA EL EJERCICIO 3 AQUI\n",
    "base_mayor = 10\n",
    "base_menor = 4\n",
    "altura_tr = 4\n",
    "# Coloca los parentesis de forma correcta:\n",
    "area_tr = ((base_mayor + base_menor) * altura_tr ) / 2"
   ]
  },
  {
   "cell_type": "code",
   "execution_count": 12,
   "metadata": {
    "deletable": false,
    "editable": false,
    "execution": {
     "iopub.execute_input": "2022-06-13T10:24:46.861118Z",
     "iopub.status.busy": "2022-06-13T10:24:46.859994Z",
     "iopub.status.idle": "2022-06-13T10:24:46.869097Z",
     "shell.execute_reply": "2022-06-13T10:24:46.868123Z"
    },
    "nbgrader": {
     "cell_type": "code",
     "checksum": "44551c40c6cd53a0c76a68a43a647df0",
     "grade": true,
     "grade_id": "cell-5b5576449acf44b4",
     "locked": true,
     "points": 5,
     "schema_version": 3,
     "solution": false,
     "task": false
    }
   },
   "outputs": [],
   "source": [
    "# NO EDITE ESTA CELDA\n",
    "# BEGIN HIDDEN TESTS \n",
    "assert(area_tr == 28.0)\n",
    "# END HIDDEN TESTS "
   ]
  },
  {
   "cell_type": "code",
   "execution_count": null,
   "metadata": {
    "deletable": false,
    "editable": false,
    "nbgrader": {
     "cell_type": "code",
     "checksum": "c0ab4610a83d7e60ee0e7901cc6f511c",
     "grade": false,
     "grade_id": "cell-b1ed1e56fc644453",
     "locked": true,
     "schema_version": 3,
     "solution": false,
     "task": false
    }
   },
   "outputs": [],
   "source": []
  }
 ],
 "metadata": {
  "kernelspec": {
   "display_name": "Python 3 (ipykernel)",
   "language": "python",
   "name": "python3"
  },
  "language_info": {
   "codemirror_mode": {
    "name": "ipython",
    "version": 3
   },
   "file_extension": ".py",
   "mimetype": "text/x-python",
   "name": "python",
   "nbconvert_exporter": "python",
   "pygments_lexer": "ipython3",
   "version": "3.9.5"
  }
 },
 "nbformat": 4,
 "nbformat_minor": 2
}

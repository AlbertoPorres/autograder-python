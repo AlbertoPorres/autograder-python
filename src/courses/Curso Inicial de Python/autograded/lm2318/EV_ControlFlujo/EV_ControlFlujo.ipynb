{
 "cells": [
  {
   "cell_type": "markdown",
   "metadata": {
    "deletable": false,
    "editable": false,
    "nbgrader": {
     "cell_type": "markdown",
     "checksum": "3578e0115a3105ca321c55ea57f25211",
     "grade": false,
     "grade_id": "cell-23935fb4489febdf",
     "locked": true,
     "schema_version": 3,
     "solution": false,
     "task": false
    }
   },
   "source": [
    "### AUTOEVALUACIÓN CONTROL DE FLUJO\n"
   ]
  },
  {
   "cell_type": "markdown",
   "metadata": {
    "deletable": false,
    "editable": false,
    "nbgrader": {
     "cell_type": "markdown",
     "checksum": "c3e5bf624e890e153c01688405084939",
     "grade": false,
     "grade_id": "cell-40cfb354bc559397",
     "locked": true,
     "schema_version": 3,
     "solution": false,
     "task": false
    }
   },
   "source": [
    "**Ejercicio 1**\n",
    "\n",
    "Completa la siguiente función la cual comprueba si una persona es mayor de edad o no. En caso de ser mayor de edad devolverá True y sino False. La funcion NO ha de calcular si la edad introducida es mayor que 0:"
   ]
  },
  {
   "cell_type": "code",
   "execution_count": 1,
   "metadata": {
    "deletable": false,
    "execution": {
     "iopub.execute_input": "2022-06-13T10:25:27.360057Z",
     "iopub.status.busy": "2022-06-13T10:25:27.359264Z",
     "iopub.status.idle": "2022-06-13T10:25:27.383086Z",
     "shell.execute_reply": "2022-06-13T10:25:27.382184Z"
    },
    "nbgrader": {
     "cell_type": "code",
     "checksum": "da7a206976ce42d2996155cfd62d5177",
     "grade": false,
     "grade_id": "cell-91b62f528ca98b71",
     "locked": false,
     "schema_version": 3,
     "solution": true,
     "task": false
    }
   },
   "outputs": [],
   "source": [
    "# COMPLETA EL EJERCICIO 1 AQUI\n",
    "\n",
    "def es_mayor_edad(edad):\n",
    "    # YOUR CODE HERE\n",
    "    if edad < 18:\n",
    "        return False\n",
    "    else:\n",
    "        return True"
   ]
  },
  {
   "cell_type": "code",
   "execution_count": 2,
   "metadata": {
    "deletable": false,
    "editable": false,
    "execution": {
     "iopub.execute_input": "2022-06-13T10:25:27.393056Z",
     "iopub.status.busy": "2022-06-13T10:25:27.391227Z",
     "iopub.status.idle": "2022-06-13T10:25:27.400641Z",
     "shell.execute_reply": "2022-06-13T10:25:27.399731Z"
    },
    "nbgrader": {
     "cell_type": "code",
     "checksum": "e1ab0289c0ffadc50fdba0dd99a2c73a",
     "grade": true,
     "grade_id": "cell-d607e8394b4add72",
     "locked": true,
     "points": 5,
     "schema_version": 3,
     "solution": false,
     "task": false
    }
   },
   "outputs": [],
   "source": [
    "# NO EDITE ESTA CELDA\n",
    "### BEGIN HIDDEN TESTS\n",
    "assert(not es_mayor_edad(0))\n",
    "assert(not es_mayor_edad(-10))\n",
    "assert(not es_mayor_edad(3.2))\n",
    "assert(not es_mayor_edad(17))\n",
    "assert(es_mayor_edad(18))\n",
    "assert(es_mayor_edad(50.8))\n",
    "assert(es_mayor_edad(0o200))\n",
    "assert(not es_mayor_edad(True))\n",
    "assert(not es_mayor_edad(True))\n",
    "### END HIDDEN TESTS"
   ]
  },
  {
   "cell_type": "markdown",
   "metadata": {
    "deletable": false,
    "editable": false,
    "nbgrader": {
     "cell_type": "markdown",
     "checksum": "bb42969bcdcf2205c101cd4ba028bb0d",
     "grade": false,
     "grade_id": "cell-acb8772bf6419bb4",
     "locked": true,
     "schema_version": 3,
     "solution": false,
     "task": false
    }
   },
   "source": [
    "**Ejercicio 2**\n",
    "\n",
    "Completa la siguiente función la cual define la nota que ha sacado un estudiante según la calificación obtenida.\n",
    "- Si su calificación está entra 0 y 5 (este útimo no incluido) devolverá la cadena 'Suspenso'.\n",
    "- Si su calificación está entra 5 y 6 (este útimo no incluido) devolverá la cadena 'Suficiente'.\n",
    "- Si su calificación está entra 6 y 7 (este útimo no incluido) devolverá la cadena 'Bien'.\n",
    "- Si su calificación está entra 7 y 9 (este útimo no incluido) devolverá la cadena 'Notable'.\n",
    "- Si su calificación está entra 9 y 10 (este útimo incluido) devolverá la cadena 'Sobresaliente'.\n",
    "- Si la calificación es menor que 0 o mayor que 10 devolverá la cadena 'ERROR'."
   ]
  },
  {
   "cell_type": "code",
   "execution_count": 3,
   "metadata": {
    "deletable": false,
    "execution": {
     "iopub.execute_input": "2022-06-13T10:25:27.411248Z",
     "iopub.status.busy": "2022-06-13T10:25:27.409265Z",
     "iopub.status.idle": "2022-06-13T10:25:27.419059Z",
     "shell.execute_reply": "2022-06-13T10:25:27.418277Z"
    },
    "nbgrader": {
     "cell_type": "code",
     "checksum": "3c73411cda4c14667739b5e95e729bec",
     "grade": false,
     "grade_id": "cell-e390abb46479f273",
     "locked": false,
     "schema_version": 3,
     "solution": true,
     "task": false
    }
   },
   "outputs": [],
   "source": [
    "# COMPLETA EL EJERCICIO 2 AQUI\n",
    "\n",
    "def define_nota(calif):\n",
    "    if calif >= 0 and calif < 5:\n",
    "        return \"Suspenso\"\n",
    "    elif calif >= 5 and calif < 6:\n",
    "        return \"Suficiente\"\n",
    "    elif calif >= 6 and calif < 7:\n",
    "        return \"Bien\"\n",
    "    elif calif >= 7 and calif < 9:\n",
    "        return \"Notable\"\n",
    "    elif calif >= 9 and calif <= 10:\n",
    "        return \"Sobresaliente\"\n",
    "    else:\n",
    "        return \"ERROR\""
   ]
  },
  {
   "cell_type": "code",
   "execution_count": 4,
   "metadata": {
    "deletable": false,
    "editable": false,
    "execution": {
     "iopub.execute_input": "2022-06-13T10:25:27.432391Z",
     "iopub.status.busy": "2022-06-13T10:25:27.428465Z",
     "iopub.status.idle": "2022-06-13T10:25:27.462646Z",
     "shell.execute_reply": "2022-06-13T10:25:27.461465Z"
    },
    "nbgrader": {
     "cell_type": "code",
     "checksum": "9bc8891c75ed9d4657e008323057f35b",
     "grade": true,
     "grade_id": "cell-f46c4b2811513ef3",
     "locked": true,
     "points": 5,
     "schema_version": 3,
     "solution": false,
     "task": false
    }
   },
   "outputs": [],
   "source": [
    "# NO EDITE ESTA CELDA\n",
    "### BEGIN HIDDEN TESTS\n",
    "assert(define_nota(-1) == 'ERROR')\n",
    "assert(define_nota(-10) == 'ERROR')\n",
    "assert(define_nota(0) == 'Suspenso')\n",
    "assert(define_nota(4.9) == 'Suspenso')\n",
    "assert(define_nota(5) == 'Suficiente')\n",
    "assert(define_nota(5.9) == 'Suficiente')\n",
    "assert(define_nota(6) == 'Bien')\n",
    "assert(define_nota(6.9) == 'Bien')\n",
    "assert(define_nota(7) == 'Notable')\n",
    "assert(define_nota(8.9) == 'Notable')\n",
    "assert(define_nota(9) == 'Sobresaliente')\n",
    "assert(define_nota(10) == 'Sobresaliente')\n",
    "assert(define_nota(10.1) == 'ERROR')\n",
    "assert(define_nota(100) == 'ERROR')\n",
    "### END HIDDEN TESTS"
   ]
  },
  {
   "cell_type": "markdown",
   "metadata": {
    "deletable": false,
    "editable": false,
    "nbgrader": {
     "cell_type": "markdown",
     "checksum": "bd070386f547e0451716bad5742c5ba5",
     "grade": false,
     "grade_id": "cell-46dd00b887e8072c",
     "locked": true,
     "schema_version": 3,
     "solution": false,
     "task": false
    }
   },
   "source": [
    "**Ejercicio 3**\n",
    "\n",
    "Completa la siguiente función la cual recibe un número y devuelve una lista con todos los números impares desde el 1 hasta el enviado ambos incluidos. Si el número es menor o igual que cero y mayor que 20 devolverá una lista vacía []. Usa un bucle while para resolverlo y recuerda los métodos dados en el tema de listas para ayudarte a resolverlo:"
   ]
  },
  {
   "cell_type": "code",
   "execution_count": 5,
   "metadata": {
    "deletable": false,
    "execution": {
     "iopub.execute_input": "2022-06-13T10:25:27.492396Z",
     "iopub.status.busy": "2022-06-13T10:25:27.480321Z",
     "iopub.status.idle": "2022-06-13T10:25:27.497932Z",
     "shell.execute_reply": "2022-06-13T10:25:27.496749Z"
    },
    "nbgrader": {
     "cell_type": "code",
     "checksum": "ea2c04ebad962d6f3954e7eead0acc69",
     "grade": false,
     "grade_id": "cell-3e195ae40143a93e",
     "locked": false,
     "schema_version": 3,
     "solution": true,
     "task": false
    }
   },
   "outputs": [],
   "source": [
    "# COMPLETA EL EJERCICIO 3 AQUI\n",
    "\n",
    "def impares(num):\n",
    "    # YOUR CODE HERE\n",
    "    raise NotImplementedError()"
   ]
  },
  {
   "cell_type": "code",
   "execution_count": 6,
   "metadata": {
    "deletable": false,
    "editable": false,
    "execution": {
     "iopub.execute_input": "2022-06-13T10:25:27.505815Z",
     "iopub.status.busy": "2022-06-13T10:25:27.503727Z",
     "iopub.status.idle": "2022-06-13T10:25:28.997305Z",
     "shell.execute_reply": "2022-06-13T10:25:28.996509Z"
    },
    "nbgrader": {
     "cell_type": "code",
     "checksum": "a142be521fc16d2a123263323b26b933",
     "grade": true,
     "grade_id": "cell-6e6fcd2de49ab52f",
     "locked": true,
     "points": 5,
     "schema_version": 3,
     "solution": false,
     "task": false
    }
   },
   "outputs": [
    {
     "ename": "NotImplementedError",
     "evalue": "",
     "output_type": "error",
     "traceback": [
      "\u001b[0;31m---------------------------------------------------------------------------\u001b[0m",
      "\u001b[0;31mNotImplementedError\u001b[0m                       Traceback (most recent call last)",
      "Input \u001b[0;32mIn [6]\u001b[0m, in \u001b[0;36m<cell line: 3>\u001b[0;34m()\u001b[0m\n\u001b[1;32m      1\u001b[0m \u001b[38;5;66;03m# NO EDITE ESTA CELDA\u001b[39;00m\n\u001b[1;32m      2\u001b[0m \u001b[38;5;66;03m### BEGIN HIDDEN TESTS\u001b[39;00m\n\u001b[0;32m----> 3\u001b[0m \u001b[38;5;28;01massert\u001b[39;00m(\u001b[43mimpares\u001b[49m\u001b[43m(\u001b[49m\u001b[38;5;241;43m0\u001b[39;49m\u001b[43m)\u001b[49m \u001b[38;5;241m==\u001b[39m [])\n\u001b[1;32m      4\u001b[0m \u001b[38;5;28;01massert\u001b[39;00m(impares(\u001b[38;5;241m-\u001b[39m\u001b[38;5;241m1\u001b[39m) \u001b[38;5;241m==\u001b[39m [])\n\u001b[1;32m      5\u001b[0m \u001b[38;5;28;01massert\u001b[39;00m(impares(\u001b[38;5;241m-\u001b[39m\u001b[38;5;241m5\u001b[39m) \u001b[38;5;241m==\u001b[39m [])\n",
      "Input \u001b[0;32mIn [5]\u001b[0m, in \u001b[0;36mimpares\u001b[0;34m(num)\u001b[0m\n\u001b[1;32m      3\u001b[0m \u001b[38;5;28;01mdef\u001b[39;00m \u001b[38;5;21mimpares\u001b[39m(num):\n\u001b[1;32m      4\u001b[0m     \u001b[38;5;66;03m# YOUR CODE HERE\u001b[39;00m\n\u001b[0;32m----> 5\u001b[0m     \u001b[38;5;28;01mraise\u001b[39;00m \u001b[38;5;167;01mNotImplementedError\u001b[39;00m()\n",
      "\u001b[0;31mNotImplementedError\u001b[0m: "
     ]
    }
   ],
   "source": [
    "# NO EDITE ESTA CELDA\n",
    "### BEGIN HIDDEN TESTS\n",
    "assert(impares(0) == [])\n",
    "assert(impares(-1) == [])\n",
    "assert(impares(-5) == [])\n",
    "assert(impares(21) == [])\n",
    "assert(impares(1) == [1])\n",
    "assert(impares(2) == [1])\n",
    "assert(impares(5) == [1,3,5])\n",
    "assert(impares(20) == [1,3,5,7,9,11,13,15,17,19])\n",
    "### END HIDDEN TESTS"
   ]
  },
  {
   "cell_type": "markdown",
   "metadata": {
    "deletable": false,
    "editable": false,
    "nbgrader": {
     "cell_type": "markdown",
     "checksum": "33d8209904934687354888e8f28271ea",
     "grade": false,
     "grade_id": "cell-f463efac916de66c",
     "locked": true,
     "schema_version": 3,
     "solution": false,
     "task": false
    }
   },
   "source": [
    "**Ejercicio 4**\n",
    "\n",
    "Completa la siguiente función la cual recibe una lista de números enteros y calcula la suma (sumatorio) de todos ellos en valor absoluto. Si la lista está vacia devolverá 0. Usa un bucle for para resolverlo:"
   ]
  },
  {
   "cell_type": "code",
   "execution_count": 7,
   "metadata": {
    "deletable": false,
    "execution": {
     "iopub.execute_input": "2022-06-13T10:25:29.006185Z",
     "iopub.status.busy": "2022-06-13T10:25:29.003190Z",
     "iopub.status.idle": "2022-06-13T10:25:29.015007Z",
     "shell.execute_reply": "2022-06-13T10:25:29.014112Z"
    },
    "nbgrader": {
     "cell_type": "code",
     "checksum": "6e1769339f5db9bf7f9625beea87e2cf",
     "grade": false,
     "grade_id": "cell-73426cdd01a742d7",
     "locked": false,
     "schema_version": 3,
     "solution": true,
     "task": false
    }
   },
   "outputs": [],
   "source": [
    "# COMPLETA EL EJERCICIO 4 AQUI\n",
    "\n",
    "def sumatorio_absoluto(lista):\n",
    "    # YOUR CODE HERE\n",
    "    sumatorio = 0\n",
    "    for i in lista:\n",
    "        if i < 0:\n",
    "            sumatorio = sumatorio - i\n",
    "        else:\n",
    "            sumatorio = sumatorio + i\n",
    "    \n",
    "    return sumatorio"
   ]
  },
  {
   "cell_type": "code",
   "execution_count": 8,
   "metadata": {
    "deletable": false,
    "editable": false,
    "execution": {
     "iopub.execute_input": "2022-06-13T10:25:29.023018Z",
     "iopub.status.busy": "2022-06-13T10:25:29.022299Z",
     "iopub.status.idle": "2022-06-13T10:25:29.030699Z",
     "shell.execute_reply": "2022-06-13T10:25:29.029248Z"
    },
    "nbgrader": {
     "cell_type": "code",
     "checksum": "c0949e55864eeb4ce56b4090d9ee6055",
     "grade": true,
     "grade_id": "cell-fd51adb56b2ae36c",
     "locked": true,
     "points": 5,
     "schema_version": 3,
     "solution": false,
     "task": false
    }
   },
   "outputs": [],
   "source": [
    "# NO EDITE ESTA CELDA\n",
    "### BEGIN HIDDEN TESTS\n",
    "assert(sumatorio_absoluto([]) == 0)\n",
    "assert(sumatorio_absoluto([1]) == 1)\n",
    "assert(sumatorio_absoluto([-1]) == 1)\n",
    "assert(sumatorio_absoluto([1,4,6]) == 11)\n",
    "assert(sumatorio_absoluto([-1,4,-6]) == 11)\n",
    "### END HIDDEN TESTS"
   ]
  },
  {
   "cell_type": "code",
   "execution_count": null,
   "metadata": {},
   "outputs": [],
   "source": []
  }
 ],
 "metadata": {
  "kernelspec": {
   "display_name": "Python 3 (ipykernel)",
   "language": "python",
   "name": "python3"
  },
  "language_info": {
   "codemirror_mode": {
    "name": "ipython",
    "version": 3
   },
   "file_extension": ".py",
   "mimetype": "text/x-python",
   "name": "python",
   "nbconvert_exporter": "python",
   "pygments_lexer": "ipython3",
   "version": "3.9.5"
  }
 },
 "nbformat": 4,
 "nbformat_minor": 2
}

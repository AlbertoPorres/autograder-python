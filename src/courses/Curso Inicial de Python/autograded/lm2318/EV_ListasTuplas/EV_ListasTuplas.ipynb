{
 "cells": [
  {
   "cell_type": "markdown",
   "metadata": {
    "deletable": false,
    "editable": false,
    "nbgrader": {
     "cell_type": "markdown",
     "checksum": "31e3d8f1103c0f3abb9b52e8b2f9d469",
     "grade": false,
     "grade_id": "cell-37cef6f2e672fc87",
     "locked": true,
     "schema_version": 3,
     "solution": false,
     "task": false
    }
   },
   "source": [
    "### AUTOEVALUACIÓN LISTAS Y TUPLAS"
   ]
  },
  {
   "cell_type": "markdown",
   "metadata": {
    "deletable": false,
    "editable": false,
    "nbgrader": {
     "cell_type": "markdown",
     "checksum": "f890349160b6d1f61a9ddb283c951ea1",
     "grade": false,
     "grade_id": "cell-378c31aaa470d2b5",
     "locked": true,
     "schema_version": 3,
     "solution": false,
     "task": false
    }
   },
   "source": [
    "**Ejercicio 1**\n",
    "\n",
    "Defina una tupla llamada _mi\\_lista_ y una tupla llamada _mi\\_tupla_ que contengan ambas los siguientes valores:\n",
    "- En primer lugar el valor 10.\n",
    "- En segunda lugar la cadena 'segundo elemento' (cuidado con los espacios).\n",
    "- El booleano False."
   ]
  },
  {
   "cell_type": "code",
   "execution_count": 1,
   "metadata": {
    "deletable": false,
    "editable": false,
    "execution": {
     "iopub.execute_input": "2022-06-13T10:25:08.209713Z",
     "iopub.status.busy": "2022-06-13T10:25:08.209035Z",
     "iopub.status.idle": "2022-06-13T10:25:08.231613Z",
     "shell.execute_reply": "2022-06-13T10:25:08.228944Z"
    },
    "nbgrader": {
     "cell_type": "code",
     "checksum": "580963760b105cd7a5ef59e7c394f5e8",
     "grade": false,
     "grade_id": "cell-84e20f5ebdd8ce9f",
     "locked": true,
     "schema_version": 3,
     "solution": false,
     "task": false
    }
   },
   "outputs": [],
   "source": [
    "# COMPLETA EL EJERCICIO 1 AQUI\n",
    "# Descomenta las siguientes líneas y defina mi_lista y mi_tupla con el siguiente contenido:\n",
    "    # - 10 (número entero)\n",
    "    # - \"segundo elemento\" (cadena)\n",
    "    # - False (Boolean)\n",
    "\n",
    "# mi_lista = []\n",
    "# mi_tupla = ()"
   ]
  },
  {
   "cell_type": "code",
   "execution_count": 2,
   "metadata": {
    "execution": {
     "iopub.execute_input": "2022-06-13T10:25:08.236962Z",
     "iopub.status.busy": "2022-06-13T10:25:08.236514Z",
     "iopub.status.idle": "2022-06-13T10:25:08.272614Z",
     "shell.execute_reply": "2022-06-13T10:25:08.271137Z"
    }
   },
   "outputs": [],
   "source": [
    "\n",
    "mi_lista = [10, 'segundo elemento', False]\n",
    "\n",
    "mi_tupla = (10, 'segundo elemento', False)"
   ]
  },
  {
   "cell_type": "code",
   "execution_count": 3,
   "metadata": {
    "deletable": false,
    "editable": false,
    "execution": {
     "iopub.execute_input": "2022-06-13T10:25:08.278431Z",
     "iopub.status.busy": "2022-06-13T10:25:08.278116Z",
     "iopub.status.idle": "2022-06-13T10:25:08.306627Z",
     "shell.execute_reply": "2022-06-13T10:25:08.305045Z"
    },
    "nbgrader": {
     "cell_type": "code",
     "checksum": "4c11394959b22caa298e5d6e5e753b65",
     "grade": true,
     "grade_id": "cell-fee17c887a202357",
     "locked": true,
     "points": 0,
     "schema_version": 3,
     "solution": false,
     "task": false
    }
   },
   "outputs": [],
   "source": [
    "# NO EDITE ESTA CELDA\n",
    "### BEGIN HIDDEN TESTS\n",
    "assert(mi_lista == [10, 'segundo elemento', False])\n",
    "assert(mi_lista[0] == 10)\n",
    "assert(mi_lista[1] == 'segundo elemento')\n",
    "assert(mi_lista[2] == False)\n",
    "assert(len(mi_lista) == 3)\n",
    "\n",
    "assert(mi_tupla == (10, 'segundo elemento', False))\n",
    "assert(mi_tupla[0] == 10)\n",
    "assert(mi_tupla[1] == 'segundo elemento')\n",
    "assert(mi_tupla[2] == False)\n",
    "assert(len(mi_tupla) == 3)\n",
    "### END HIDDEN TESTS"
   ]
  },
  {
   "cell_type": "markdown",
   "metadata": {
    "deletable": false,
    "editable": false,
    "nbgrader": {
     "cell_type": "markdown",
     "checksum": "a7473da0131aa4f408a6d65750758783",
     "grade": false,
     "grade_id": "cell-6e1312bb98f0f466",
     "locked": true,
     "schema_version": 3,
     "solution": false,
     "task": false
    }
   },
   "source": [
    "**Ejercicio 2**\n",
    "\n",
    "Completa la siguiente función la cual devuelva el último elemento de una lista pasada por parametro. Cíñete a los contenidos dados hasta ahora, no es necesario hacer comprobaciones de tamaño de la lista. Utiliza el acceso mediante índices para resolverlo:"
   ]
  },
  {
   "cell_type": "code",
   "execution_count": 4,
   "metadata": {
    "deletable": false,
    "execution": {
     "iopub.execute_input": "2022-06-13T10:25:08.312357Z",
     "iopub.status.busy": "2022-06-13T10:25:08.312022Z",
     "iopub.status.idle": "2022-06-13T10:25:08.333034Z",
     "shell.execute_reply": "2022-06-13T10:25:08.318724Z"
    },
    "nbgrader": {
     "cell_type": "code",
     "checksum": "e955240816ef68639af538da73d6dedb",
     "grade": false,
     "grade_id": "cell-880d2fb8f63ab428",
     "locked": false,
     "schema_version": 3,
     "solution": true,
     "task": false
    }
   },
   "outputs": [],
   "source": [
    "# COMPLETA EL EJERCICIO 2 AQUI\n",
    "\n",
    "def ultimo_elemento(lista):\n",
    "    # YOUR CODE HERE\n",
    "    return lista[-1]"
   ]
  },
  {
   "cell_type": "code",
   "execution_count": 5,
   "metadata": {
    "deletable": false,
    "editable": false,
    "execution": {
     "iopub.execute_input": "2022-06-13T10:25:08.338239Z",
     "iopub.status.busy": "2022-06-13T10:25:08.337842Z",
     "iopub.status.idle": "2022-06-13T10:25:08.358094Z",
     "shell.execute_reply": "2022-06-13T10:25:08.356946Z"
    },
    "nbgrader": {
     "cell_type": "code",
     "checksum": "af15d191496453c74c6f362a949a2510",
     "grade": true,
     "grade_id": "cell-5b79c4b39c5b7e39",
     "locked": true,
     "points": 5,
     "schema_version": 3,
     "solution": false,
     "task": false
    }
   },
   "outputs": [],
   "source": [
    "# NO EDITE ESTA CELDA\n",
    "### BEGIN HIDDEN TESTS\n",
    "test_list1 = ['hello']\n",
    "test_list2 = []\n",
    "\n",
    "assert(ultimo_elemento(test_list1) == 'hello')\n",
    "\n",
    "for i in range(10):\n",
    "    test_list1.append(i)\n",
    "    assert(ultimo_elemento(test_list1) == i)\n",
    "\n",
    "test_list2.extend(test_list1)\n",
    "assert(ultimo_elemento(test_list1) == 9)\n",
    "\n",
    "test_list2.append('goodbye')\n",
    "assert(ultimo_elemento(test_list2) == 'goodbye')\n",
    "### END HIDDEN TESTS"
   ]
  },
  {
   "cell_type": "markdown",
   "metadata": {
    "deletable": false,
    "editable": false,
    "nbgrader": {
     "cell_type": "markdown",
     "checksum": "cd78c9b2b0aeb48266a4f3aba77423d3",
     "grade": false,
     "grade_id": "cell-35da8b13002d6312",
     "locked": true,
     "schema_version": 3,
     "solution": false,
     "task": false
    }
   },
   "source": [
    "**Ejercicio 3**\n",
    "\n",
    "Completa la siguiente función la cual devuelva el segundo, tercer y cuarto elemento de una lista pasada por parámetro. Cíñete a los contenidos dados hasta ahora, no es necesario hacer comprobaciones de tamaño de la lista. Utiliza recortes para resolverlo:"
   ]
  },
  {
   "cell_type": "code",
   "execution_count": 6,
   "metadata": {
    "deletable": false,
    "execution": {
     "iopub.execute_input": "2022-06-13T10:25:08.362808Z",
     "iopub.status.busy": "2022-06-13T10:25:08.362482Z",
     "iopub.status.idle": "2022-06-13T10:25:08.370519Z",
     "shell.execute_reply": "2022-06-13T10:25:08.369523Z"
    },
    "nbgrader": {
     "cell_type": "code",
     "checksum": "d95207ae17b02177720372608dcd62cc",
     "grade": false,
     "grade_id": "cell-52e5ffe77fc608f1",
     "locked": false,
     "schema_version": 3,
     "solution": true,
     "task": false
    }
   },
   "outputs": [],
   "source": [
    "# COMPLETA EL EJERCICIO 3 AQUI\n",
    "\n",
    "def recorte_lista(lista):\n",
    "    # YOUR CODE HERE\n",
    "    return lista[1:4]"
   ]
  },
  {
   "cell_type": "code",
   "execution_count": 7,
   "metadata": {
    "deletable": false,
    "editable": false,
    "execution": {
     "iopub.execute_input": "2022-06-13T10:25:08.376084Z",
     "iopub.status.busy": "2022-06-13T10:25:08.375754Z",
     "iopub.status.idle": "2022-06-13T10:25:08.404904Z",
     "shell.execute_reply": "2022-06-13T10:25:08.403555Z"
    },
    "nbgrader": {
     "cell_type": "code",
     "checksum": "a51493a1a80d9e4eb3a208bb6d64074f",
     "grade": true,
     "grade_id": "cell-1c41e123d6e12696",
     "locked": true,
     "points": 5,
     "schema_version": 3,
     "solution": false,
     "task": false
    }
   },
   "outputs": [],
   "source": [
    "# NO EDITE ESTA CELDA\n",
    "### BEGIN HIDDEN TESTS\n",
    "test_list1 = []\n",
    "assert(recorte_lista(test_list1) == [])\n",
    "\n",
    "for i in range(5):\n",
    "    test_list1.append(i)\n",
    "    if i == 0:  \n",
    "        assert(recorte_lista(test_list1) == [])\n",
    "    elif i == 1:\n",
    "        assert(recorte_lista(test_list1) == [i])\n",
    "    elif i == 2:\n",
    "        assert(recorte_lista(test_list1) == [i-1,i])\n",
    "    else:\n",
    "        assert(recorte_lista(test_list1) == [1,2,3])\n",
    "\n",
    "test_list1.reverse()\n",
    "assert(recorte_lista(test_list1) == [3,2,1])\n",
    "### END HIDDEN TESTS"
   ]
  },
  {
   "cell_type": "markdown",
   "metadata": {
    "deletable": false,
    "editable": false,
    "nbgrader": {
     "cell_type": "markdown",
     "checksum": "6eade4dc342d4d9014d305f6688b0c50",
     "grade": false,
     "grade_id": "cell-41ae9dcb72109e7b",
     "locked": true,
     "schema_version": 3,
     "solution": false,
     "task": false
    }
   },
   "source": [
    "**Ejercicio 4**\n",
    "\n",
    "Mediante el uso de métodos de listas, completa la siguiente función que haga las siguientes operaciones en orden:\n",
    "- Añada al final de lista1 el contenido de lista2\n",
    "- Añada el elemento _element_ al final de lista1\n",
    "- Extraiga el elemento en la posición 3"
   ]
  },
  {
   "cell_type": "code",
   "execution_count": 8,
   "metadata": {
    "deletable": false,
    "editable": false,
    "execution": {
     "iopub.execute_input": "2022-06-13T10:25:08.411574Z",
     "iopub.status.busy": "2022-06-13T10:25:08.411181Z",
     "iopub.status.idle": "2022-06-13T10:25:08.427049Z",
     "shell.execute_reply": "2022-06-13T10:25:08.426007Z"
    },
    "nbgrader": {
     "cell_type": "code",
     "checksum": "cf31ce3a6a5135bb067594b59bcff3ce",
     "grade": false,
     "grade_id": "cell-f311a58193c875cf",
     "locked": true,
     "schema_version": 3,
     "solution": false,
     "task": false
    }
   },
   "outputs": [],
   "source": [
    "# COMPLETA EL EJERCICIO 4 AQUI\n",
    "\n",
    "def prueba_metodos(lista1,lista2,element):\n",
    "    # en la siguiente línea añade a lista1 el contenido de lista2\n",
    "    \n",
    "    # en la siguiente línea añade element al final de lista1\n",
    "    \n",
    "    # en la siguiente línea extrae el elemento en la posición 3\n",
    "    \n",
    "    # no edite este return\n",
    "    return lista1\n",
    "\n"
   ]
  },
  {
   "cell_type": "code",
   "execution_count": 9,
   "metadata": {
    "execution": {
     "iopub.execute_input": "2022-06-13T10:25:08.437150Z",
     "iopub.status.busy": "2022-06-13T10:25:08.433198Z",
     "iopub.status.idle": "2022-06-13T10:25:08.451181Z",
     "shell.execute_reply": "2022-06-13T10:25:08.450385Z"
    }
   },
   "outputs": [],
   "source": [
    "def prueba_metodos(lista1,lista2,element):\n",
    "    # en la siguiente línea añade a lista1 el contenido de lista2\n",
    "    lista1.extend(lista2)\n",
    "    # en la siguiente línea añade element al final de lista1\n",
    "    lista1.append(element)\n",
    "    # en la siguiente línea extrae el elemento en la posición 3\n",
    "    lista1.pop(2)\n",
    "    return lista1"
   ]
  },
  {
   "cell_type": "code",
   "execution_count": 10,
   "metadata": {
    "deletable": false,
    "editable": false,
    "execution": {
     "iopub.execute_input": "2022-06-13T10:25:08.461453Z",
     "iopub.status.busy": "2022-06-13T10:25:08.457902Z",
     "iopub.status.idle": "2022-06-13T10:25:08.483454Z",
     "shell.execute_reply": "2022-06-13T10:25:08.482642Z"
    },
    "nbgrader": {
     "cell_type": "code",
     "checksum": "0df9157f153a463f0788f7b530d6d48c",
     "grade": true,
     "grade_id": "cell-3a804c0c8b1ba3d4",
     "locked": true,
     "points": 5,
     "schema_version": 3,
     "solution": false,
     "task": false
    }
   },
   "outputs": [],
   "source": [
    "# NO EDITE ESTA CELDA\n",
    "### BEGIN HIDDEN TESTS\n",
    "assert(prueba_metodos([1,2],[],'element') == [1, 2])\n",
    "assert(prueba_metodos([],[1,2],'element') == [1, 2])\n",
    "assert(prueba_metodos([1],[1],'element') == [1,1])\n",
    "assert(prueba_metodos([1,2],[1],'element') == [1, 2, 'element'])\n",
    "assert(prueba_metodos([1],[1,2],'element') == [1, 1, 'element'])\n",
    "assert(prueba_metodos([1,2],[1,2],'element') == [1, 2, 2, 'element'])\n",
    "assert(prueba_metodos([1,2,3],[1,2],'element') == [1, 2, 1, 2, 'element'])\n",
    "assert(prueba_metodos([1,2],[1,2,3],'element') == [1, 2, 2, 3, 'element'])\n",
    "### END HIDDEN TESTS"
   ]
  },
  {
   "cell_type": "code",
   "execution_count": null,
   "metadata": {},
   "outputs": [],
   "source": []
  }
 ],
 "metadata": {
  "kernelspec": {
   "display_name": "Python 3 (ipykernel)",
   "language": "python",
   "name": "python3"
  },
  "language_info": {
   "codemirror_mode": {
    "name": "ipython",
    "version": 3
   },
   "file_extension": ".py",
   "mimetype": "text/x-python",
   "name": "python",
   "nbconvert_exporter": "python",
   "pygments_lexer": "ipython3",
   "version": "3.9.5"
  }
 },
 "nbformat": 4,
 "nbformat_minor": 2
}

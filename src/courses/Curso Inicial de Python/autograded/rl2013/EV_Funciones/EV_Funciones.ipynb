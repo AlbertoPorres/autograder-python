{
 "cells": [
  {
   "cell_type": "markdown",
   "metadata": {
    "deletable": false,
    "editable": false,
    "nbgrader": {
     "cell_type": "markdown",
     "checksum": "41fc395c7c748167c67df9644707c3bd",
     "grade": false,
     "grade_id": "cell-c19d61c6a04e3277",
     "locked": true,
     "schema_version": 3,
     "solution": false,
     "task": false
    }
   },
   "source": [
    "### AUTOEVALUACIÓN FUNCIONES"
   ]
  },
  {
   "cell_type": "markdown",
   "metadata": {
    "deletable": false,
    "editable": false,
    "nbgrader": {
     "cell_type": "markdown",
     "checksum": "8bfbeeb45427b24077fe3ef62a82be48",
     "grade": false,
     "grade_id": "cell-9fcb298d2292b232",
     "locked": true,
     "schema_version": 3,
     "solution": false,
     "task": false
    }
   },
   "source": [
    "**Ejercicio 1**\n",
    "\n",
    "Define una función llamada _area\\_circulo_ la cual calcule el area de la base de un cilindro (círculo) dado el rádio por parámetro y, en caso de no ser pasado este parametro, que telga el valor 10 por defecto:"
   ]
  },
  {
   "cell_type": "code",
   "execution_count": 1,
   "metadata": {
    "deletable": false,
    "execution": {
     "iopub.execute_input": "2022-06-16T14:42:02.705293Z",
     "iopub.status.busy": "2022-06-16T14:42:02.704613Z",
     "iopub.status.idle": "2022-06-16T14:42:02.738948Z",
     "shell.execute_reply": "2022-06-16T14:42:02.737635Z"
    },
    "nbgrader": {
     "cell_type": "code",
     "checksum": "5018fa3fb2a5e437aee0ff9cc4bd13ed",
     "grade": false,
     "grade_id": "cell-3a98f8ea28d51d44",
     "locked": false,
     "schema_version": 3,
     "solution": true,
     "task": false
    }
   },
   "outputs": [],
   "source": [
    "# COMPLETA EL EJERCICIO 1 AQUI\n",
    "# Define la función a continuación, usa el valor de pi como 3.14:\n",
    "\n",
    "def area_circulo(radio):\n",
    "    # YOUR CODE HERE\n",
    "    return 3.14 *(radio**2)"
   ]
  },
  {
   "cell_type": "code",
   "execution_count": 2,
   "metadata": {
    "deletable": false,
    "editable": false,
    "execution": {
     "iopub.execute_input": "2022-06-16T14:42:02.743558Z",
     "iopub.status.busy": "2022-06-16T14:42:02.742926Z",
     "iopub.status.idle": "2022-06-16T14:42:02.750391Z",
     "shell.execute_reply": "2022-06-16T14:42:02.749453Z"
    },
    "nbgrader": {
     "cell_type": "code",
     "checksum": "e0461a9444f6b69a59e7b9862c14b4f1",
     "grade": true,
     "grade_id": "cell-954952c2cd354a46",
     "locked": true,
     "points": 5,
     "schema_version": 3,
     "solution": false,
     "task": false
    }
   },
   "outputs": [],
   "source": [
    "# NO EDITE ESTA CELDA\n",
    "# BEGIN HIDDEN TESTS \n",
    "assert(area_circulo(0) == 0.0)\n",
    "assert(area_circulo(1) == 3.14)\n",
    "assert(area_circulo(10) == 314.0)\n",
    "assert(area_circulo(100) == 31400.0)\n",
    "assert(area_circulo(-10) == 314.0)\n",
    "assert(area_circulo(-5) == 78.5)\n",
    "assert(area_circulo(True) == 3.14)\n",
    "assert(area_circulo(False) == 0.0)\n",
    "# END HIDDEN TESTS "
   ]
  },
  {
   "cell_type": "markdown",
   "metadata": {
    "deletable": false,
    "editable": false,
    "nbgrader": {
     "cell_type": "markdown",
     "checksum": "07df017a844db3a6e3eed5b09c6759f0",
     "grade": false,
     "grade_id": "cell-6a40d9b0834e9083",
     "locked": true,
     "schema_version": 3,
     "solution": false,
     "task": false
    }
   },
   "source": [
    "**Ejercicio 2**\n",
    "\n",
    "Define una función llamada _volumen\\_cilindro_ la cual calcule el volumen de un cilindro dado el rádio de la base y su altura por parámetro en ese orden. Utiliza la función _area\\_circulo_ definida en el anterior ejercicio para calcular el área de la base dentro de la función volumen:"
   ]
  },
  {
   "cell_type": "code",
   "execution_count": 3,
   "metadata": {
    "deletable": false,
    "execution": {
     "iopub.execute_input": "2022-06-16T14:42:02.756166Z",
     "iopub.status.busy": "2022-06-16T14:42:02.755404Z",
     "iopub.status.idle": "2022-06-16T14:42:02.760120Z",
     "shell.execute_reply": "2022-06-16T14:42:02.759258Z"
    },
    "nbgrader": {
     "cell_type": "code",
     "checksum": "6c6e9bec5903c5de2fb44423f7a34fb1",
     "grade": false,
     "grade_id": "cell-2e3314a33e65af00",
     "locked": false,
     "schema_version": 3,
     "solution": true,
     "task": false
    }
   },
   "outputs": [],
   "source": [
    "# COMPLETA EL EJERCICIO 2 AQUI\n",
    "\n",
    "def volumen_cilindro(radio, altura):\n",
    "    # YOUR CODE HERE\n",
    "    return area_circulo(radio) * altura"
   ]
  },
  {
   "cell_type": "code",
   "execution_count": 4,
   "metadata": {
    "deletable": false,
    "editable": false,
    "execution": {
     "iopub.execute_input": "2022-06-16T14:42:02.768053Z",
     "iopub.status.busy": "2022-06-16T14:42:02.766033Z",
     "iopub.status.idle": "2022-06-16T14:42:02.790183Z",
     "shell.execute_reply": "2022-06-16T14:42:02.778250Z"
    },
    "nbgrader": {
     "cell_type": "code",
     "checksum": "5ac481b4bd48c3b45df23f28155ba9e0",
     "grade": true,
     "grade_id": "cell-3c1157e43302672a",
     "locked": true,
     "points": 5,
     "schema_version": 3,
     "solution": false,
     "task": false
    }
   },
   "outputs": [],
   "source": [
    "# NO EDITE ESTA CELDA\n",
    "# BEGIN HIDDEN TESTS \n",
    "assert(volumen_cilindro(0, 0) == 0.0)\n",
    "assert(volumen_cilindro(1, 0) == 0.0)\n",
    "assert(volumen_cilindro(0, 1) == 0.0)\n",
    "assert(volumen_cilindro(10, 1) == 314.0)\n",
    "assert(volumen_cilindro(10, 10) == 3140.0)\n",
    "assert(volumen_cilindro(-1, 10) == 31.400000000000002)\n",
    "assert(volumen_cilindro(10, -1) == -314.0)\n",
    "assert(volumen_cilindro(True, True) == 3.14)\n",
    "assert(volumen_cilindro(True, False) == 0.0)\n",
    "assert(volumen_cilindro(False, True) == 0.0)\n",
    "assert(volumen_cilindro(False, False) == 0.0)\n",
    "# END HIDDEN TESTS "
   ]
  },
  {
   "cell_type": "markdown",
   "metadata": {
    "deletable": false,
    "editable": false,
    "nbgrader": {
     "cell_type": "markdown",
     "checksum": "2704ae4b07bea288904161c7e208b958",
     "grade": false,
     "grade_id": "cell-90cb0c4140bedd64",
     "locked": true,
     "schema_version": 3,
     "solution": false,
     "task": false
    }
   },
   "source": [
    "**Ejercicio 3**\n",
    "\n",
    "Llama a la función _volumen\\_cilindro_ creada anteriormente para calcular el volumen de un cilindro dados un rádio y una altura:"
   ]
  },
  {
   "cell_type": "code",
   "execution_count": 5,
   "metadata": {
    "deletable": false,
    "editable": false,
    "execution": {
     "iopub.execute_input": "2022-06-16T14:42:02.794562Z",
     "iopub.status.busy": "2022-06-16T14:42:02.794209Z",
     "iopub.status.idle": "2022-06-16T14:42:02.800908Z",
     "shell.execute_reply": "2022-06-16T14:42:02.799942Z"
    },
    "nbgrader": {
     "cell_type": "code",
     "checksum": "f1f7d52e7abb78201c09e74b5c34cc3f",
     "grade": false,
     "grade_id": "cell-5b72c725b84e81cb",
     "locked": true,
     "schema_version": 3,
     "solution": false,
     "task": false
    }
   },
   "outputs": [],
   "source": [
    "# COMPLETA EL EJERCICIO 3 AQUI\n",
    "radio_base = 5\n",
    "altura_cilindro = 10\n",
    "\n",
    "# descomenta la siguiente línea llamando a tu función para asignar a la variable solución el volumen del cilindro:\n",
    "# solucion = "
   ]
  },
  {
   "cell_type": "code",
   "execution_count": 6,
   "metadata": {
    "deletable": false,
    "editable": false,
    "execution": {
     "iopub.execute_input": "2022-06-16T14:42:02.808868Z",
     "iopub.status.busy": "2022-06-16T14:42:02.807638Z",
     "iopub.status.idle": "2022-06-16T14:42:04.532384Z",
     "shell.execute_reply": "2022-06-16T14:42:04.530615Z"
    },
    "nbgrader": {
     "cell_type": "code",
     "checksum": "68370c82188410012d5e8e00447e37db",
     "grade": true,
     "grade_id": "cell-d57386c63deb464d",
     "locked": true,
     "points": 5,
     "schema_version": 3,
     "solution": false,
     "task": false
    }
   },
   "outputs": [
    {
     "ename": "NameError",
     "evalue": "name 'solucion' is not defined",
     "output_type": "error",
     "traceback": [
      "\u001b[0;31m---------------------------------------------------------------------------\u001b[0m",
      "\u001b[0;31mNameError\u001b[0m                                 Traceback (most recent call last)",
      "Input \u001b[0;32mIn [6]\u001b[0m, in \u001b[0;36m<cell line: 3>\u001b[0;34m()\u001b[0m\n\u001b[1;32m      1\u001b[0m \u001b[38;5;66;03m# CELDA DE TESTS TEMPORAL\u001b[39;00m\n\u001b[1;32m      2\u001b[0m \u001b[38;5;66;03m# BEGIN HIDDEN TESTS\u001b[39;00m\n\u001b[0;32m----> 3\u001b[0m \u001b[38;5;28;01massert\u001b[39;00m(\u001b[43msolucion\u001b[49m \u001b[38;5;241m==\u001b[39m \u001b[38;5;241m785.0\u001b[39m)\n",
      "\u001b[0;31mNameError\u001b[0m: name 'solucion' is not defined"
     ]
    }
   ],
   "source": [
    "# CELDA DE TESTS TEMPORAL\n",
    "# BEGIN HIDDEN TESTS\n",
    "assert(solucion == 785.0)\n",
    "# END HIDDEN TESTS"
   ]
  },
  {
   "cell_type": "code",
   "execution_count": null,
   "metadata": {},
   "outputs": [],
   "source": []
  }
 ],
 "metadata": {
  "kernelspec": {
   "display_name": "Python 3 (ipykernel)",
   "language": "python",
   "name": "python3"
  },
  "language_info": {
   "codemirror_mode": {
    "name": "ipython",
    "version": 3
   },
   "file_extension": ".py",
   "mimetype": "text/x-python",
   "name": "python",
   "nbconvert_exporter": "python",
   "pygments_lexer": "ipython3",
   "version": "3.9.5"
  }
 },
 "nbformat": 4,
 "nbformat_minor": 2
}

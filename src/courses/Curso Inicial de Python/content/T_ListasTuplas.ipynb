{
 "cells": [
  {
   "cell_type": "markdown",
   "metadata": {},
   "source": [
    "## LISTAS Y TUPLAS\n",
    "En capitulos anteriores vimos algunos tipos básicos, como los números,\n",
    "las cadenas de texto y los booleanos. En esta lección veremos dos\n",
    "tipos de colecciones de datos característicos de Python: listas y tuplas."
   ]
  },
  {
   "cell_type": "markdown",
   "metadata": {},
   "source": [
    "### Listas\n",
    "La lista es un tipo de colección ordenada. Sería equivalente a lo que en otros lenguajes se conoce por arrays, o vectores. Las listas pueden contener cualquier tipo de dato: números, cadenas, booleanos, … y también otras listas!\n",
    "Crear una lista es tan sencillo como indicar entre corchetes, y separados por comas, los valores que queremos incluir en esta y podemos acceder a cada uno de los elementos escribiendo el nombre de la lista e indicando el índice del elemento entre corchetes. Ten en cuenta sin embargo que el índice del primer elemento de la lista es 0, y no 1. \n",
    "Si queremos acceder a un elemento de una lista incluida dentro de otra lista tendremos que utilizar dos veces este operador, primero para indicar a qué posición de la lista exterior queremos acceder, y el segundo para seleccionar el elemento de la lista interior.\n",
    "Para acceder a elementos desde el final se usan índices negativos empezando por -1, correspondiente este al útimo elemento de la tupla.\n",
    "\n",
    "Veamos todo esto en un ejemplo:"
   ]
  },
  {
   "cell_type": "code",
   "execution_count": 1,
   "metadata": {},
   "outputs": [
    {
     "name": "stdout",
     "output_type": "stream",
     "text": [
      "22\n",
      "2\n"
     ]
    }
   ],
   "source": [
    "# definición de listas\n",
    "l = [22, True, 'una lista', [1, 2]]\n",
    "p = [11, False]\n",
    "\n",
    "# acceso lista con una dimensión\n",
    "print(l[0]) # valdrá 22\n",
    "\n",
    "# acceso lista con dos dimensión\n",
    "l = ['una lista', [1, 2]]\n",
    "print(l[1][1]) # valdrá 2"
   ]
  },
  {
   "cell_type": "markdown",
   "metadata": {},
   "source": [
    "Adicionalmente, las listar permiten el acceso a su contenido mediante recortes utilizando “:” dentro de los corchetes. Veamos un ejemplo:"
   ]
  },
  {
   "cell_type": "code",
   "execution_count": 2,
   "metadata": {},
   "outputs": [
    {
     "name": "stdout",
     "output_type": "stream",
     "text": [
      "['manzanas', 'peras']\n"
     ]
    }
   ],
   "source": [
    "compra = ['patatas','manzanas', 'peras', 'macarrones', 'vino', 'tomate']\n",
    "\n",
    "print(compra[1:3])"
   ]
  },
  {
   "cell_type": "markdown",
   "metadata": {},
   "source": [
    "En el ejemplo anterior estamos indicando primero el índice donde iniciar el recorte a la izquierda de los dos puntos, y a la derecha, el indice en el que acabar sin incluir este útimo. Si no se indica el índice de inicio se partirá desde el primer elemento y si no se indica el indice derecho, se tomarán todos los elementos desde el de partida hasta el final de la lista.\n",
    "\n",
    "Las listas son mutables, lo que quiere decir que su contenido puede ser modificado. Una forma de modificarlas es indicando el índice que se quiere cambiar y dándole el contenido nuevo usando “=”.\n"
   ]
  },
  {
   "cell_type": "code",
   "execution_count": 3,
   "metadata": {},
   "outputs": [
    {
     "name": "stdout",
     "output_type": "stream",
     "text": [
      "['patatas', 'manzanas', 'peras', 'macarrones', 'platanos', 'tomate']\n"
     ]
    }
   ],
   "source": [
    "compra[4] = 'platanos'\n",
    "print(compra)"
   ]
  },
  {
   "cell_type": "markdown",
   "metadata": {},
   "source": [
    "En Python las listas pertenecen a los tipos de datos denominados objetos. En esta sección no vamos a profundizar en el tema de los objetos, por el momento nos es suficiente con saber que un objeto puede tener métodos los cuales son funciones propias del objeto con una función específica sobre este.\n",
    "Los métodos disponibles para las listas son los siguientes:\n",
    "\n",
    "- append(element): Añade un elemento al final de la lista.\n",
    "\n",
    "- clear(): Elimina todos los elementos de la lista\n",
    "\n",
    "- copy(): devuelve una copia de la lista\n",
    "\n",
    "- count(value): devuelve el numero de elementos con el valor especificado\n",
    "\n",
    "- extend(list): añade elementos al final de la lista \n",
    "\n",
    "- index(value): devuelve el indice del primer elemento con el valor especificado\n",
    "\n",
    "- insert(index,element): añade un elemento en la posición especificada\n",
    "\n",
    "- pop(index): elemina el elemento en la posición especificada\n",
    "\n",
    "- remove(value): elimina el primer elemento con el valor especificado \n",
    "\n",
    "- reverse(): invierte el orden de la lista\n",
    "\n",
    "- sort() : ordena la lista\n",
    "\n",
    "Veamos un ejemplo de uso de alguno de ellos:"
   ]
  },
  {
   "cell_type": "code",
   "execution_count": 4,
   "metadata": {},
   "outputs": [
    {
     "name": "stdout",
     "output_type": "stream",
     "text": [
      "['patatas', 'manzanas', 'peras', 'macarrones', 'platanos', 'tomate', 'peras']\n",
      "peras\n",
      "['patatas', 'manzanas', 'macarrones', 'platanos', 'tomate', 'peras']\n",
      "[]\n"
     ]
    }
   ],
   "source": [
    "# insertamos peras a la lista de la compra\n",
    "compra.append('peras')\n",
    "print(compra)\n",
    "\n",
    "# extraemos un elemento de la lista\n",
    "elemento = compra.pop(2)\n",
    "print(elemento)\n",
    "print(compra)\n",
    "\n",
    "# limpiamos la lista\n",
    "compra.clear()\n",
    "print(compra)"
   ]
  },
  {
   "cell_type": "markdown",
   "metadata": {},
   "source": [
    "### Tuplas\n",
    "Las tuplas son un tipo de datos muy similar a las listas con dos diferencias fundamentales:\n",
    "\n",
    "- La sintaxis para generar una tupla es mediante paréntesis en vez de corchetes.\n",
    "\n",
    "- Son inmutables, es decir, no pueden ser modificadas."
   ]
  },
  {
   "cell_type": "code",
   "execution_count": 5,
   "metadata": {},
   "outputs": [
    {
     "name": "stdout",
     "output_type": "stream",
     "text": [
      "22\n",
      "2\n"
     ]
    }
   ],
   "source": [
    "# definición de tuplas\n",
    "l = (22, True, 'una tupla', [1, 2])\n",
    "p = (11, False)\n",
    "\n",
    "# acceso tuplas con una dimensión\n",
    "print(l[0]) # valdrá 22\n",
    "\n",
    "# acceso tuplas con dos dimensión\n",
    "l = ['una lista', [1, 2]]\n",
    "print(l[1][1]) # valdrá 2"
   ]
  },
  {
   "cell_type": "markdown",
   "metadata": {},
   "source": [
    "El acceso al contenido de estas es igual al de las listas y los métodos disponibles son los siguientes:\n",
    "\n",
    "- count(): devuelve el numero de elementos con el valor especificado\n",
    "\n",
    "- index(): devuelve el indice del primer elemento con el valor especificado"
   ]
  },
  {
   "cell_type": "code",
   "execution_count": null,
   "metadata": {},
   "outputs": [],
   "source": []
  }
 ],
 "metadata": {
  "kernelspec": {
   "display_name": "Python 3 (ipykernel)",
   "language": "python",
   "name": "python3"
  },
  "language_info": {
   "codemirror_mode": {
    "name": "ipython",
    "version": 3
   },
   "file_extension": ".py",
   "mimetype": "text/x-python",
   "name": "python",
   "nbconvert_exporter": "python",
   "pygments_lexer": "ipython3",
   "version": "3.9.7"
  }
 },
 "nbformat": 4,
 "nbformat_minor": 2
}

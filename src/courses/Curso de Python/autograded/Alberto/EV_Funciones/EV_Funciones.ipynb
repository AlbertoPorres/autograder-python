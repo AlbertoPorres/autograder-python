{
 "cells": [
  {
   "cell_type": "markdown",
   "metadata": {
    "deletable": false,
    "editable": false,
    "nbgrader": {
     "cell_type": "markdown",
     "checksum": "41fc395c7c748167c67df9644707c3bd",
     "grade": false,
     "grade_id": "cell-c19d61c6a04e3277",
     "locked": true,
     "schema_version": 3,
     "solution": false,
     "task": false
    }
   },
   "source": [
    "### AUTOEVALUACIÓN FUNCIONES"
   ]
  },
  {
   "cell_type": "markdown",
   "metadata": {
    "deletable": false,
    "editable": false,
    "nbgrader": {
     "cell_type": "markdown",
     "checksum": "8bfbeeb45427b24077fe3ef62a82be48",
     "grade": false,
     "grade_id": "cell-9fcb298d2292b232",
     "locked": true,
     "schema_version": 3,
     "solution": false,
     "task": false
    }
   },
   "source": [
    "**Ejercicio 1**\n",
    "\n",
    "Define una función llamada _area\\_circulo_ la cual calcule el area de la base de un cilindro (círculo) dado el rádio por parámetro y, en caso de no ser pasado este parametro, que telga el valor 10 por defecto:"
   ]
  },
  {
   "cell_type": "code",
   "execution_count": 1,
   "metadata": {
    "deletable": false,
    "editable": false,
    "execution": {
     "iopub.execute_input": "2022-06-09T10:38:37.663716Z",
     "iopub.status.busy": "2022-06-09T10:38:37.661478Z",
     "iopub.status.idle": "2022-06-09T10:38:37.681460Z",
     "shell.execute_reply": "2022-06-09T10:38:37.680536Z"
    },
    "nbgrader": {
     "cell_type": "code",
     "checksum": "b1bf9091fee2f76f7e8e17f638e93f18",
     "grade": false,
     "grade_id": "cell-3a98f8ea28d51d44",
     "locked": true,
     "schema_version": 3,
     "solution": false,
     "task": false
    }
   },
   "outputs": [],
   "source": [
    "# COMPLETA EL EJERCICIO 1 AQUI\n",
    "# Define la función a continuación, usa el valor de pi como 3.14:\n",
    "\n",
    "def area_circulo(radio):\n",
    "    return 3.14 *(radio**2)"
   ]
  },
  {
   "cell_type": "code",
   "execution_count": 2,
   "metadata": {
    "deletable": false,
    "editable": false,
    "execution": {
     "iopub.execute_input": "2022-06-09T10:38:37.688578Z",
     "iopub.status.busy": "2022-06-09T10:38:37.686300Z",
     "iopub.status.idle": "2022-06-09T10:38:37.696038Z",
     "shell.execute_reply": "2022-06-09T10:38:37.695192Z"
    },
    "nbgrader": {
     "cell_type": "code",
     "checksum": "982b706fb9f53dce21352acdcb181865",
     "grade": true,
     "grade_id": "cell-954952c2cd354a46",
     "locked": true,
     "points": 5,
     "schema_version": 3,
     "solution": false,
     "task": false
    }
   },
   "outputs": [],
   "source": [
    "# NO EDITE ESTA CELDA\n",
    "assert(area_circulo(0) == 0.0)\n",
    "assert(area_circulo(1) == 3.14)\n",
    "assert(area_circulo(10) == 314.0)\n",
    "assert(area_circulo(100) == 31400.0)\n",
    "assert(area_circulo(-10) == 314.0)\n",
    "assert(area_circulo(-5) == 78.5)\n",
    "assert(area_circulo(True) == 3.14)\n",
    "assert(area_circulo(False) == 0.0)"
   ]
  },
  {
   "cell_type": "markdown",
   "metadata": {
    "deletable": false,
    "editable": false,
    "nbgrader": {
     "cell_type": "markdown",
     "checksum": "07df017a844db3a6e3eed5b09c6759f0",
     "grade": false,
     "grade_id": "cell-6a40d9b0834e9083",
     "locked": true,
     "schema_version": 3,
     "solution": false,
     "task": false
    }
   },
   "source": [
    "**Ejercicio 2**\n",
    "\n",
    "Define una función llamada _volumen\\_cilindro_ la cual calcule el volumen de un cilindro dado el rádio de la base y su altura por parámetro en ese orden. Utiliza la función _area\\_circulo_ definida en el anterior ejercicio para calcular el área de la base dentro de la función volumen:"
   ]
  },
  {
   "cell_type": "code",
   "execution_count": 3,
   "metadata": {
    "deletable": false,
    "editable": false,
    "execution": {
     "iopub.execute_input": "2022-06-09T10:38:37.702856Z",
     "iopub.status.busy": "2022-06-09T10:38:37.700503Z",
     "iopub.status.idle": "2022-06-09T10:38:37.707940Z",
     "shell.execute_reply": "2022-06-09T10:38:37.707104Z"
    },
    "nbgrader": {
     "cell_type": "code",
     "checksum": "b0ab578269fb99d5efa6ef5ae9d10093",
     "grade": false,
     "grade_id": "cell-2e3314a33e65af00",
     "locked": true,
     "schema_version": 3,
     "solution": false,
     "task": false
    }
   },
   "outputs": [],
   "source": [
    "# COMPLETA EL EJERCICIO 2 AQUI\n",
    "\n",
    "def volumen_cilindro(radio, altura):\n",
    "    return area_circulo(radio) * altura\n"
   ]
  },
  {
   "cell_type": "code",
   "execution_count": 4,
   "metadata": {
    "deletable": false,
    "editable": false,
    "execution": {
     "iopub.execute_input": "2022-06-09T10:38:37.714430Z",
     "iopub.status.busy": "2022-06-09T10:38:37.712378Z",
     "iopub.status.idle": "2022-06-09T10:38:37.722962Z",
     "shell.execute_reply": "2022-06-09T10:38:37.722198Z"
    },
    "nbgrader": {
     "cell_type": "code",
     "checksum": "f19e3c3f914493589b3e00db036abe7d",
     "grade": true,
     "grade_id": "cell-3c1157e43302672a",
     "locked": true,
     "points": 5,
     "schema_version": 3,
     "solution": false,
     "task": false
    }
   },
   "outputs": [],
   "source": [
    "# NO EDITE ESTA CELDA\n",
    "assert(volumen_cilindro(0, 0) == 0.0)\n",
    "assert(volumen_cilindro(1, 0) == 0.0)\n",
    "assert(volumen_cilindro(0, 1) == 0.0)\n",
    "assert(volumen_cilindro(10, 1) == 314.0)\n",
    "assert(volumen_cilindro(10, 10) == 3140.0)\n",
    "assert(volumen_cilindro(-1, 10) == 31.400000000000002)\n",
    "assert(volumen_cilindro(10, -1) == -314.0)\n",
    "assert(volumen_cilindro(True, True) == 3.14)\n",
    "assert(volumen_cilindro(True, False) == 0.0)\n",
    "assert(volumen_cilindro(False, True) == 0.0)\n",
    "assert(volumen_cilindro(False, False) == 0.0)"
   ]
  },
  {
   "cell_type": "markdown",
   "metadata": {
    "deletable": false,
    "editable": false,
    "nbgrader": {
     "cell_type": "markdown",
     "checksum": "2704ae4b07bea288904161c7e208b958",
     "grade": false,
     "grade_id": "cell-90cb0c4140bedd64",
     "locked": true,
     "schema_version": 3,
     "solution": false,
     "task": false
    }
   },
   "source": [
    "**Ejercicio 3**\n",
    "\n",
    "Llama a la función _volumen\\_cilindro_ creada anteriormente para calcular el volumen de un cilindro dados un rádio y una altura:"
   ]
  },
  {
   "cell_type": "code",
   "execution_count": 5,
   "metadata": {
    "deletable": false,
    "editable": false,
    "execution": {
     "iopub.execute_input": "2022-06-09T10:38:37.735462Z",
     "iopub.status.busy": "2022-06-09T10:38:37.733149Z",
     "iopub.status.idle": "2022-06-09T10:38:37.741012Z",
     "shell.execute_reply": "2022-06-09T10:38:37.740052Z"
    },
    "nbgrader": {
     "cell_type": "code",
     "checksum": "14cf87c3f2d031be4f5c084feef5b4a7",
     "grade": false,
     "grade_id": "cell-5b72c725b84e81cb",
     "locked": true,
     "schema_version": 3,
     "solution": false,
     "task": false
    }
   },
   "outputs": [],
   "source": [
    "# COMPLETA EL EJERCICIO 3 AQUI\n",
    "radio_base = 5\n",
    "altura_cilindro = 10\n",
    "\n",
    "# descomenta la siguiente línea llamando a tu función para asignar a la variable solución el volumen del cilindro:\n",
    "solucion = volumen_cilindro(radio_base, altura_cilindro)"
   ]
  },
  {
   "cell_type": "code",
   "execution_count": 6,
   "metadata": {
    "deletable": false,
    "editable": false,
    "execution": {
     "iopub.execute_input": "2022-06-09T10:38:37.747453Z",
     "iopub.status.busy": "2022-06-09T10:38:37.745373Z",
     "iopub.status.idle": "2022-06-09T10:38:37.752339Z",
     "shell.execute_reply": "2022-06-09T10:38:37.751421Z"
    },
    "nbgrader": {
     "cell_type": "code",
     "checksum": "c6ec10372edca043dd032d009f066687",
     "grade": true,
     "grade_id": "cell-d57386c63deb464d",
     "locked": true,
     "points": 5,
     "schema_version": 3,
     "solution": false,
     "task": false
    }
   },
   "outputs": [],
   "source": [
    "# CELDA DE TESTS TEMPORAL\n",
    "assert(solucion == 785.0)"
   ]
  },
  {
   "cell_type": "code",
   "execution_count": null,
   "metadata": {},
   "outputs": [],
   "source": []
  }
 ],
 "metadata": {
  "kernelspec": {
   "display_name": "Python 3",
   "language": "python",
   "name": "python3"
  },
  "language_info": {
   "codemirror_mode": {
    "name": "ipython",
    "version": 3
   },
   "file_extension": ".py",
   "mimetype": "text/x-python",
   "name": "python",
   "nbconvert_exporter": "python",
   "pygments_lexer": "ipython3",
   "version": "3.9.5"
  }
 },
 "nbformat": 4,
 "nbformat_minor": 2
}

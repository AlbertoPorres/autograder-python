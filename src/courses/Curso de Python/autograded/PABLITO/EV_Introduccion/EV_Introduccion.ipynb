{
 "cells": [
  {
   "cell_type": "markdown",
   "metadata": {
    "nbgrader": {
     "checksum": "c4aaeba506f72c8047790b19d2dd2e4e",
     "grade": false,
     "grade_id": "cell-33ab73b8ffac4d46",
     "locked": true,
     "schema_version": 3,
     "solution": false,
     "task": false
    }
   },
   "source": [
    "### AUTOEVALUACIÓN INTRODUCCIÓN A PYTHON"
   ]
  },
  {
   "cell_type": "markdown",
   "metadata": {
    "nbgrader": {
     "checksum": "9a2e3c8022b8f1f95039f969d9ed8cf1",
     "grade": false,
     "grade_id": "cell-36d219bf1c207421",
     "locked": true,
     "schema_version": 3,
     "solution": false,
     "task": false
    }
   },
   "source": [
    "**Ejercicio 1**\n",
    "\n",
    "Realiza la siguiente asignación de variables:\n",
    "- Una variable numérica entera de nombre _mi\\_entero_ con el valor 100.\n",
    "\n",
    "- Una variable numérica en octal de nombre _mi\\_octal_ con valor 20 (16 en decimal).\n",
    "\n",
    "- Una cadena de nombre _mi\\_cadena_ con el contenido \"Hola Python\", asegurate de respetar mayusculas y el espacio intermedio y de no dejar espacios al principio y al final.\n",
    "\n",
    "- Una variable booleana de nombre _mi\\_bool_ con valor True.\n",
    "\n",
    "Respeta los nombres de las variables y los valores pedidos:"
   ]
  },
  {
   "cell_type": "code",
   "execution_count": 1,
   "metadata": {
    "execution": {
     "iopub.execute_input": "2022-06-10T09:45:46.413656Z",
     "iopub.status.busy": "2022-06-10T09:45:46.413061Z",
     "iopub.status.idle": "2022-06-10T09:45:46.432790Z",
     "shell.execute_reply": "2022-06-10T09:45:46.431519Z"
    },
    "nbgrader": {
     "checksum": "91c00c2bc3ebb532225a7e53847d8244",
     "grade": false,
     "grade_id": "cell-3cb04eba55b6d59d",
     "locked": true,
     "schema_version": 3,
     "solution": false,
     "task": false
    }
   },
   "outputs": [],
   "source": [
    "# COMPLETA EL EJERCICIO 1 AQUI\n",
    "\n",
    "# Escribe debajo de este comentario tu variable entera:\n",
    "mi_entero = 100\n",
    "# Escribe debajo de este comentario tu variable octal:\n",
    "mi_octal = 0o20\n",
    "# Escribe debajo de este comentario tu cadena:\n",
    "mi_cadena = \"Hola Python\"\n",
    "# Escribe debajo de este comentario tu booleano:\n",
    "mi_bool = True"
   ]
  },
  {
   "cell_type": "code",
   "execution_count": 2,
   "metadata": {
    "execution": {
     "iopub.execute_input": "2022-06-10T09:45:46.439175Z",
     "iopub.status.busy": "2022-06-10T09:45:46.437043Z",
     "iopub.status.idle": "2022-06-10T09:45:46.444141Z",
     "shell.execute_reply": "2022-06-10T09:45:46.443178Z"
    },
    "nbgrader": {
     "checksum": "2d9d1d6311e0f95f9bc8309a20afa4b3",
     "grade": true,
     "grade_id": "cell-bf76ba2e7507e82d",
     "locked": true,
     "points": 5,
     "schema_version": 3,
     "solution": false,
     "task": false
    }
   },
   "outputs": [],
   "source": [
    "# NO EDITE ESTA CELDA\n",
    "assert(mi_entero == 100)\n",
    "assert(mi_octal  == 16)\n",
    "assert(mi_octal  == 0o20)\n",
    "assert(mi_cadena == \"Hola Python\")\n",
    "assert(mi_bool)"
   ]
  },
  {
   "cell_type": "markdown",
   "metadata": {
    "nbgrader": {
     "checksum": "84065ecd87b00ed669883b3bfae29971",
     "grade": false,
     "grade_id": "cell-3c1e97cdde985c94",
     "locked": true,
     "schema_version": 3,
     "solution": false,
     "task": false
    }
   },
   "source": [
    "**Ejercicio 2**\n",
    "\n",
    "Dado el radio de la base de un cilindro y su altura (en cm) calcula el area de su base y posteriormente el volumen de dicho cilindro:"
   ]
  },
  {
   "cell_type": "code",
   "execution_count": 3,
   "metadata": {
    "execution": {
     "iopub.execute_input": "2022-06-10T09:45:46.450570Z",
     "iopub.status.busy": "2022-06-10T09:45:46.449947Z",
     "iopub.status.idle": "2022-06-10T09:45:46.455936Z",
     "shell.execute_reply": "2022-06-10T09:45:46.454925Z"
    },
    "nbgrader": {
     "checksum": "0befeebccd4eb04d8f07509bfc5da41c",
     "grade": false,
     "grade_id": "cell-924b55d5e9ccab8d",
     "locked": true,
     "schema_version": 3,
     "solution": false,
     "task": false
    }
   },
   "outputs": [],
   "source": [
    "# COMPLETA EL EJERCICIO 2 AQUI\n",
    "radio = 6\n",
    "pi = 3.14\n",
    "altura = 20\n",
    "\n",
    "# Descomenta la siguiente linea y calcula el area de la base\n",
    "area_base = pi * (radio**2)\n",
    "\n",
    "# Descomenta la siguiente linea y calcula el volumen usando el area de la base calculado anteriormente\n",
    "volumen = area_base * altura"
   ]
  },
  {
   "cell_type": "code",
   "execution_count": 4,
   "metadata": {
    "execution": {
     "iopub.execute_input": "2022-06-10T09:45:46.461342Z",
     "iopub.status.busy": "2022-06-10T09:45:46.460688Z",
     "iopub.status.idle": "2022-06-10T09:45:46.465358Z",
     "shell.execute_reply": "2022-06-10T09:45:46.464350Z"
    },
    "nbgrader": {
     "checksum": "836110b995c506559f753dd40c25b200",
     "grade": true,
     "grade_id": "cell-0afd55718551d970",
     "locked": true,
     "points": 5,
     "schema_version": 3,
     "solution": false,
     "task": false
    }
   },
   "outputs": [],
   "source": [
    "# NO EDITE ESTA CELDA\n",
    "assert(area_base == 113.04)\n",
    "assert(volumen  == 2260.8)"
   ]
  },
  {
   "cell_type": "markdown",
   "metadata": {
    "nbgrader": {
     "checksum": "d53ee3f5557951721056b9b89df28e4d",
     "grade": false,
     "grade_id": "cell-de10e07f453248c0",
     "locked": true,
     "schema_version": 3,
     "solution": false,
     "task": false
    }
   },
   "source": [
    "**Ejercicio 3**\n",
    "\n",
    "Dada una variable _A_ con un valor asignado, y una variable _B_ con otro valor asignado, intercambia el valor de estas dos variables de manera que el contenido de _A_ pase a  _B_  y viceversa mediante el uso de otra variable externa llamada _C_:"
   ]
  },
  {
   "cell_type": "code",
   "execution_count": 5,
   "metadata": {
    "execution": {
     "iopub.execute_input": "2022-06-10T09:45:46.472821Z",
     "iopub.status.busy": "2022-06-10T09:45:46.470185Z",
     "iopub.status.idle": "2022-06-10T09:45:46.477396Z",
     "shell.execute_reply": "2022-06-10T09:45:46.476509Z"
    },
    "nbgrader": {
     "checksum": "600a151e28c679237061b043501d5599",
     "grade": false,
     "grade_id": "cell-edad94cd683b03c0",
     "locked": true,
     "schema_version": 3,
     "solution": false,
     "task": false
    }
   },
   "outputs": [],
   "source": [
    "# COMPLETA EL EJERCICIO 3 AQUI\n",
    "A = 10\n",
    "B = 50\n",
    "\n",
    "# Realiza el intercambio a continuación usando una variable de nombre C:\n",
    "C = B\n",
    "B = A\n",
    "A = C"
   ]
  },
  {
   "cell_type": "code",
   "execution_count": 6,
   "metadata": {
    "execution": {
     "iopub.execute_input": "2022-06-10T09:45:46.495741Z",
     "iopub.status.busy": "2022-06-10T09:45:46.495048Z",
     "iopub.status.idle": "2022-06-10T09:45:46.501129Z",
     "shell.execute_reply": "2022-06-10T09:45:46.499626Z"
    },
    "nbgrader": {
     "checksum": "1bc9e2640562705e3cb7fdbf8955afe4",
     "grade": true,
     "grade_id": "cell-c2e4ef6d83ac395c",
     "locked": true,
     "points": 5,
     "schema_version": 3,
     "solution": false,
     "task": false
    }
   },
   "outputs": [],
   "source": [
    "# NO EDITE ESTA CELDA\n",
    "assert(A == 50)\n",
    "assert(B == 10)\n",
    "assert(C == 50 or C == 10)"
   ]
  },
  {
   "cell_type": "markdown",
   "metadata": {
    "nbgrader": {
     "checksum": "268d212b02c34f68a005a0075fbfca88",
     "grade": false,
     "grade_id": "cell-8e876fedd3f11709",
     "locked": true,
     "schema_version": 3,
     "solution": false,
     "task": false
    }
   },
   "source": [
    "**Ejercicio 4**\n",
    "\n",
    "Coloca paréntesis () en la siguiente expresión para que se corresponda con la fórmula del area de un trapecio. Recuerda que el area del trapecio es la suma de las bases por la altura dividido entre dos:"
   ]
  },
  {
   "cell_type": "code",
   "execution_count": 7,
   "metadata": {
    "execution": {
     "iopub.execute_input": "2022-06-10T09:45:46.519705Z",
     "iopub.status.busy": "2022-06-10T09:45:46.518713Z",
     "iopub.status.idle": "2022-06-10T09:45:46.542591Z",
     "shell.execute_reply": "2022-06-10T09:45:46.538093Z"
    },
    "nbgrader": {
     "checksum": "d08c9d4c40158b28fc6c26930e4092ea",
     "grade": false,
     "grade_id": "cell-835f3ebb7dda8652",
     "locked": true,
     "schema_version": 3,
     "solution": false,
     "task": false
    }
   },
   "outputs": [],
   "source": [
    "# COMPLETA EL EJERCICIO 3 AQUI\n",
    "base_mayor = 10\n",
    "base_menor = 4\n",
    "altura_tr = 4\n",
    "# Coloca los parentesis de forma correcta:\n",
    "area_tr = ((base_mayor + base_menor) * altura_tr ) / 2"
   ]
  },
  {
   "cell_type": "code",
   "execution_count": 8,
   "metadata": {
    "execution": {
     "iopub.execute_input": "2022-06-10T09:45:46.549645Z",
     "iopub.status.busy": "2022-06-10T09:45:46.548587Z",
     "iopub.status.idle": "2022-06-10T09:45:46.557147Z",
     "shell.execute_reply": "2022-06-10T09:45:46.556236Z"
    },
    "nbgrader": {
     "checksum": "89422b2e988a7ff29ef02666d49a63d9",
     "grade": true,
     "grade_id": "cell-5b5576449acf44b4",
     "locked": true,
     "points": 5,
     "schema_version": 3,
     "solution": false,
     "task": false
    }
   },
   "outputs": [],
   "source": [
    "# NO EDITE ESTA CELDA\n",
    "assert(area_tr == 28.0)"
   ]
  },
  {
   "cell_type": "code",
   "execution_count": null,
   "metadata": {
    "nbgrader": {
     "checksum": "c0ab4610a83d7e60ee0e7901cc6f511c",
     "grade": false,
     "grade_id": "cell-b1ed1e56fc644453",
     "locked": true,
     "schema_version": 3,
     "solution": false,
     "task": false
    }
   },
   "outputs": [],
   "source": []
  }
 ],
 "metadata": {
  "celltoolbar": "Create Assignment",
  "kernelspec": {
   "display_name": "Python 3",
   "language": "python",
   "name": "python3"
  },
  "language_info": {
   "codemirror_mode": {
    "name": "ipython",
    "version": 3
   },
   "file_extension": ".py",
   "mimetype": "text/x-python",
   "name": "python",
   "nbconvert_exporter": "python",
   "pygments_lexer": "ipython3",
   "version": "3.9.5"
  }
 },
 "nbformat": 4,
 "nbformat_minor": 2
}

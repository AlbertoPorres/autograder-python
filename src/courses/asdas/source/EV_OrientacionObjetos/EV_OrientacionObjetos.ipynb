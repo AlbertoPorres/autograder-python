{
 "cells": [
  {
   "cell_type": "markdown",
   "metadata": {
    "nbgrader": {
     "grade": false,
     "grade_id": "cell-b07720cdc1f448d2",
     "locked": true,
     "schema_version": 3,
     "solution": false,
     "task": false
    }
   },
   "source": [
    "### AUTOEVALUACIÓN ORIENTACIÓN A OBJETOS"
   ]
  },
  {
   "cell_type": "markdown",
   "metadata": {
    "nbgrader": {
     "grade": false,
     "grade_id": "cell-124d127de23c432f",
     "locked": true,
     "schema_version": 3,
     "solution": false,
     "task": false
    }
   },
   "source": [
    "**Ejercicio 1**\n",
    "\n",
    "Completa la clase Aula la cual representa un aula de un colegio. Esta tendrá dos atributos de clase: los alumnos que la forman y el estado de la clase el cual representará si la clase está siendo impartida o no. El valor de estado al instanciarse la clase ha de ser False. Completa su constructor, los metodos getter y setter para el atributo alumno y los métodos para la gestión del estado de la clase: "
   ]
  },
  {
   "cell_type": "code",
   "execution_count": 1,
   "metadata": {
    "nbgrader": {
     "grade": false,
     "grade_id": "cell-624209d414767d90",
     "locked": true,
     "schema_version": 3,
     "solution": false,
     "task": false
    }
   },
   "outputs": [],
   "source": [
    "# COMPLETA EL EJERCICIO 1 AQUI\n",
    "\n",
    "class Aula:\n",
    "    \"\"\"Aula del colegio.\"\"\"\n",
    "    \n",
    "    def __init__(self, alumnos):\n",
    "        # Complete el método\n",
    "        \n",
    "    def getAlumnos(self):\n",
    "        # Complete el método\n",
    "                \n",
    "    def setAlumnos(self, alumnos):\n",
    "        # Complete el método\n",
    "    \n",
    "    def empiezaClase(self):\n",
    "        # Complete el método\n",
    "        \n",
    "    def acabaClase(self):\n",
    "        # Complete el método\n",
    "        \n",
    "    def getEstado(self):\n",
    "       # Complete el método\n",
    "    \n",
    "    \n"
   ]
  },
  {
   "cell_type": "code",
   "execution_count": 2,
   "metadata": {
    "nbgrader": {
     "grade": true,
     "grade_id": "cell-e2933563594af41d",
     "locked": true,
     "points": 10,
     "schema_version": 3,
     "solution": false,
     "task": false
    }
   },
   "outputs": [],
   "source": [
    "# NO EDITE ESTA CELDA\n",
    "### BEGIN HIDDEN TESTS\n",
    "mi_aula = Aula(20)\n",
    "assert(mi_aula.getEstado() == False)\n",
    "assert(mi_aula.getAlumnos() == 20)\n",
    "mi_aula.setAlumnos(24)\n",
    "assert(mi_aula.getAlumnos() == 24)\n",
    "mi_aula.empiezaClase()\n",
    "assert(mi_aula.getEstado() == True)\n",
    "mi_aula.acabaClase()\n",
    "assert(mi_aula.getEstado() == False)\n",
    "### END HIDDEN TESTS"
   ]
  },
  {
   "cell_type": "code",
   "execution_count": null,
   "metadata": {},
   "outputs": [],
   "source": []
  }
 ],
 "metadata": {
  "celltoolbar": "Create Assignment",
  "kernelspec": {
   "display_name": "Python 3 (ipykernel)",
   "language": "python",
   "name": "python3"
  },
  "language_info": {
   "codemirror_mode": {
    "name": "ipython",
    "version": 3
   },
   "file_extension": ".py",
   "mimetype": "text/x-python",
   "name": "python",
   "nbconvert_exporter": "python",
   "pygments_lexer": "ipython3",
   "version": "3.9.7"
  }
 },
 "nbformat": 4,
 "nbformat_minor": 2
}

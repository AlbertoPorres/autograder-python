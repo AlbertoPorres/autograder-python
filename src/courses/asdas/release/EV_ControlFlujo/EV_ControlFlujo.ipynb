{
 "cells": [
  {
   "cell_type": "markdown",
   "metadata": {
    "deletable": false,
    "editable": false,
    "nbgrader": {
     "cell_type": "markdown",
     "checksum": "3578e0115a3105ca321c55ea57f25211",
     "grade": false,
     "grade_id": "cell-23935fb4489febdf",
     "locked": true,
     "schema_version": 3,
     "solution": false,
     "task": false
    }
   },
   "source": [
    "### AUTOEVALUACIÓN CONTROL DE FLUJO\n"
   ]
  },
  {
   "cell_type": "markdown",
   "metadata": {
    "deletable": false,
    "editable": false,
    "nbgrader": {
     "cell_type": "markdown",
     "checksum": "c3e5bf624e890e153c01688405084939",
     "grade": false,
     "grade_id": "cell-40cfb354bc559397",
     "locked": true,
     "schema_version": 3,
     "solution": false,
     "task": false
    }
   },
   "source": [
    "**Ejercicio 1**\n",
    "\n",
    "Completa la siguiente función la cual comprueba si una persona es mayor de edad o no. En caso de ser mayor de edad devolverá True y sino False. La funcion NO ha de calcular si la edad introducida es mayor que 0:"
   ]
  },
  {
   "cell_type": "code",
   "execution_count": null,
   "metadata": {
    "deletable": false,
    "nbgrader": {
     "cell_type": "code",
     "checksum": "da7a206976ce42d2996155cfd62d5177",
     "grade": false,
     "grade_id": "cell-91b62f528ca98b71",
     "locked": false,
     "schema_version": 3,
     "solution": true,
     "task": false
    }
   },
   "outputs": [],
   "source": [
    "# COMPLETA EL EJERCICIO 1 AQUI\n",
    "\n",
    "def es_mayor_edad(edad):\n",
    "    # YOUR CODE HERE\n",
    "    raise NotImplementedError()"
   ]
  },
  {
   "cell_type": "code",
   "execution_count": null,
   "metadata": {
    "deletable": false,
    "editable": false,
    "nbgrader": {
     "cell_type": "code",
     "checksum": "27a4837a96344c582875733cd8f096f4",
     "grade": true,
     "grade_id": "cell-d607e8394b4add72",
     "locked": true,
     "points": 5,
     "schema_version": 3,
     "solution": false,
     "task": false
    }
   },
   "outputs": [],
   "source": [
    "# NO EDITE ESTA CELDA"
   ]
  },
  {
   "cell_type": "markdown",
   "metadata": {
    "deletable": false,
    "editable": false,
    "nbgrader": {
     "cell_type": "markdown",
     "checksum": "bb42969bcdcf2205c101cd4ba028bb0d",
     "grade": false,
     "grade_id": "cell-acb8772bf6419bb4",
     "locked": true,
     "schema_version": 3,
     "solution": false,
     "task": false
    }
   },
   "source": [
    "**Ejercicio 2**\n",
    "\n",
    "Completa la siguiente función la cual define la nota que ha sacado un estudiante según la calificación obtenida.\n",
    "- Si su calificación está entra 0 y 5 (este útimo no incluido) devolverá la cadena 'Suspenso'.\n",
    "- Si su calificación está entra 5 y 6 (este útimo no incluido) devolverá la cadena 'Suficiente'.\n",
    "- Si su calificación está entra 6 y 7 (este útimo no incluido) devolverá la cadena 'Bien'.\n",
    "- Si su calificación está entra 7 y 9 (este útimo no incluido) devolverá la cadena 'Notable'.\n",
    "- Si su calificación está entra 9 y 10 (este útimo incluido) devolverá la cadena 'Sobresaliente'.\n",
    "- Si la calificación es menor que 0 o mayor que 10 devolverá la cadena 'ERROR'."
   ]
  },
  {
   "cell_type": "code",
   "execution_count": null,
   "metadata": {
    "deletable": false,
    "nbgrader": {
     "cell_type": "code",
     "checksum": "3c73411cda4c14667739b5e95e729bec",
     "grade": false,
     "grade_id": "cell-e390abb46479f273",
     "locked": false,
     "schema_version": 3,
     "solution": true,
     "task": false
    }
   },
   "outputs": [],
   "source": [
    "# COMPLETA EL EJERCICIO 2 AQUI\n",
    "\n",
    "def define_nota(calif):\n",
    "    # YOUR CODE HERE\n",
    "    raise NotImplementedError()"
   ]
  },
  {
   "cell_type": "code",
   "execution_count": null,
   "metadata": {
    "deletable": false,
    "editable": false,
    "nbgrader": {
     "cell_type": "code",
     "checksum": "a14e29d76bc476fc77e691500c1097fc",
     "grade": true,
     "grade_id": "cell-f46c4b2811513ef3",
     "locked": true,
     "points": 5,
     "schema_version": 3,
     "solution": false,
     "task": false
    }
   },
   "outputs": [],
   "source": [
    "# NO EDITE ESTA CELDA"
   ]
  },
  {
   "cell_type": "markdown",
   "metadata": {
    "deletable": false,
    "editable": false,
    "nbgrader": {
     "cell_type": "markdown",
     "checksum": "bd070386f547e0451716bad5742c5ba5",
     "grade": false,
     "grade_id": "cell-46dd00b887e8072c",
     "locked": true,
     "schema_version": 3,
     "solution": false,
     "task": false
    }
   },
   "source": [
    "**Ejercicio 3**\n",
    "\n",
    "Completa la siguiente función la cual recibe un número y devuelve una lista con todos los números impares desde el 1 hasta el enviado ambos incluidos. Si el número es menor o igual que cero y mayor que 20 devolverá una lista vacía []. Usa un bucle while para resolverlo y recuerda los métodos dados en el tema de listas para ayudarte a resolverlo:"
   ]
  },
  {
   "cell_type": "code",
   "execution_count": null,
   "metadata": {
    "deletable": false,
    "nbgrader": {
     "cell_type": "code",
     "checksum": "ea2c04ebad962d6f3954e7eead0acc69",
     "grade": false,
     "grade_id": "cell-3e195ae40143a93e",
     "locked": false,
     "schema_version": 3,
     "solution": true,
     "task": false
    }
   },
   "outputs": [],
   "source": [
    "# COMPLETA EL EJERCICIO 3 AQUI\n",
    "\n",
    "def impares(num):\n",
    "    # YOUR CODE HERE\n",
    "    raise NotImplementedError()"
   ]
  },
  {
   "cell_type": "code",
   "execution_count": null,
   "metadata": {
    "deletable": false,
    "editable": false,
    "nbgrader": {
     "cell_type": "code",
     "checksum": "0035fb1579a7bfa7242fae9695e75989",
     "grade": true,
     "grade_id": "cell-6e6fcd2de49ab52f",
     "locked": true,
     "points": 5,
     "schema_version": 3,
     "solution": false,
     "task": false
    }
   },
   "outputs": [],
   "source": [
    "# NO EDITE ESTA CELDA"
   ]
  },
  {
   "cell_type": "markdown",
   "metadata": {
    "deletable": false,
    "editable": false,
    "nbgrader": {
     "cell_type": "markdown",
     "checksum": "33d8209904934687354888e8f28271ea",
     "grade": false,
     "grade_id": "cell-f463efac916de66c",
     "locked": true,
     "schema_version": 3,
     "solution": false,
     "task": false
    }
   },
   "source": [
    "**Ejercicio 4**\n",
    "\n",
    "Completa la siguiente función la cual recibe una lista de números enteros y calcula la suma (sumatorio) de todos ellos en valor absoluto. Si la lista está vacia devolverá 0. Usa un bucle for para resolverlo:"
   ]
  },
  {
   "cell_type": "code",
   "execution_count": null,
   "metadata": {
    "deletable": false,
    "nbgrader": {
     "cell_type": "code",
     "checksum": "6e1769339f5db9bf7f9625beea87e2cf",
     "grade": false,
     "grade_id": "cell-73426cdd01a742d7",
     "locked": false,
     "schema_version": 3,
     "solution": true,
     "task": false
    }
   },
   "outputs": [],
   "source": [
    "# COMPLETA EL EJERCICIO 4 AQUI\n",
    "\n",
    "def sumatorio_absoluto(lista):\n",
    "    # YOUR CODE HERE\n",
    "    raise NotImplementedError()"
   ]
  },
  {
   "cell_type": "code",
   "execution_count": null,
   "metadata": {
    "deletable": false,
    "editable": false,
    "nbgrader": {
     "cell_type": "code",
     "checksum": "04205c7f67033152f9d46d3f5f7c2d78",
     "grade": true,
     "grade_id": "cell-fd51adb56b2ae36c",
     "locked": true,
     "points": 5,
     "schema_version": 3,
     "solution": false,
     "task": false
    }
   },
   "outputs": [],
   "source": [
    "# NO EDITE ESTA CELDA"
   ]
  },
  {
   "cell_type": "code",
   "execution_count": null,
   "metadata": {},
   "outputs": [],
   "source": []
  }
 ],
 "metadata": {
  "kernelspec": {
   "display_name": "Python 3 (ipykernel)",
   "language": "python",
   "name": "python3"
  },
  "language_info": {
   "codemirror_mode": {
    "name": "ipython",
    "version": 3
   },
   "file_extension": ".py",
   "mimetype": "text/x-python",
   "name": "python",
   "nbconvert_exporter": "python",
   "pygments_lexer": "ipython3",
   "version": "3.9.7"
  }
 },
 "nbformat": 4,
 "nbformat_minor": 2
}

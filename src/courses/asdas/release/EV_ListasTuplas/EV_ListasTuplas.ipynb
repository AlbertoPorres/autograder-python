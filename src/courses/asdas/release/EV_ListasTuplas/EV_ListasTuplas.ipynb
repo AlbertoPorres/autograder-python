{
 "cells": [
  {
   "cell_type": "markdown",
   "metadata": {
    "deletable": false,
    "editable": false,
    "nbgrader": {
     "cell_type": "markdown",
     "checksum": "31e3d8f1103c0f3abb9b52e8b2f9d469",
     "grade": false,
     "grade_id": "cell-37cef6f2e672fc87",
     "locked": true,
     "schema_version": 3,
     "solution": false,
     "task": false
    }
   },
   "source": [
    "### AUTOEVALUACIÓN LISTAS Y TUPLAS"
   ]
  },
  {
   "cell_type": "markdown",
   "metadata": {
    "deletable": false,
    "editable": false,
    "nbgrader": {
     "cell_type": "markdown",
     "checksum": "f890349160b6d1f61a9ddb283c951ea1",
     "grade": false,
     "grade_id": "cell-378c31aaa470d2b5",
     "locked": true,
     "schema_version": 3,
     "solution": false,
     "task": false
    }
   },
   "source": [
    "**Ejercicio 1**\n",
    "\n",
    "Defina una tupla llamada _mi\\_lista_ y una tupla llamada _mi\\_tupla_ que contengan ambas los siguientes valores:\n",
    "- En primer lugar el valor 10.\n",
    "- En segunda lugar la cadena 'segundo elemento' (cuidado con los espacios).\n",
    "- El booleano False."
   ]
  },
  {
   "cell_type": "code",
   "execution_count": null,
   "metadata": {
    "deletable": false,
    "nbgrader": {
     "cell_type": "code",
     "checksum": "06983f93c07d48423576a9137eba4388",
     "grade": false,
     "grade_id": "cell-84e20f5ebdd8ce9f",
     "locked": false,
     "schema_version": 3,
     "solution": true,
     "task": false
    }
   },
   "outputs": [],
   "source": [
    "# COMPLETA EL EJERCICIO 1 AQUI\n",
    "# Descomenta las siguientes líneas y defina mi_lista y mi_tupla con el siguiente contenido:\n",
    "    # - 10 (número entero)\n",
    "    # - \"segundo elemento\" (cadena)\n",
    "    # - False (Boolean)\n",
    "\n",
    "# mi_lista = []\n",
    "# mi_tupla = ()\n",
    "\n",
    "# Puede eliminar el codigo inferior junto con este comentario\n",
    "# YOUR CODE HERE\n",
    "raise NotImplementedError()"
   ]
  },
  {
   "cell_type": "code",
   "execution_count": null,
   "metadata": {
    "deletable": false,
    "editable": false,
    "nbgrader": {
     "cell_type": "code",
     "checksum": "7083e3f0f1c07c93aa96aca63cdf3a59",
     "grade": true,
     "grade_id": "cell-fee17c887a202357",
     "locked": true,
     "points": 5,
     "schema_version": 3,
     "solution": false,
     "task": false
    }
   },
   "outputs": [],
   "source": [
    "# Ignónereme pero no intente eliminarme, no podrá"
   ]
  },
  {
   "cell_type": "markdown",
   "metadata": {
    "deletable": false,
    "editable": false,
    "nbgrader": {
     "cell_type": "markdown",
     "checksum": "a7473da0131aa4f408a6d65750758783",
     "grade": false,
     "grade_id": "cell-6e1312bb98f0f466",
     "locked": true,
     "schema_version": 3,
     "solution": false,
     "task": false
    }
   },
   "source": [
    "**Ejercicio 2**\n",
    "\n",
    "Completa la siguiente función la cual devuelva el último elemento de una lista pasada por parametro. Cíñete a los contenidos dados hasta ahora, no es necesario hacer comprobaciones de tamaño de la lista. Utiliza el acceso mediante índices para resolverlo:"
   ]
  },
  {
   "cell_type": "code",
   "execution_count": null,
   "metadata": {
    "deletable": false,
    "nbgrader": {
     "cell_type": "code",
     "checksum": "e955240816ef68639af538da73d6dedb",
     "grade": false,
     "grade_id": "cell-880d2fb8f63ab428",
     "locked": false,
     "schema_version": 3,
     "solution": true,
     "task": false
    }
   },
   "outputs": [],
   "source": [
    "# COMPLETA EL EJERCICIO 2 AQUI\n",
    "\n",
    "def ultimo_elemento(lista):\n",
    "    # YOUR CODE HERE\n",
    "    raise NotImplementedError()"
   ]
  },
  {
   "cell_type": "code",
   "execution_count": null,
   "metadata": {
    "deletable": false,
    "editable": false,
    "nbgrader": {
     "cell_type": "code",
     "checksum": "55572342515c3c68302a37ab1664b10e",
     "grade": true,
     "grade_id": "cell-5b79c4b39c5b7e39",
     "locked": true,
     "points": 5,
     "schema_version": 3,
     "solution": false,
     "task": false
    }
   },
   "outputs": [],
   "source": [
    "# Ignónereme pero no intente eliminarme, no podrá"
   ]
  },
  {
   "cell_type": "markdown",
   "metadata": {
    "deletable": false,
    "editable": false,
    "nbgrader": {
     "cell_type": "markdown",
     "checksum": "cd78c9b2b0aeb48266a4f3aba77423d3",
     "grade": false,
     "grade_id": "cell-35da8b13002d6312",
     "locked": true,
     "schema_version": 3,
     "solution": false,
     "task": false
    }
   },
   "source": [
    "**Ejercicio 3**\n",
    "\n",
    "Completa la siguiente función la cual devuelva el segundo, tercer y cuarto elemento de una lista pasada por parámetro. Cíñete a los contenidos dados hasta ahora, no es necesario hacer comprobaciones de tamaño de la lista. Utiliza recortes para resolverlo:"
   ]
  },
  {
   "cell_type": "code",
   "execution_count": null,
   "metadata": {
    "deletable": false,
    "nbgrader": {
     "cell_type": "code",
     "checksum": "d95207ae17b02177720372608dcd62cc",
     "grade": false,
     "grade_id": "cell-52e5ffe77fc608f1",
     "locked": false,
     "schema_version": 3,
     "solution": true,
     "task": false
    }
   },
   "outputs": [],
   "source": [
    "# COMPLETA EL EJERCICIO 3 AQUI\n",
    "\n",
    "def recorte_lista(lista):\n",
    "    # YOUR CODE HERE\n",
    "    raise NotImplementedError()"
   ]
  },
  {
   "cell_type": "code",
   "execution_count": null,
   "metadata": {
    "deletable": false,
    "editable": false,
    "nbgrader": {
     "cell_type": "code",
     "checksum": "ce5809e810b1d9219d6bea13c611c520",
     "grade": true,
     "grade_id": "cell-1c41e123d6e12696",
     "locked": true,
     "points": 5,
     "schema_version": 3,
     "solution": false,
     "task": false
    }
   },
   "outputs": [],
   "source": [
    "# Ignónereme pero no intente eliminarme, no podrá"
   ]
  },
  {
   "cell_type": "markdown",
   "metadata": {
    "deletable": false,
    "editable": false,
    "nbgrader": {
     "cell_type": "markdown",
     "checksum": "6eade4dc342d4d9014d305f6688b0c50",
     "grade": false,
     "grade_id": "cell-41ae9dcb72109e7b",
     "locked": true,
     "schema_version": 3,
     "solution": false,
     "task": false
    }
   },
   "source": [
    "**Ejercicio 4**\n",
    "\n",
    "Mediante el uso de métodos de listas, completa la siguiente función que haga las siguientes operaciones en orden:\n",
    "- Añada al final de lista1 el contenido de lista2\n",
    "- Añada el elemento _element_ al final de lista1\n",
    "- Extraiga el elemento en la posición 3"
   ]
  },
  {
   "cell_type": "code",
   "execution_count": null,
   "metadata": {
    "deletable": false,
    "nbgrader": {
     "cell_type": "code",
     "checksum": "c0a28dd390ff5d43b9d1406f73e54826",
     "grade": false,
     "grade_id": "cell-f311a58193c875cf",
     "locked": false,
     "schema_version": 3,
     "solution": true,
     "task": false
    }
   },
   "outputs": [],
   "source": [
    "# COMPLETA EL EJERCICIO 4 AQUI\n",
    "\n",
    "def prueba_metodos(lista1,lista2,element):\n",
    "    # en la siguiente línea añade a lista1 el contenido de lista2\n",
    "    \n",
    "    # en la siguiente línea añade element al final de lista1\n",
    "    \n",
    "    # en la siguiente línea extrae el elemento en la posición 3\n",
    "    \n",
    "    # no edite este return\n",
    "    return lista1\n",
    "\n",
    "# Puede eliminar el codigo inferior junto con este comentario\n",
    "# YOUR CODE HERE\n",
    "raise NotImplementedError()\n"
   ]
  },
  {
   "cell_type": "code",
   "execution_count": null,
   "metadata": {
    "deletable": false,
    "editable": false,
    "nbgrader": {
     "cell_type": "code",
     "checksum": "28cc5b3253c31fb5da84ffc3e5b74a31",
     "grade": true,
     "grade_id": "cell-3a804c0c8b1ba3d4",
     "locked": true,
     "points": 5,
     "schema_version": 3,
     "solution": false,
     "task": false
    }
   },
   "outputs": [],
   "source": [
    "# Ignónereme pero no intente eliminarme, no podrá"
   ]
  },
  {
   "cell_type": "code",
   "execution_count": null,
   "metadata": {},
   "outputs": [],
   "source": []
  }
 ],
 "metadata": {
  "kernelspec": {
   "display_name": "Python 3 (ipykernel)",
   "language": "python",
   "name": "python3"
  },
  "language_info": {
   "codemirror_mode": {
    "name": "ipython",
    "version": 3
   },
   "file_extension": ".py",
   "mimetype": "text/x-python",
   "name": "python",
   "nbconvert_exporter": "python",
   "pygments_lexer": "ipython3",
   "version": "3.9.7"
  }
 },
 "nbformat": 4,
 "nbformat_minor": 2
}

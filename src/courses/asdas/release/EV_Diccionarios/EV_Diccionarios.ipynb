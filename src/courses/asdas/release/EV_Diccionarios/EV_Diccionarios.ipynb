{
 "cells": [
  {
   "cell_type": "markdown",
   "metadata": {
    "deletable": false,
    "editable": false,
    "nbgrader": {
     "cell_type": "markdown",
     "checksum": "987956e0635b227226024a94948906de",
     "grade": false,
     "grade_id": "cell-391d7cf4fe729c69",
     "locked": true,
     "schema_version": 3,
     "solution": false,
     "task": false
    }
   },
   "source": [
    "### AUTOEVALUACIÓN DICCIONARIOS"
   ]
  },
  {
   "cell_type": "markdown",
   "metadata": {
    "deletable": false,
    "editable": false,
    "nbgrader": {
     "cell_type": "markdown",
     "checksum": "cb0e54a66704573b31f065347419ae26",
     "grade": false,
     "grade_id": "cell-c38b654824e635b9",
     "locked": true,
     "schema_version": 3,
     "solution": false,
     "task": false
    }
   },
   "source": [
    "**Ejercicio 1**\n",
    "\n",
    "Define un diccionario de nombre _mi\\_diccionario_ con los siguientes pares clave-valor:\n",
    "- 'Dolares' : 100\n",
    "- 'Euros' : 200\n",
    "- 'Pesetas' : 4000\n",
    "- 'Libras' : 234\n",
    "\n",
    "Una vez hecho esto, almacena en una variable llamada _temporal_ el valor asignado a la clave 'Libras':"
   ]
  },
  {
   "cell_type": "code",
   "execution_count": null,
   "metadata": {
    "deletable": false,
    "nbgrader": {
     "cell_type": "code",
     "checksum": "393fcaac3ec4cee458c748b7cb19cf65",
     "grade": false,
     "grade_id": "cell-4500a8de2531ca90",
     "locked": false,
     "schema_version": 3,
     "solution": true,
     "task": false
    }
   },
   "outputs": [],
   "source": [
    "# COMPLETA EL EJERCICIO 1 AQUI\n",
    "\n",
    "# Descomenta las siguiente línea y define mi_diccionario:\n",
    "# mi_diccionario =\n",
    "\n",
    "# Descomenta las siguiente línea y accede al contenido de Libras:\n",
    "# temporal =\n",
    "\n",
    "# Puede eliminar el codigo inferior junto con este comentario\n",
    "# YOUR CODE HERE\n",
    "raise NotImplementedError()"
   ]
  },
  {
   "cell_type": "code",
   "execution_count": null,
   "metadata": {
    "deletable": false,
    "editable": false,
    "nbgrader": {
     "cell_type": "code",
     "checksum": "ac59a766dd0451e54ecfbd84c9521793",
     "grade": true,
     "grade_id": "cell-e1a81ae2215c8e90",
     "locked": true,
     "points": 5,
     "schema_version": 3,
     "solution": false,
     "task": false
    }
   },
   "outputs": [],
   "source": [
    "# Ignónereme pero no intente eliminarme, no podrá"
   ]
  },
  {
   "cell_type": "markdown",
   "metadata": {
    "deletable": false,
    "editable": false,
    "nbgrader": {
     "cell_type": "markdown",
     "checksum": "fb39b3697a6b518d11eb2a3c35f4b748",
     "grade": false,
     "grade_id": "cell-5bd1cd2e18b7f7a0",
     "locked": true,
     "schema_version": 3,
     "solution": false,
     "task": false
    }
   },
   "source": [
    "**Ejercicio 2**\n",
    "\n",
    "Mediante el uso de métodos de diccionarios, completa la siguiente función que haga las siguientes operaciones en orden:\n",
    "- almacenar en una variable dentro de la función una copia exacta del diccionario pasado por parámetro. Las siguientes operaciones se harán sobre esta copia manteniendo el diccionario original intacto\n",
    "- actualice el la diccionario con la clave y el valor pasado por parámetro\n",
    "- elimine el último par clave valor insertado\n",
    "- devuelva una lista de todos los valores del diccionario copia en el estado final"
   ]
  },
  {
   "cell_type": "code",
   "execution_count": null,
   "metadata": {
    "deletable": false,
    "nbgrader": {
     "cell_type": "code",
     "checksum": "aa523728ce506bd3f5e14e83927e3ee7",
     "grade": false,
     "grade_id": "cell-6c20186d9d9cc4b0",
     "locked": false,
     "schema_version": 3,
     "solution": true,
     "task": false
    }
   },
   "outputs": [],
   "source": [
    "# COMPLETA EL EJERCICIO 2 AQUI\n",
    "\n",
    "def prueba_metodos_d(original_dict, update_key, update_value):\n",
    "    # en la siguiente línea realiza la copia del diccionario original\n",
    "    \n",
    "    # en la siguiente línea actualiza la copia con la clave y el valor\n",
    "    \n",
    "    # en la siguiente línea extrae el elemento en la posición 3\n",
    "    \n",
    "    # devuelva el estado final del diccionario compia\n",
    "    return \n",
    "\n",
    "# Puede eliminar el codigo inferior junto con este comentario\n",
    "# YOUR CODE HERE\n",
    "raise NotImplementedError()"
   ]
  },
  {
   "cell_type": "code",
   "execution_count": null,
   "metadata": {
    "deletable": false,
    "editable": false,
    "nbgrader": {
     "cell_type": "code",
     "checksum": "371b1d0835531ea1ccd381184c52f5a7",
     "grade": true,
     "grade_id": "cell-27557cc1a70a6bd8",
     "locked": true,
     "points": 5,
     "schema_version": 3,
     "solution": false,
     "task": false
    }
   },
   "outputs": [],
   "source": [
    "# Ignónereme pero no intente eliminarme, no podrá"
   ]
  },
  {
   "cell_type": "code",
   "execution_count": null,
   "metadata": {},
   "outputs": [],
   "source": []
  },
  {
   "cell_type": "code",
   "execution_count": null,
   "metadata": {},
   "outputs": [],
   "source": []
  }
 ],
 "metadata": {
  "kernelspec": {
   "display_name": "Python 3 (ipykernel)",
   "language": "python",
   "name": "python3"
  },
  "language_info": {
   "codemirror_mode": {
    "name": "ipython",
    "version": 3
   },
   "file_extension": ".py",
   "mimetype": "text/x-python",
   "name": "python",
   "nbconvert_exporter": "python",
   "pygments_lexer": "ipython3",
   "version": "3.9.7"
  }
 },
 "nbformat": 4,
 "nbformat_minor": 2
}

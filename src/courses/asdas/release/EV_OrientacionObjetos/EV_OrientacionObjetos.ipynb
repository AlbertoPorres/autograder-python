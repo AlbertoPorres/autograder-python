{
 "cells": [
  {
   "cell_type": "markdown",
   "metadata": {
    "deletable": false,
    "editable": false,
    "nbgrader": {
     "cell_type": "markdown",
     "checksum": "94b698a586100495ef92455a926612be",
     "grade": false,
     "grade_id": "cell-b07720cdc1f448d2",
     "locked": true,
     "schema_version": 3,
     "solution": false,
     "task": false
    }
   },
   "source": [
    "### AUTOEVALUACIÓN ORIENTACIÓN A OBJETOS"
   ]
  },
  {
   "cell_type": "markdown",
   "metadata": {
    "deletable": false,
    "editable": false,
    "nbgrader": {
     "cell_type": "markdown",
     "checksum": "63def17c51f642bb9e9cb8c9a760c23e",
     "grade": false,
     "grade_id": "cell-124d127de23c432f",
     "locked": true,
     "schema_version": 3,
     "solution": false,
     "task": false
    }
   },
   "source": [
    "**Ejercicio 1**\n",
    "\n",
    "Completa la clase Aula la cual representa un aula de un colegio. Esta tendrá dos atributos de clase: los alumnos que la forman y el estado de la clase el cual representará si la clase está siendo impartida o no. El valor de estado al instanciarse la clase ha de ser False. Completa su constructor, los metodos getter y setter para el atributo alumno y los métodos para la gestión del estado de la clase: "
   ]
  },
  {
   "cell_type": "code",
   "execution_count": null,
   "metadata": {
    "deletable": false,
    "nbgrader": {
     "cell_type": "code",
     "checksum": "ee263ca0d838e092d1b0e83191034c31",
     "grade": false,
     "grade_id": "cell-624209d414767d90",
     "locked": false,
     "schema_version": 3,
     "solution": true,
     "task": false
    }
   },
   "outputs": [],
   "source": [
    "# COMPLETA EL EJERCICIO 1 AQUI\n",
    "\n",
    "class Aula:\n",
    "    \"\"\"Aula del colegio.\"\"\"\n",
    "    \n",
    "    def __init__(self, alumnos):\n",
    "        # Complete el método\n",
    "        \n",
    "    def getAlumnos(self):\n",
    "        # Complete el método\n",
    "                \n",
    "    def setAlumnos(self, alumnos):\n",
    "        # Complete el método\n",
    "    \n",
    "    def empiezaClase(self):\n",
    "        # Complete el método\n",
    "        \n",
    "    def acabaClase(self):\n",
    "        # Complete el método\n",
    "        \n",
    "    def getEstado(self):\n",
    "       # Complete el método\n",
    "    \n",
    "    \n",
    "# Puede eliminar el codigo inferior junto con este comentario\n",
    "# YOUR CODE HERE\n",
    "raise NotImplementedError()"
   ]
  },
  {
   "cell_type": "code",
   "execution_count": null,
   "metadata": {
    "deletable": false,
    "editable": false,
    "nbgrader": {
     "cell_type": "code",
     "checksum": "40e299077b875a7e25928933f59ac059",
     "grade": true,
     "grade_id": "cell-e2933563594af41d",
     "locked": true,
     "points": 10,
     "schema_version": 3,
     "solution": false,
     "task": false
    }
   },
   "outputs": [],
   "source": [
    "# Ignónereme pero no intente eliminarme, no podrá"
   ]
  },
  {
   "cell_type": "code",
   "execution_count": null,
   "metadata": {},
   "outputs": [],
   "source": []
  }
 ],
 "metadata": {
  "kernelspec": {
   "display_name": "Python 3 (ipykernel)",
   "language": "python",
   "name": "python3"
  },
  "language_info": {
   "codemirror_mode": {
    "name": "ipython",
    "version": 3
   },
   "file_extension": ".py",
   "mimetype": "text/x-python",
   "name": "python",
   "nbconvert_exporter": "python",
   "pygments_lexer": "ipython3",
   "version": "3.9.7"
  }
 },
 "nbformat": 4,
 "nbformat_minor": 2
}

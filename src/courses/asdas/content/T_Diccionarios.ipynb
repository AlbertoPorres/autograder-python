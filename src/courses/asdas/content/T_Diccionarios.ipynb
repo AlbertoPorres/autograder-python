{
 "cells": [
  {
   "cell_type": "markdown",
   "metadata": {},
   "source": [
    "##  DICCIONARIOS\n",
    "En la lección número 3 hemos estudiado dos tipos de colecciones de Python: las listas y tuplas. En esta lección veremos otra estructura de datos esencial en todo lenguaje de programación: los diccionarios."
   ]
  },
  {
   "cell_type": "markdown",
   "metadata": {},
   "source": [
    "Los diccionarios, también llamados matrices asociativas, deben su nombre a que son colecciones que relacionan una clave y un valor. El primer valor se trata de la clave y el segundo del valor asociado a la clave. Como clave podemos utilizar cualquier valor inmutable: podríamos usar números, cadenas, booleanos, tuplas, … pero no listas o diccionarios, dado que son mutables. Esto es así porque los diccionarios se implementan como tablas hash, y a la hora de introducir un nuevo par clave-valor en el diccionario se calcula el hash de la clave para después poder encontrar la entrada correspondiente rápidamente. Si se modificara el objeto clave después de haber sido introducido en el diccionario, evidentemente, su hash también cambiaría y no podría ser encontrado. \n",
    "La diferencia principal entre los diccionarios y las listas o las tuplas es que a los valores almacenados en un diccionario se les accede no por su índice, porque de hecho no tienen orden, sino por su clave, utilizando de nuevo el operador [ ]. Al igual que en listas y tuplas también se puede utilizar este operador para reasignar valores."
   ]
  },
  {
   "cell_type": "code",
   "execution_count": 1,
   "metadata": {},
   "outputs": [
    {
     "name": "stdout",
     "output_type": "stream",
     "text": [
      "2\n"
     ]
    },
    {
     "data": {
      "text/plain": [
       "'barcelona'"
      ]
     },
     "execution_count": 1,
     "metadata": {},
     "output_type": "execute_result"
    }
   ],
   "source": [
    "# definicion de un diccionario\n",
    "d = {\"Key1\" : 1, \"key2\" : 2 ,\"key3\" : 2 , \"key4\" : \"value4\"}\n",
    "\n",
    "# acceso al valor de una clave\n",
    "print(d[\"key2\"])\n",
    "\n",
    "# edicion del valor de una clave\n",
    "d[\"key2\"] = \"barcelona\"\n",
    "d[\"key2\"]"
   ]
  },
  {
   "cell_type": "markdown",
   "metadata": {},
   "source": [
    "Como las listas y tuples, los diccionarios también tienen un conjunto de métodos propios:\n",
    "\n",
    "- clear(): elimina todos los elementos del diccionario\n",
    "\n",
    "- copy(): devuelve una copia del diccionario\n",
    "\n",
    "- fromkeys(x,y): devuelve otro diccionario con las claves que componen \"x\" y el valor especificado \"y\"\n",
    "\n",
    "- get(key): devuelve los valores de la clave especificada \n",
    "\n",
    "- items(): devuelve una lista de tuplas con cada par clave valor\n",
    "\n",
    "- keys(): devuelve una lista con todas las claves\n",
    "\n",
    "- pop(key): elimina el elemento con la clave especificada\n",
    "\n",
    "- popitem(): elimina el último par clave-valor insertado\n",
    "\n",
    "- update(key : value): actualiza el diccionario con los pares clave-valor especificados\n",
    "\n",
    "- values(): devuelve una lista de todos los valores del diccionario\n",
    "\n"
   ]
  },
  {
   "cell_type": "code",
   "execution_count": 2,
   "metadata": {},
   "outputs": [
    {
     "name": "stdout",
     "output_type": "stream",
     "text": [
      "value4\n",
      "{'Key1': 1, 'key2': 'barcelona', 'key3': 2, 'key5': 1000}\n"
     ]
    }
   ],
   "source": [
    "print(d.pop('key4'))\n",
    "\n",
    "d.update({'key5':1000})\n",
    "print(d)"
   ]
  },
  {
   "cell_type": "code",
   "execution_count": null,
   "metadata": {},
   "outputs": [],
   "source": []
  },
  {
   "cell_type": "code",
   "execution_count": null,
   "metadata": {},
   "outputs": [],
   "source": []
  }
 ],
 "metadata": {
  "kernelspec": {
   "display_name": "Python 3 (ipykernel)",
   "language": "python",
   "name": "python3"
  },
  "language_info": {
   "codemirror_mode": {
    "name": "ipython",
    "version": 3
   },
   "file_extension": ".py",
   "mimetype": "text/x-python",
   "name": "python",
   "nbconvert_exporter": "python",
   "pygments_lexer": "ipython3",
   "version": "3.9.7"
  }
 },
 "nbformat": 4,
 "nbformat_minor": 2
}

{
 "cells": [
  {
   "cell_type": "markdown",
   "metadata": {},
   "source": [
    "## ORIENTACIÓN A OBJETOS\n",
    "La Programación Orientada a Objetos (POO u OOP según sus siglas en inglés) es un paradigma de programación en el que los conceptos del mundo real relevantes para nuestro problema se modelan a través de clases y objetos, y en el que nuestro programa consiste en una serie de interacciones entre estos objetos."
   ]
  },
  {
   "cell_type": "markdown",
   "metadata": {},
   "source": [
    "### - Clases y Objetos:\n",
    "Para entender este paradigma primero tenemos que comprender qué es\n",
    "una clase y qué es un objeto. Un objeto es una entidad que agrupa un\n",
    "estado y una funcionalidad relacionadas. El estado del objeto se define\n",
    "a través de variables llamadas atributos, mientras que la funcionalidad\n",
    "se modela a través de funciones a las que se les conoce con el nombre\n",
    "de métodos del objeto.\n",
    "\n",
    "Un ejemplo de objeto podría ser un coche, en el que tendríamos atributos como la marca, el número de puertas o el tipo de carburante y\n",
    "métodos como arrancar y parar. O bien cualquier otra combinación de\n",
    "atributos y métodos según lo que fuera relevante para nuestro programa.\n",
    "\n",
    "Una clase, por otro lado, no es más que una plantilla genérica a partir \n",
    "de la cuál instanciar los objetos; plantilla que es la que define qué atributos y métodos tendrán los objetos de esa clase.\n",
    "\n",
    "Volviendo a nuestro ejemplo: en el mundo real existe un conjunto de\n",
    "objetos a los que llamamos coches y que tienen un conjunto de atributos comunes y un comportamiento común, esto es a lo que llamamos\n",
    "clase. Sin embargo, mi coche no es igual que el coche de mi vecino, y\n",
    "aunque pertenecen a la misma clase de objetos, son objetos distintos.\n",
    "En Python las clases se definen mediante la palabra clave class seguida del nombre de la clase, dos puntos (:) y a continuación, indentado,\n",
    "el cuerpo de la clase:"
   ]
  },
  {
   "cell_type": "code",
   "execution_count": 8,
   "metadata": {},
   "outputs": [],
   "source": [
    "class Coche:\n",
    "    \"\"\"Abstraccion de los objetos coche.\"\"\"\n",
    "    def __init__(self, gasolina):\n",
    "        self.gasolina = gasolina\n",
    "        print('Tenemos', gasolina, 'litros')\n",
    "            \n",
    "    def arrancar(self):\n",
    "        if self.gasolina > 0:\n",
    "            print('Arranca')\n",
    "        else:\n",
    "            print('No arranca')\n",
    "                \n",
    "    def conducir(self):\n",
    "        if self.gasolina > 0:\n",
    "            self.gasolina -= 1\n",
    "            print('Quedan', self.gasolina, 'litros')\n",
    "        else:\n",
    "            print('No se mueve')"
   ]
  },
  {
   "cell_type": "markdown",
   "metadata": {},
   "source": [
    "En el ejemplo anterior vemos que en la primera linea dentro de la clase\n",
    "encontramos una cadena de texto entre \"\"\" \"\"\", a esta cadena se le llama docstring o cadena de documentación de la clase y también se utiliza de la misma manera en la creación de funciones con el proposito de proporcionar información sobre el codigo. "
   ]
  },
  {
   "cell_type": "markdown",
   "metadata": {},
   "source": [
    "Lo primero que llama la atención en el ejemplo anterior es el nombre\n",
    "tan curioso que tiene el método \\__init\\__. Este nombre es una convención y no un capricho. El método \\__init\\__, con una doble barra baja al\n",
    "principio y final del nombre, se ejecuta justo después de crear un nuevo\n",
    "objeto a partir de la clase, proceso que se conoce con el nombre de\n",
    "instanciación. El método \\__init\\__ sirve, como sugiere su nombre, para\n",
    "realizar cualquier proceso de inicialización que sea necesario.\n",
    "\n",
    "Como vemos el primer parámetro de \\__init\\__ y del resto de métodos \n",
    "de la clase es siempre self. Esta es una idea inspirada en Modula-3 y\n",
    "sirve para referirse al objeto actual. Este mecanismo es necesario para\n",
    "poder acceder a los atributos y métodos del objeto diferenciando, por\n",
    "ejemplo, una variable local mi_var de un atributo del objeto self.\n",
    "mi_var.\n",
    "\n",
    "Si volvemos al método \\__init\\__ de nuestra clase Coche veremos cómo\n",
    "se utiliza self para asignar al atributo gasolina del objeto (self.gasolina) el valor que el programador especificó para el parámetro gasolina. El parámetro gasolina se destruye al final de la función, mientras\n",
    "que el atributo gasolina se conserva (y puede ser accedido) mientras el\n",
    "objeto viva.\n",
    "\n",
    "Para crear un objeto se escribiría el nombre de la clase seguido de cualquier parámetro que sea necesario entre paréntesis. Estos parámetros\n",
    "son los que se pasarán al método \\__init\\__, que como decíamos es el\n",
    "método que se llama al instanciar la clase:"
   ]
  },
  {
   "cell_type": "code",
   "execution_count": 9,
   "metadata": {},
   "outputs": [
    {
     "name": "stdout",
     "output_type": "stream",
     "text": [
      "Tenemos 3 litros\n"
     ]
    }
   ],
   "source": [
    "mi_coche = Coche(3)"
   ]
  },
  {
   "cell_type": "markdown",
   "metadata": {},
   "source": [
    "Os preguntareis entonces cómo es posible que a la hora de crear nuestro primer objeto pasemos un solo parámetro a \\__init__, el número\n",
    "3, cuando la definición de la función indica claramente que precisa de\n",
    "dos parámetros (self y gasolina). Esto es así porque Python pasa el\n",
    "primer argumento (la referencia al objeto que se crea) automágicamente.\n",
    "\n",
    "Ahora que ya hemos creado nuestro objeto, podemos acceder a sus\n",
    "atributos y métodos mediante la sintaxis objeto.atributo y objeto.\n",
    "metodo():"
   ]
  },
  {
   "cell_type": "code",
   "execution_count": 10,
   "metadata": {},
   "outputs": [
    {
     "name": "stdout",
     "output_type": "stream",
     "text": [
      "3\n",
      "Arranca\n",
      "Quedan 2 litros\n",
      "Quedan 1 litros\n",
      "Quedan 0 litros\n",
      "No se mueve\n",
      "No arranca\n",
      "0\n"
     ]
    }
   ],
   "source": [
    "# mostrara \"3\"\n",
    "print(mi_coche.gasolina)\n",
    "# mostrara \"Arranca\"\n",
    "mi_coche.arrancar()\n",
    "# mostrara \"Quedan 2 litros\"\n",
    "mi_coche.conducir()\n",
    "# mostrara \"Quedan 1 litros\"\n",
    "mi_coche.conducir()\n",
    "# mostrara \"Quedan 0 litros\"\n",
    "mi_coche.conducir()\n",
    "# mostrara \"No se mueve\"\n",
    "mi_coche.conducir()\n",
    "# mostrara \"No arranca\"\n",
    "mi_coche.arrancar()\n",
    "# mostrara \"0\"\n",
    "print(mi_coche.gasolina)"
   ]
  },
  {
   "cell_type": "markdown",
   "metadata": {},
   "source": [
    "### - Herencia\n",
    "Hay tres conceptos que son básicos para cualquier lenguaje de programación orientado a objetos: el encapsulamiento, la herencia y el\n",
    "polimorfismo.\n",
    "\n",
    "En un lenguaje orientado a objetos cuando hacemos que una clase\n",
    "(subclase) herede de otra clase (superclase) estamos haciendo que la\n",
    "subclase contenga todos los atributos y métodos que tenía la superclase. No obstante al acto de heredar de una clase también se le llama a\n",
    "menudo “extender una clase”.\n",
    "\n",
    "Supongamos que queremos modelar los instrumentos musicales de\n",
    "una banda, tendremos entonces una clase Guitarra, una clase Batería,\n",
    "una clase Bajo, etc. Cada una de estas clases tendrá una serie de atributos y métodos, pero ocurre que, por el mero hecho de ser instrumentos\n",
    "musicales, estas clases compartirán muchos de sus atributos y métodos;\n",
    "un ejemplo sería el método tocar().\n",
    "\n",
    "Es más sencillo crear un tipo de objeto Instrumento con las atributos y\n",
    "métodos comunes e indicar al programa que Guitarra, Batería y Bajo\n",
    "son tipos de instrumentos, haciendo que hereden de Instrumento.\n",
    "\n",
    "Para indicar que una clase hereda de otra se coloca el nombre de la clase de la que se hereda entre paréntesis después del nombre de la clase:"
   ]
  },
  {
   "cell_type": "code",
   "execution_count": 11,
   "metadata": {},
   "outputs": [],
   "source": [
    "class Instrumento:\n",
    "    def __init__(self, precio):\n",
    "        self.precio = precio\n",
    "    def tocar(self):\n",
    "        print('sonido musical')\n",
    "    def romper(self):\n",
    "        print('instrumento roto')\n",
    "\n",
    "class Bateria(Instrumento):\n",
    "    pass\n",
    "class Guitarra(Instrumento):\n",
    "    pass"
   ]
  },
  {
   "cell_type": "markdown",
   "metadata": {},
   "source": [
    "Como Bateria y Guitarra heredan de Instrumento, ambos tienen un\n",
    "método tocar() y un método romper(), y se inicializan pasando un\n",
    "parámetro precio. Pero, ¿qué ocurriría si quisiéramos especificar un\n",
    "nuevo parámetro tipo_cuerda a la hora de crear un objeto Guitarra?\n",
    "Bastaría con escribir un nuevo método \\__init__ para la clase Guitarra\n",
    "que se ejecutaría en lugar del \\__init__ de Instrumento. Esto es lo que\n",
    "se conoce como sobreescribir métodos.\n",
    "\n",
    "Ahora bien, puede ocurrir en algunos casos que necesitemos sobreescribir un método de la clase padre, pero que en ese método queramos\n",
    "ejecutar el método de la clase padre porque nuestro nuevo método no\n",
    "necesite más que ejecutar un par de nuevas instrucciones extra. En ese\n",
    "caso usaríamos la sintaxis SuperClase.metodo(self, args) para llamar\n",
    "al método de igual nombre de la clase padre. Por ejemplo, para llamar\n",
    "al método \\__init__ de Instrumento desde Guitarra usaríamos Instrumento.\\__init__(self, precio)\n",
    "\n",
    "Observad que en este caso si es necesario especificar el parámetro self."
   ]
  },
  {
   "cell_type": "markdown",
   "metadata": {},
   "source": [
    "Adicionalmente Python permite la **Herencia Mútiple**, es decir, una clase hereda de varias simultaneamente. Para la definicón de esta simplemente hay que enumerar las clases padre separadas por comas."
   ]
  },
  {
   "cell_type": "markdown",
   "metadata": {},
   "source": [
    "### - Polimorfismo:\n",
    "La palabra polimorfismo, del griego poly morphos (varias formas), se refiere a la habilidad de objetos de distintas clases de responder al mismo\n",
    "mensaje. Esto se puede conseguir a través de la herencia: un objeto de\n",
    "una clase derivada es al mismo tiempo un objeto de la clase padre, de\n",
    "forma que allí donde se requiere un objeto de la clase padre también se\n",
    "puede utilizar uno de la clase hija.\n",
    "\n",
    "Python, al ser de tipado dinámico, no impone restricciones a los tipos\n",
    "que se le pueden pasar a una función, por ejemplo, más allá de que el\n",
    "objeto se comporte como se espera: si se va a llamar a un método f()\n",
    "del objeto pasado como parámetro, por ejemplo, evidentemente el\n",
    "objeto tendrá que contar con ese método. Por ese motivo, a diferencia\n",
    "de lenguajes de tipado estático como Java o C++, el polimorfismo en\n",
    "Python no es de gran importancia."
   ]
  },
  {
   "cell_type": "markdown",
   "metadata": {},
   "source": [
    "### - Encapsulación:\n",
    "La encapsulación se refiere a impedir el acceso a determinados métodos y atributos de los objetos estableciendo así qué puede utilizarse\n",
    "desde fuera de la clase.\n",
    "\n",
    "Esto se consigue en otros lenguajes de programación como Java utilizando modificadores de acceso que definen si cualquiera puede acceder\n",
    "a esa función o variable (public) o si está restringido el acceso a la\n",
    "propia clase (private).\n",
    "\n",
    "En Python no existen los modificadores de acceso, y lo que se suele\n",
    "hacer es que el acceso a una variable o función viene determinado por\n",
    "su nombre: si el nombre comienza con dos guiones bajos (y no termina\n",
    "también con dos guiones bajos) se trata de una variable o función privada, en caso contrario es pública. Los métodos cuyo nombre comienza y termina con dos guiones bajos son métodos especiales que Python\n",
    "llama automáticamente bajo ciertas circunstancias.\n",
    "\n",
    "En el siguiente ejemplo sólo se imprimirá la cadena correspondiente al\n",
    "método publico(), mientras que al intentar llamar al método \\__privado() Python lanzará una excepción quejándose de que no existe\n",
    "(evidentemente existe, pero no lo podemos ver porque es privado)."
   ]
  },
  {
   "cell_type": "code",
   "execution_count": 12,
   "metadata": {},
   "outputs": [
    {
     "name": "stdout",
     "output_type": "stream",
     "text": [
      "Publico\n"
     ]
    }
   ],
   "source": [
    "class Ejemplo:\n",
    "    def publico(self):\n",
    "        print('Publico')\n",
    "    def __privado(self):\n",
    "        print('Privado')\n",
    "        \n",
    "ej = Ejemplo()\n",
    "# llamada al metodo publico\n",
    "ej.publico()"
   ]
  },
  {
   "cell_type": "code",
   "execution_count": 13,
   "metadata": {},
   "outputs": [
    {
     "ename": "AttributeError",
     "evalue": "'Ejemplo' object has no attribute '__privado'",
     "output_type": "error",
     "traceback": [
      "\u001b[1;31m---------------------------------------------------------------------------\u001b[0m",
      "\u001b[1;31mAttributeError\u001b[0m                            Traceback (most recent call last)",
      "\u001b[1;32m~\\AppData\\Local\\Temp/ipykernel_17740/3831526912.py\u001b[0m in \u001b[0;36m<module>\u001b[1;34m\u001b[0m\n\u001b[0;32m      1\u001b[0m \u001b[1;31m# llamada al metodo privado\u001b[0m\u001b[1;33m\u001b[0m\u001b[1;33m\u001b[0m\u001b[0m\n\u001b[1;32m----> 2\u001b[1;33m \u001b[0mej\u001b[0m\u001b[1;33m.\u001b[0m\u001b[0m__privado\u001b[0m\u001b[1;33m(\u001b[0m\u001b[1;33m)\u001b[0m\u001b[1;33m\u001b[0m\u001b[1;33m\u001b[0m\u001b[0m\n\u001b[0m",
      "\u001b[1;31mAttributeError\u001b[0m: 'Ejemplo' object has no attribute '__privado'"
     ]
    }
   ],
   "source": [
    "# llamada al metodo privado\n",
    "ej.__privado()"
   ]
  },
  {
   "cell_type": "markdown",
   "metadata": {},
   "source": [
    "En ocasiones también puede suceder que queramos permitir el acceso\n",
    "a algún atributo de nuestro objeto, pero que este se produzca de forma\n",
    "controlada. Para esto podemos escribir métodos cuyo único cometido\n",
    "sea este, métodos que normalmente, por convención, tienen nombres\n",
    "como getVariable y setVariable; de ahí que se conozcan también con\n",
    "el nombre de getters y setters:"
   ]
  },
  {
   "cell_type": "code",
   "execution_count": 14,
   "metadata": {},
   "outputs": [
    {
     "name": "stdout",
     "output_type": "stream",
     "text": [
      "Error\n"
     ]
    }
   ],
   "source": [
    "class Fecha():\n",
    "    def __init__(self):\n",
    "        self.__dia = 1\n",
    "    def getDia(self):\n",
    "        return self.__dia\n",
    "    def setDia(self, dia):\n",
    "        if dia > 0 and dia < 31:\n",
    "            self.__dia = dia\n",
    "        else:\n",
    "            print('Error')\n",
    "mi_fecha = Fecha()\n",
    "mi_fecha.setDia(33)"
   ]
  },
  {
   "cell_type": "code",
   "execution_count": null,
   "metadata": {},
   "outputs": [],
   "source": []
  },
  {
   "cell_type": "code",
   "execution_count": null,
   "metadata": {},
   "outputs": [],
   "source": []
  },
  {
   "cell_type": "code",
   "execution_count": null,
   "metadata": {},
   "outputs": [],
   "source": []
  }
 ],
 "metadata": {
  "kernelspec": {
   "display_name": "Python 3 (ipykernel)",
   "language": "python",
   "name": "python3"
  },
  "language_info": {
   "codemirror_mode": {
    "name": "ipython",
    "version": 3
   },
   "file_extension": ".py",
   "mimetype": "text/x-python",
   "name": "python",
   "nbconvert_exporter": "python",
   "pygments_lexer": "ipython3",
   "version": "3.9.7"
  }
 },
 "nbformat": 4,
 "nbformat_minor": 2
}

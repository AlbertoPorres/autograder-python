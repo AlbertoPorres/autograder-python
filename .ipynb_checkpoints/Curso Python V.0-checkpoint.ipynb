{
 "cells": [
  {
   "cell_type": "markdown",
   "metadata": {},
   "source": [
    "# Curso Básico de Python\n",
    "\n",
    "Este pequeño curso básico de Python esta básado en el curso de Raúl González Duque. https://duenaslerin.com/tico2/pdfs/python-para-todos.pdf.\n",
    "\n",
    "Este tiene el objetivo de impartir los conocimientos más básicos y esenciales del lenguaje de programación Python con una serie de ejercicios autocorregibles a contestar por el alumno."
   ]
  },
  {
   "cell_type": "markdown",
   "metadata": {},
   "source": [
    "# 1 INTRODUCCIÓN A PYTHON\n",
    "En esta sección de introducción veremos la base de todo lenguaje de programación: tipos básicos, asignación de variables y operadores."
   ]
  },
  {
   "cell_type": "markdown",
   "metadata": {},
   "source": [
    "En Python los tipos básicos se dividen en:\n",
    "- Números, como pueden ser 3 (entero), 15.57 (de coma flotante) o 7 + 5j (complejos)\n",
    "- Cadenas de texto, como “Hola Mundo”\n",
    "- Valores booleanos: True (cierto) y False (falso).\n",
    "\n",
    "Vamos a crear algunas variables de ejemplo. Como vereis a continuación la asignación de valores en Python se hace mediante el simbolo \" = \" sin necesitar de declarar previamente el tipo de la varibale.\n",
    "Los comentarios en línea se crean mediante el simbolo \" # \"."
   ]
  },
  {
   "cell_type": "code",
   "execution_count": 9,
   "metadata": {},
   "outputs": [],
   "source": [
    "# esto es una cadena\n",
    "c = \"Hola Mundo\"\n",
    "# y esto es una varible numérica entera\n",
    "e = 23"
   ]
  },
  {
   "cell_type": "markdown",
   "metadata": {},
   "source": [
    "### 1.1 Números\n",
    "**Enteros**\n",
    "Los números enteros son aquellos números positivos o negativos que no tienen decimales.\n",
    "En Python se pueden representar mediante el tipo int (entero).\n",
    "Al asignar un número a una variable esta pasará a tener tipo int de forma automática.\n",
    "También es posible asignar valores en binario, hexadecimal y octal. El prefijo 0b indica que lo que viene a continuación será interpretado como un número binario. Para el caso hexadecimal es con 0x y octal con 0o.\n",
    "\n",
    "**Reales**\n",
    "Los números reales son los que tienen decimales. En Python se expresan mediante el tipo float.\n",
    "Para representar un número real en Python se escribe primero la parte\n",
    "entera, seguido de un punto y por último la parte decimal.\n",
    "También se puede utilizar notación científica, y añadir una e (de exponente) para indicar un exponente en base 10\n",
    "\n",
    "**Complejos**\n",
    "Los números complejos son aquellos que tienen parte imaginaria.\n",
    "Se representan primero escribiendo la parte real y posteriormente la imaginaria."
   ]
  },
  {
   "cell_type": "code",
   "execution_count": 10,
   "metadata": {},
   "outputs": [],
   "source": [
    "# entero\n",
    "a = 23\n",
    "\n",
    "# hexadecimal\n",
    "b = 0x23\n",
    "\n",
    "# octal\n",
    "c = 0o23\n",
    "\n",
    "# binario\n",
    "d = 0b101"
   ]
  },
  {
   "cell_type": "markdown",
   "metadata": {},
   "source": [
    "### 1.2 Operadores\n",
    "En estas tablas veremos los diferentes operadores que tiene Python para jugar con datos y variables:\n",
    "\n",
    "**Operadores aritméticos**\n",
    "\n",
    "| OPERADOR | DESCRIPCION | EJEMPLO |\n",
    "| :------- | :---------: |-------: |\n",
    "| +        | Suma        | r = 3 + 2     # r es 5   |\n",
    "| -        | Resta       | r = 4 - 7     # r es -3  |\n",
    "| -        | Negación    | r = -7        # r es -7  |\n",
    "| *        | Multiplicación  |r = 2 * 6   # r es 12 |\n",
    "| **       | Exponente       | r = 2 ** 6   # r es 64   |\n",
    "| /        | División        | r = 3.5 / 2   # r es 1.75  |\n",
    "| //       | División entera | r = 3.5 // 2   # r es 1.0   |\n",
    "| %       | Módulo | r = 7 % 2 # r es 1  |\n",
    "\n",
    "\n",
    "**Operadores a nivel de bit**\n",
    "\n",
    "| OPERADOR | DESCRIPCION | EJEMPLO |\n",
    "| :------- | :---------: |-------: |\n",
    "| &       | and        | r = 3 & 2 # r es 2  |\n",
    "| \\|      | or       | r = 3 \\| 2 # r es 3 |\n",
    "| ^        | xor    | r = 3 ^ 2 # r es 1  |\n",
    "| ~         | not  |r = ~3 # r es -4 |\n",
    "| <<       | Desplazamiento izq.     |r = 3 << 1 # r es 6   |\n",
    "| >>        | Desplazamiento der.      | r = 3 >> 1 # r es 1 |\n",
    "|<=      | ¿es a menor o igual que b?     | r = 5 <= 5 # r es True|\n",
    "| >=      |¿es a mayor o igual que b?    | r = 5 >= 3 # r es True |\n"
   ]
  },
  {
   "cell_type": "markdown",
   "metadata": {},
   "source": [
    "### 1.3 Cadenas\n",
    "Las cadenas no son más que texto encerrado entre comillas simples o dobles\n",
    "(‘cadena’). Dentro de las comillas se pueden\n",
    "añadir caracteres especiales escapándolos con \\\\, como \\n, el carácter de\n",
    "nueva línea, o \\t, el de tabulación."
   ]
  },
  {
   "cell_type": "code",
   "execution_count": 11,
   "metadata": {},
   "outputs": [
    {
     "name": "stdout",
     "output_type": "stream",
     "text": [
      "unodos\n",
      "unounouno\n"
     ]
    }
   ],
   "source": [
    "a = 'uno'\n",
    "b = \"dos\"\n",
    "c = a + b # c es “unodos”\n",
    "print(c)\n",
    "c = a * 3 # c es “unounouno”\n",
    "print(c)"
   ]
  },
  {
   "cell_type": "markdown",
   "metadata": {},
   "source": [
    "### 1.4 Booleanos\n",
    "Una variable de tipo booleano sólo puede tener dos valores: True (cierto) y False (falso). Estos\n",
    "valores son especialmente importantes para las expresiones condicionales y los bucles, como veremos más adelante.\n",
    "Estos son los distintos tipos de operadores con los que podemos trabajar con valores booleanos, los llamados operadores lógicos o condicionales:\n",
    "\n",
    "| OPERADOR | DESCRIPCION | EJEMPLO |\n",
    "| :------- | :---------: |-------: |\n",
    "| and       | ¿se cumple a y b?        | r = True and False # r es False  |\n",
    "| or      | ¿se cumple a o b?       | r = True or False # r es True |\n",
    "| not        | No a     | r = not True # r es False  |\n",
    "\n",
    "Los valores booleanos son además el resultado de expresiones que\n",
    "utilizan operadores relacionales (comparaciones entre valores):\n",
    "\n",
    "| OPERADOR | DESCRIPCION | EJEMPLO |\n",
    "| :------- | :---------: |-------: |\n",
    "|   ==      |   ¿son iguales a y b?      | r = 5 == 3 # r es False  |\n",
    "|    !=    |    ¿son distintos a y b?    |  r = 5 != 3 # r es True|\n",
    "|    <     |   ¿es a menor que b?    | r = 5 < 3 # r es False |\n",
    "|    >     |   ¿es a mayor que b?    | r = 5 > 3 # r es True |\n",
    "|    <=      |   ¿es a menor o igual que b?   | r = 5 <= 5 # r es True |\n",
    "|    >=     |   ¿es a mayor o igual que b?   | r = 5 >= 3 # r es True |\n",
    " "
   ]
  },
  {
   "cell_type": "code",
   "execution_count": 12,
   "metadata": {},
   "outputs": [],
   "source": [
    "bool_1 = False \n",
    "bool_2 = True "
   ]
  },
  {
   "cell_type": "markdown",
   "metadata": {},
   "source": [
    "**COMPRUEBA LA APRENDIDO**"
   ]
  },
  {
   "cell_type": "code",
   "execution_count": null,
   "metadata": {},
   "outputs": [],
   "source": []
  },
  {
   "cell_type": "markdown",
   "metadata": {},
   "source": [
    "## 2 FUNCIONES"
   ]
  },
  {
   "cell_type": "markdown",
   "metadata": {},
   "source": [
    "Una función es un fragmento de código con un nombre asociado que\n",
    "realiza una serie de tareas y devuelve un valor, para la devolución de este valor se utiliza la keyword *return*. A los fragmentos de\n",
    "código que tienen un nombre asociado y no devuelven valores se les\n",
    "suele llamar procedimientos. En Python no existen los procedimientos, ya que cuando el programador no especifica un valor de retorno la\n",
    "función devuelve el valor None (nada).\n",
    "\n",
    "Además de ayudarnos a programar y depurar dividiendo el programa\n",
    "en partes las funciones también permiten reutilizar código.\n",
    "\n",
    "En Python las funciones se declaran de la siguiente forma:"
   ]
  },
  {
   "cell_type": "code",
   "execution_count": 13,
   "metadata": {},
   "outputs": [],
   "source": [
    "# definición\n",
    "def mi_funcion(param1, param2):\n",
    "    # cuerpo\n",
    "    print(param1)\n",
    "    print(param2)\n",
    "    return None"
   ]
  },
  {
   "cell_type": "markdown",
   "metadata": {},
   "source": [
    "Es decir, la palabra clave def seguida del nombre de la función y entre\n",
    "paréntesis los argumentos separados por comas. A continuación, en\n",
    "otra línea, indentado y después de los dos puntos tendríamos las líneas\n",
    "de código que conforman el código a ejecutar por la función."
   ]
  },
  {
   "cell_type": "markdown",
   "metadata": {},
   "source": [
    "Es importante aclarar que\n",
    "al declarar la función lo único que hacemos es asociar un nombre al\n",
    "fragmento de código que conforma la función, de forma que podamos\n",
    "ejecutar dicho código más tarde referenciándolo por su nombre. Es\n",
    "decir, a la hora de escribir estas líneas no se ejecuta la función. Para\n",
    "llamar a la función (ejecutar su código) se escribiría:"
   ]
  },
  {
   "cell_type": "code",
   "execution_count": 14,
   "metadata": {
    "scrolled": true
   },
   "outputs": [
    {
     "name": "stdout",
     "output_type": "stream",
     "text": [
      "hola\n",
      "2\n"
     ]
    }
   ],
   "source": [
    "mi_funcion('hola', 2)"
   ]
  },
  {
   "cell_type": "markdown",
   "metadata": {},
   "source": [
    "Es decir, el nombre de la función a la que queremos llamar seguido de\n",
    "los valores que queramos pasar como parámetros entre paréntesis. La\n",
    "asociación de los parámetros y los valores pasados a la función se hace\n",
    "normalmente de izquierda a derecha: como a param1 le hemos dado un\n",
    "valor “hola” y param2 vale 2, mi_funcion imprimiría hola en una línea,\n",
    "y a continuación 2.\n",
    "Sin embargo también es posible modificar el orden de los parámetros\n",
    "si indicamos el nombre del parámetro al que asociar el valor a la hora\n",
    "de llamar a la función:"
   ]
  },
  {
   "cell_type": "code",
   "execution_count": 15,
   "metadata": {},
   "outputs": [
    {
     "name": "stdout",
     "output_type": "stream",
     "text": [
      "hola\n",
      "2\n"
     ]
    }
   ],
   "source": [
    "mi_funcion(param2 = 2, param1 = 'hola')"
   ]
  },
  {
   "cell_type": "markdown",
   "metadata": {},
   "source": [
    "El número de valores que se pasan como parámetro al llamar a la función tiene que coincidir con el número de parámetros que la función\n",
    "acepta según la declaración de la función. En caso contrario obtendremos un error:"
   ]
  },
  {
   "cell_type": "code",
   "execution_count": 16,
   "metadata": {},
   "outputs": [
    {
     "ename": "TypeError",
     "evalue": "mi_funcion() missing 1 required positional argument: 'param2'",
     "output_type": "error",
     "traceback": [
      "\u001b[1;31m---------------------------------------------------------------------------\u001b[0m",
      "\u001b[1;31mTypeError\u001b[0m                                 Traceback (most recent call last)",
      "\u001b[1;32m<ipython-input-16-33b2e7e71005>\u001b[0m in \u001b[0;36m<module>\u001b[1;34m\u001b[0m\n\u001b[1;32m----> 1\u001b[1;33m \u001b[0mmi_funcion\u001b[0m\u001b[1;33m(\u001b[0m\u001b[1;36m1\u001b[0m\u001b[1;33m)\u001b[0m\u001b[1;33m\u001b[0m\u001b[1;33m\u001b[0m\u001b[0m\n\u001b[0m",
      "\u001b[1;31mTypeError\u001b[0m: mi_funcion() missing 1 required positional argument: 'param2'"
     ]
    }
   ],
   "source": [
    "mi_funcion(1)"
   ]
  },
  {
   "cell_type": "markdown",
   "metadata": {},
   "source": [
    "Conjuntamente, Python permite dar un valor por defecto a un parámetro en\n",
    "la definición de la función de la siguiente manera:"
   ]
  },
  {
   "cell_type": "code",
   "execution_count": 17,
   "metadata": {},
   "outputs": [
    {
     "name": "stdout",
     "output_type": "stream",
     "text": [
      "2\n",
      "1\n"
     ]
    }
   ],
   "source": [
    "def funcion2 (param1  , param2 = 1):\n",
    "    print(param1)\n",
    "    print(param2)\n",
    "    \n",
    "# podemos llamar a la función indicando únicamente el valor del parametro 1\n",
    "funcion2(2)"
   ]
  },
  {
   "cell_type": "markdown",
   "metadata": {},
   "source": [
    "Para definir funciones con un número variable de argumentos colocamos un último parámetro para la función cuyo nombre debe precederse de un signo *:"
   ]
  },
  {
   "cell_type": "code",
   "execution_count": 18,
   "metadata": {},
   "outputs": [
    {
     "name": "stdout",
     "output_type": "stream",
     "text": [
      "3\n",
      "4\n"
     ]
    }
   ],
   "source": [
    "def varios(param1, param2, *otros):\n",
    "     for val in otros:\n",
    "         print(val)\n",
    "varios(1,2,3,4)"
   ]
  },
  {
   "cell_type": "markdown",
   "metadata": {},
   "source": [
    "## 3 LISTAS Y TUPLAS\n",
    "En capitulos anteriores vimos algunos tipos básicos, como los números,\n",
    "las cadenas de texto y los booleanos. En esta lección veremos dos\n",
    "tipos de colecciones de datos característicos de Python: listas y tuplas."
   ]
  },
  {
   "cell_type": "markdown",
   "metadata": {},
   "source": [
    "### 3.1 Listas\n",
    "La lista es un tipo de colección ordenada. Sería equivalente a lo que en otros lenguajes se conoce por arrays, o vectores. Las listas pueden contener cualquier tipo de dato: números, cadenas, booleanos, … y también otras listas!\n",
    "Crear una lista es tan sencillo como indicar entre corchetes, y separados por comas, los valores que queremos incluir en esta y podemos acceder a cada uno de los elementos escribiendo el nombre de la lista e indicando el índice del elemento entre corchetes. Ten en cuenta sin embargo que el índice del primer elemento de la lista es 0, y no 1. \n",
    "Si queremos acceder a un elemento de una lista incluida dentro de otra lista tendremos que utilizar dos veces este operador, primero para indicar a qué posición de la lista exterior queremos acceder, y el segundo para seleccionar el elemento de la lista interior.\n",
    "\n",
    "\n",
    "Veamos todo esto en un ejemplo:"
   ]
  },
  {
   "cell_type": "code",
   "execution_count": 43,
   "metadata": {},
   "outputs": [
    {
     "name": "stdout",
     "output_type": "stream",
     "text": [
      "22\n",
      "2\n"
     ]
    }
   ],
   "source": [
    "# definición de listas\n",
    "l = [22, True, 'una lista', [1, 2]]\n",
    "p = [11, False]\n",
    "\n",
    "# acceso lista con una dimensión\n",
    "print(l[0]) # valdrá 22\n",
    "\n",
    "# acceso lista con dos dimensión\n",
    "l = ['una lista', [1, 2]]\n",
    "print(l[1][1]) # valdrá 2"
   ]
  },
  {
   "cell_type": "markdown",
   "metadata": {},
   "source": [
    "Adicionalmente, las listar permiten el acceso a su contenido mediante recortes utilizando “:” dentro de los corchetes. Veamos un ejemplo:"
   ]
  },
  {
   "cell_type": "code",
   "execution_count": 44,
   "metadata": {},
   "outputs": [
    {
     "name": "stdout",
     "output_type": "stream",
     "text": [
      "['manzanas', 'peras']\n"
     ]
    }
   ],
   "source": [
    "compra = ['patatas','manzanas', 'peras', 'macarrones', 'vino', 'tomate']\n",
    "\n",
    "print(compra[1:3])"
   ]
  },
  {
   "cell_type": "markdown",
   "metadata": {},
   "source": [
    "En el ejemplo anterior estamos indicando primero el índice donde iniciar el recorte a la izquierda de los dos puntos, y a la derecha, el indice en el que acabar sin incluir este útimo. Si no se indica el índice de inicio se partirá desde el primer elemento y si no se indica el indice derecho, se tomarán todos los elementos desde el de partida hasta el final de la lista.\n",
    "\n",
    "Las listas son mutables, lo que quiere decir que su contenido puede ser modificado. Una forma de modificarlas es indicando el índice que se quiere cambiar y dándole el contenido nuevo usando “=”.\n"
   ]
  },
  {
   "cell_type": "code",
   "execution_count": 45,
   "metadata": {},
   "outputs": [
    {
     "name": "stdout",
     "output_type": "stream",
     "text": [
      "['patatas', 'manzanas', 'peras', 'macarrones', 'platanos', 'tomate']\n"
     ]
    }
   ],
   "source": [
    "compra[4] = 'platanos'\n",
    "print(compra)"
   ]
  },
  {
   "cell_type": "markdown",
   "metadata": {},
   "source": [
    "En Python las listas pertenecen a los tipos de datos denominados objetos. En esta sección no vamos a profundizar en el tema de los objetos, por el momento nos es suficiente con saber que un objeto puede tener métodos los cuales son funciones propias del objeto con una función específica sobre este.\n",
    "Los métodos disponibles para las listas son los siguientes:\n",
    "\n",
    "- append(): Añade un elemento al final de la lista.\n",
    "\n",
    "- clear(): Elimina todos los elementos de la lista\n",
    "\n",
    "- copy(): devuelve una copia de la lista\n",
    "\n",
    "- count(): devuelve el numero de elementos con el valor especificado\n",
    "\n",
    "- extend(): añade elementos al final de la lista \n",
    "\n",
    "- index(): devuelve el indice del primer elemento con el valor especificado\n",
    "\n",
    "- insert(): añade un elemento en la posición especificada\n",
    "\n",
    "- pop(): elemina el elemento en la posición especificada\n",
    "\n",
    "- remove(): elimina el primer elemento con el valor especificado \n",
    "\n",
    "- reverse(): invierte el orden de la lista\n",
    "\n",
    "- sort() : ordena la \n",
    "\n",
    "Veamos un ejemplo de uso de alguno de ellos:"
   ]
  },
  {
   "cell_type": "code",
   "execution_count": 46,
   "metadata": {},
   "outputs": [
    {
     "name": "stdout",
     "output_type": "stream",
     "text": [
      "['patatas', 'manzanas', 'peras', 'macarrones', 'platanos', 'tomate', 'peras']\n",
      "peras\n",
      "['patatas', 'manzanas', 'macarrones', 'platanos', 'tomate', 'peras']\n",
      "[]\n"
     ]
    }
   ],
   "source": [
    "# insertamos peras a la lista de la compra\n",
    "compra.append('peras')\n",
    "print(compra)\n",
    "\n",
    "# extraemos un elemento de la lista\n",
    "elemento = compra.pop(2)\n",
    "print(elemento)\n",
    "print(compra)\n",
    "\n",
    "# limpiamos la lista\n",
    "compra.clear()\n",
    "print(compra)"
   ]
  },
  {
   "cell_type": "markdown",
   "metadata": {},
   "source": [
    "### 3.2 Tuplas\n",
    "Las tuplas son un tipo de datos muy similar a las listas con dos diferencias fundamentales:\n",
    "\n",
    "- La sintaxis para generar una tupla es mediante paréntesis en vez de corchetes.\n",
    "\n",
    "- Son inmutables, es decir, no pueden ser modificadas."
   ]
  },
  {
   "cell_type": "code",
   "execution_count": 47,
   "metadata": {},
   "outputs": [
    {
     "name": "stdout",
     "output_type": "stream",
     "text": [
      "22\n",
      "2\n"
     ]
    }
   ],
   "source": [
    "# definición de tuplas\n",
    "l = (22, True, 'una tupla', [1, 2])\n",
    "p = (11, False)\n",
    "\n",
    "# acceso tuplas con una dimensión\n",
    "print(l[0]) # valdrá 22\n",
    "\n",
    "# acceso tuplas con dos dimensión\n",
    "l = ['una lista', [1, 2]]\n",
    "print(l[1][1]) # valdrá 2"
   ]
  },
  {
   "cell_type": "markdown",
   "metadata": {},
   "source": [
    "El acceso al contenido de estas es igual al de las listas y los métodos disponibles son los siguientes:\n",
    "\n",
    "- count(): devuelve el numero de elementos con el valor especificado\n",
    "\n",
    "- index(): devuelve el indice del primer elemento con el valor especificado"
   ]
  },
  {
   "cell_type": "markdown",
   "metadata": {},
   "source": [
    "## 4 CONTROL DE FLUJO\n",
    "En esta lección vamos a ver los condicionales y los bucles"
   ]
  },
  {
   "cell_type": "markdown",
   "metadata": {},
   "source": [
    "### 4.1 Sentencias condicionales\n",
    "Si un programa no fuera más que una lista de órdenes a ejecutar de\n",
    "forma secuencial, una por una, no tendría mucha utilidad. Los condicionales nos permiten comprobar condiciones y hacer que nuestro\n",
    "programa se comporte de una forma u otra, que ejecute un fragmento\n",
    "de código u otro, dependiendo de esta condición.\n",
    "\n",
    "Aquí es donde cobran su importancia el tipo booleano y los operadores\n",
    "lógicos y relacionales que aprendimos en el capítulo sobre los tipos\n",
    "básicos de Python."
   ]
  },
  {
   "cell_type": "markdown",
   "metadata": {},
   "source": [
    "**IF**\n",
    "\n",
    "La forma más simple de un estamento condicional es un if (del inglés\n",
    "si) seguido de la condición a evaluar, dos puntos (:) y en la siguiente\n",
    "línea e indentado, el código a ejecutar en caso de que se cumpla dicha\n",
    "condición.\n",
    "\n",
    "A diferencia con otros lenguajes de programación los bloques de código que han de ejecutarse dentro del condicional no se incluyen entre corchetes sino mediante la identación de código, es por eso que se debe ser cauteloso con los tabuladores a la hora de crear condicionales, mira el ejemplo a continuación:"
   ]
  },
  {
   "cell_type": "code",
   "execution_count": 55,
   "metadata": {
    "scrolled": true
   },
   "outputs": [
    {
     "name": "stdout",
     "output_type": "stream",
     "text": [
      "Esta sentencia se ejecutará dentro del condicional\n",
      "Esta tambien\n",
      "Esta no se ejecuta dentro del condicional\n"
     ]
    }
   ],
   "source": [
    "n = 10\n",
    "# si (if) n es igual a 10\n",
    "if n == 10:\n",
    "    print('Esta sentencia se ejecutará dentro del condicional')\n",
    "    print('Esta tambien')\n",
    "print('Esta no se ejecuta dentro del condicional')\n",
    "\n"
   ]
  },
  {
   "cell_type": "markdown",
   "metadata": {},
   "source": [
    "**IF … ELSE**\n",
    "\n",
    "Vamos a ver ahora un condicional algo más complicado. ¿Qué haríamos si quisiéramos que se ejecutaran unas ciertas órdenes en el caso de\n",
    "que la condición no se cumpliera? Sin duda podríamos añadir otro if\n",
    "que tuviera como condición la negación del primero pero, como la mayoría de lenguajes de programación, el condicional tiene una segunda construcción mucho más útil, el \"else\". Su funcionamiento es facilmente entendible con un ejemplo:"
   ]
  },
  {
   "cell_type": "code",
   "execution_count": 56,
   "metadata": {},
   "outputs": [
    {
     "name": "stdout",
     "output_type": "stream",
     "text": [
      "esta si\n"
     ]
    }
   ],
   "source": [
    "n = 10\n",
    "if n==11:\n",
    "    print('esta sentencia no se ejecutará')\n",
    "else:\n",
    "    print('esta si')"
   ]
  },
  {
   "cell_type": "markdown",
   "metadata": {},
   "source": [
    "**IF … ELIF … ELIF … ELSE**.\n",
    "\n",
    "Todavía queda una construcción más que ver, que es la que hace uso\n",
    "del elif. Esta permite enlazar condiciones de forma continuada en caso de necesitar condiciones más especificas dentro de otras condiciones:"
   ]
  },
  {
   "cell_type": "code",
   "execution_count": 57,
   "metadata": {},
   "outputs": [
    {
     "name": "stdout",
     "output_type": "stream",
     "text": [
      "Positivo\n"
     ]
    }
   ],
   "source": [
    "n = 4\n",
    "if n < 0:\n",
    " print('Negativo')\n",
    "elif n > 0:\n",
    " print('Positivo')\n",
    "else:\n",
    " print('Cero')"
   ]
  },
  {
   "cell_type": "markdown",
   "metadata": {},
   "source": [
    "**A IF C ELSE B**\n",
    "\n",
    "También existe una construcción similar al operador ? de otros lenguajes, que no es más que una forma compacta de expresar un if else. En\n",
    "esta construcción se evalúa el predicado C y se devuelve A si se cumple\n",
    "o B si no se cumple: A if C else B. Veamos un ejemplo:"
   ]
  },
  {
   "cell_type": "code",
   "execution_count": 58,
   "metadata": {},
   "outputs": [
    {
     "name": "stdout",
     "output_type": "stream",
     "text": [
      "par\n"
     ]
    }
   ],
   "source": [
    "# si n es par la variables \"var\" obtendra el valor \"par\", sino \n",
    "# obtendrá el valor \"impar\"\n",
    "var = 'par' if (n % 2 == 0) else 'impar'\n",
    "print(var)"
   ]
  },
  {
   "cell_type": "markdown",
   "metadata": {},
   "source": [
    "### 4.2 Bucles \n",
    "Mientras que los condicionales nos permiten ejecutar distintos fragmentos de código dependiendo de ciertas condiciones, los bucles nos\n",
    "permiten ejecutar un mismo fragmento de código un cierto número de\n",
    "veces, mientras se cumpla una determinada condición.\n",
    "\n",
    "**WHILE**\n",
    "\n",
    "El bucle while (mientras) ejecuta un fragmento de código mientras se\n",
    "cumpla una condición."
   ]
  },
  {
   "cell_type": "code",
   "execution_count": 30,
   "metadata": {},
   "outputs": [
    {
     "name": "stdout",
     "output_type": "stream",
     "text": [
      "0\n",
      "1\n",
      "2\n",
      "3\n"
     ]
    }
   ],
   "source": [
    "# Este bucle cuenta de 0 a 3\n",
    "n = 0\n",
    "while n <= 3: # condicion -> mientras n sea menor o igual que 3\n",
    "    print(n)\n",
    "    n += 1"
   ]
  },
  {
   "cell_type": "markdown",
   "metadata": {},
   "source": [
    "Como podemos ver, mientras se cumpla la condicion \"n\" menor o igual que \"3\" se ejecutará el contenido del bloque while. Es importante controlar el final de un bucle while para no caer en los llamados bucles infinitos. Un ejemplo de bucle infinito seria:"
   ]
  },
  {
   "cell_type": "code",
   "execution_count": null,
   "metadata": {},
   "outputs": [],
   "source": [
    "# n = 0\n",
    "# while n <= 3:\n",
    "    # print(n)"
   ]
  },
  {
   "cell_type": "markdown",
   "metadata": {},
   "source": [
    "Al no controlar el final del bucle mediante la variable \"n\", la ejecución quedará atascada ejecutando constantemente la sentencia \"print\".\n",
    "\n",
    "Dentro de los bucles se reservan dos palabras claves para el control de flujo: \"break\" y \"continue\". \"Break\" finaliza automáticamente la ejecución del bucle y pasa a la siguiente sección de codigo y \"continue\" salta a la siguiente ejecución del bucle:"
   ]
  },
  {
   "cell_type": "code",
   "execution_count": 1,
   "metadata": {},
   "outputs": [
    {
     "name": "stdout",
     "output_type": "stream",
     "text": [
      "0\n",
      "1\n",
      "2\n"
     ]
    }
   ],
   "source": [
    "#ejemplo break\n",
    "n = 0\n",
    "while n < 10:\n",
    "    if n == 3: break\n",
    "    print(n)\n",
    "    n += 1"
   ]
  },
  {
   "cell_type": "code",
   "execution_count": 61,
   "metadata": {},
   "outputs": [
    {
     "name": "stdout",
     "output_type": "stream",
     "text": [
      "0\n",
      "1\n",
      "2\n",
      "4\n"
     ]
    }
   ],
   "source": [
    "#ejemplo continue (no imprime el 3 ya que antes de llegar salta a la \n",
    "#siguiente iteración del bucle\n",
    "a = 0\n",
    "while a < 5:\n",
    "    if a == 3:\n",
    "        a += 1 \n",
    "        continue\n",
    "    print(a)\n",
    "    a += 1"
   ]
  },
  {
   "cell_type": "markdown",
   "metadata": {},
   "source": [
    "**FOR ... IN**\n",
    "\n",
    "En Python \"for\" se utiliza como\n",
    "una forma genérica de iterar sobre una secuencia. Y como tal intenta\n",
    "facilitar su uso para este fin."
   ]
  },
  {
   "cell_type": "code",
   "execution_count": 62,
   "metadata": {},
   "outputs": [
    {
     "name": "stdout",
     "output_type": "stream",
     "text": [
      "uno\n",
      "dos\n",
      "tres\n"
     ]
    }
   ],
   "source": [
    "secuencia = ['uno', 'dos', 'tres']\n",
    "for elemento in secuencia:\n",
    "     print(elemento)"
   ]
  },
  {
   "cell_type": "markdown",
   "metadata": {},
   "source": [
    "Como hemos dicho los for se utilizan en Python para recorrer secuencias, por lo que vamos a utilizar un tipo secuencia, como es la lista, para\n",
    "nuestro ejemplo.\n",
    "Leamos la cabecera del bucle como si de lenguaje natural se tratara:\n",
    "“para cada elemento en secuencia”. Y esto es exactamente lo que hace\n",
    "el bucle: para cada elemento que tengamos en la secuencia, ejecuta\n",
    "estas líneas de código.\n",
    "Lo que hace la cabecera del bucle es obtener el siguiente elemento de\n",
    "la secuencia y almacenarlo en una variable de nombre elemento. Por esta razón en la primera iteración del bucle elemento valdrá\n",
    "“uno”, en la segunda “dos”, y en la tercera “tres”.\n",
    "Fácil y sencillo.\n",
    "Como en el bucle \"while\" tambíen podemos utilizar las palabras break y continue para el control de la ejecución."
   ]
  },
  {
   "cell_type": "markdown",
   "metadata": {},
   "source": [
    "Una de las funciones más utiles que nos ofrece Python para utilizar al trabajar con bucles es la función range(). Esta función devuelve una secuencia de números indicada por parametro.\n",
    "Veamos un ejemplo:\n"
   ]
  },
  {
   "cell_type": "code",
   "execution_count": 31,
   "metadata": {},
   "outputs": [
    {
     "name": "stdout",
     "output_type": "stream",
     "text": [
      "Iteración número  0\n",
      "Iteración número  1\n",
      "Iteración número  2\n",
      "Iteración número  3\n"
     ]
    }
   ],
   "source": [
    "for i in range(4):\n",
    "    print(\"Iteración número\", i)"
   ]
  },
  {
   "cell_type": "markdown",
   "metadata": {},
   "source": [
    "### ENUNCIADO PROBLEMA DE CONTROL DE FLUJO"
   ]
  },
  {
   "cell_type": "markdown",
   "metadata": {},
   "source": [
    "## 5 DICCIONARIOS\n",
    "En la lección número 3 hemos estudiado dos tipos de colecciones de Python: las listas y tuplas. En esta lección veremos otra estructura de datos esencial en todo lenguaje de programación: los diccionarios."
   ]
  },
  {
   "cell_type": "markdown",
   "metadata": {},
   "source": [
    "Los diccionarios, también llamados matrices asociativas, deben su nombre a que son colecciones que relacionan una clave y un valor. El primer valor se trata de la clave y el segundo del valor asociado a la clave. Como clave podemos utilizar cualquier valor inmutable: podríamos usar números, cadenas, booleanos, tuplas, … pero no listas o diccionarios, dado que son mutables. Esto es así porque los diccionarios se implementan como tablas hash, y a la hora de introducir un nuevo par clave-valor en el diccionario se calcula el hash de la clave para después poder encontrar la entrada correspondiente rápidamente. Si se modificara el objeto clave después de haber sido introducido en el diccionario, evidentemente, su hash también cambiaría y no podría ser encontrado. \n",
    "La diferencia principal entre los diccionarios y las listas o las tuplas es que a los valores almacenados en un diccionario se les accede no por su índice, porque de hecho no tienen orden, sino por su clave, utilizando de nuevo el operador [ ]. Al igual que en listas y tuplas también se puede utilizar este operador para reasignar valores."
   ]
  },
  {
   "cell_type": "code",
   "execution_count": 64,
   "metadata": {},
   "outputs": [
    {
     "name": "stdout",
     "output_type": "stream",
     "text": [
      "2\n"
     ]
    },
    {
     "data": {
      "text/plain": [
       "'barcelona'"
      ]
     },
     "execution_count": 64,
     "metadata": {},
     "output_type": "execute_result"
    }
   ],
   "source": [
    "# definicion de un diccionario\n",
    "d = {\"Key1\" : 1, \"key2\" : 2 ,\"key3\" : 2 , \"key4\" : \"value4\"}\n",
    "\n",
    "# acceso al valor de una clave\n",
    "print(d[\"key2\"])\n",
    "\n",
    "# edicion del valor de una clave\n",
    "d[\"key2\"] = \"barcelona\"\n",
    "d[\"key2\"]\n"
   ]
  },
  {
   "cell_type": "markdown",
   "metadata": {},
   "source": [
    "Como las listas y tuples, los diccionarios también tienen un conjunto de métodos propios:\n",
    "\n",
    "- clear(): elimina todos los elementos del diccionario\n",
    "\n",
    "- copy(): devuelve una copia del diccionario\n",
    "\n",
    "- fromkeys(): devuelve otro diccionario con las claves y valores especificados\n",
    "\n",
    "- get(): devuelve los valores de la clave especificada \n",
    "\n",
    "- items(): devuelve una lista de tuplas con cada par clave valor\n",
    "\n",
    "- keys(): devuelve una lista con todas las claves\n",
    "\n",
    "- pop(): elimina el elemento con la clave especificada\n",
    "\n",
    "- popitem(): elimina el último par clave-valor insertado\n",
    "\n",
    "- update(): actualiza el diccionario con los pares clave-valor especificados\n",
    "\n",
    "- values(): devuelve una lista de todos los valores del diccionario\n",
    "\n"
   ]
  },
  {
   "cell_type": "code",
   "execution_count": 65,
   "metadata": {},
   "outputs": [
    {
     "name": "stdout",
     "output_type": "stream",
     "text": [
      "value4\n",
      "{'Key1': 1, 'key2': 'barcelona', 'key3': 2, 'key5': 1000}\n"
     ]
    }
   ],
   "source": [
    "print(d.pop('key4'))\n",
    "\n",
    "d.update({'key5':1000})\n",
    "print(d)"
   ]
  },
  {
   "cell_type": "markdown",
   "metadata": {},
   "source": [
    "## 6 ORIENTACIÓN A OBJETOS\n",
    "La Programación Orientada a Objetos (POO u OOP según sus siglas\n",
    "en inglés) es un paradigma de programación en el que los conceptos\n",
    "del mundo real relevantes para nuestro problema se modelan a través\n",
    "de clases y objetos, y en el que nuestro programa consiste en una serie\n",
    "de interacciones entre estos objetos."
   ]
  },
  {
   "cell_type": "markdown",
   "metadata": {},
   "source": [
    "### 6.1 Clases y Objetos"
   ]
  },
  {
   "cell_type": "markdown",
   "metadata": {},
   "source": [
    "Para entender este paradigma primero tenemos que comprender qué es\n",
    "una clase y qué es un objeto. Un objeto es una entidad que agrupa un\n",
    "estado y una funcionalidad relacionadas. El estado del objeto se define\n",
    "a través de variables llamadas atributos, mientras que la funcionalidad\n",
    "se modela a través de funciones a las que se les conoce con el nombre\n",
    "de métodos del objeto.\n",
    "\n",
    "Un ejemplo de objeto podría ser un coche, en el que tendríamos atributos como la marca, el número de puertas o el tipo de carburante y\n",
    "métodos como arrancar y parar. O bien cualquier otra combinación de\n",
    "atributos y métodos según lo que fuera relevante para nuestro programa.\n",
    "\n",
    "Una clase, por otro lado, no es más que una plantilla genérica a partir \n",
    "de la cuál instanciar los objetos; plantilla que es la que define qué atributos y métodos tendrán los objetos de esa clase.\n",
    "\n",
    "Volviendo a nuestro ejemplo: en el mundo real existe un conjunto de\n",
    "objetos a los que llamamos coches y que tienen un conjunto de atributos comunes y un comportamiento común, esto es a lo que llamamos\n",
    "clase. Sin embargo, mi coche no es igual que el coche de mi vecino, y\n",
    "aunque pertenecen a la misma clase de objetos, son objetos distintos.\n",
    "En Python las clases se definen mediante la palabra clave class seguida del nombre de la clase, dos puntos (:) y a continuación, indentado,\n",
    "el cuerpo de la clase:"
   ]
  },
  {
   "cell_type": "code",
   "execution_count": 48,
   "metadata": {},
   "outputs": [],
   "source": [
    "class Coche:\n",
    "    \"\"\"Abstraccion de los objetos coche.\"\"\"\n",
    "    def __init__(self, gasolina):\n",
    "         self.gasolina = gasolina\n",
    "         print('Tenemos', gasolina, 'litros')\n",
    "            \n",
    "    def arrancar(self):\n",
    "        if self.gasolina > 0:\n",
    "            print('Arranca')\n",
    "        else:\n",
    "            print('No arranca')\n",
    "                \n",
    "    def conducir(self):\n",
    "        if self.gasolina > 0:\n",
    "            self.gasolina -= 1\n",
    "            print('Quedan', self.gasolina, 'litros')\n",
    "        else:\n",
    "            print('No se mueve')"
   ]
  },
  {
   "cell_type": "markdown",
   "metadata": {},
   "source": [
    "En el ejemplo anterior vemos que en la primera linea dentro de la clase\n",
    "encontramos una cadena de texto entre \"\"\" \"\"\", a esta cadena se le llama docstring o cadena de documentación de la clase y también se utiliza de la misma manera en la creación de funciones con el proposito de proporcionar información sobre el codigo.  "
   ]
  },
  {
   "cell_type": "markdown",
   "metadata": {},
   "source": [
    "Lo primero que llama la atención en el ejemplo anterior es el nombre\n",
    "tan curioso que tiene el método \\__init\\__. Este nombre es una convención y no un capricho. El método \\__init\\__, con una doble barra baja al\n",
    "principio y final del nombre, se ejecuta justo después de crear un nuevo\n",
    "objeto a partir de la clase, proceso que se conoce con el nombre de\n",
    "instanciación. El método \\__init\\__ sirve, como sugiere su nombre, para\n",
    "realizar cualquier proceso de inicialización que sea necesario.\n",
    "\n",
    "Como vemos el primer parámetro de \\__init\\__ y del resto de métodos \n",
    "de la clase es siempre self. Esta es una idea inspirada en Modula-3 y\n",
    "sirve para referirse al objeto actual. Este mecanismo es necesario para\n",
    "poder acceder a los atributos y métodos del objeto diferenciando, por\n",
    "ejemplo, una variable local mi_var de un atributo del objeto self.\n",
    "mi_var.\n",
    "\n",
    "Si volvemos al método \\__init\\__ de nuestra clase Coche veremos cómo\n",
    "se utiliza self para asignar al atributo gasolina del objeto (self.gasolina) el valor que el programador especificó para el parámetro gasolina. El parámetro gasolina se destruye al final de la función, mientras\n",
    "que el atributo gasolina se conserva (y puede ser accedido) mientras el\n",
    "objeto viva.\n",
    "\n",
    "Para crear un objeto se escribiría el nombre de la clase seguido de cualquier parámetro que sea necesario entre paréntesis. Estos parámetros\n",
    "son los que se pasarán al método \\__init\\__, que como decíamos es el\n",
    "método que se llama al instanciar la clase:"
   ]
  },
  {
   "cell_type": "code",
   "execution_count": 49,
   "metadata": {},
   "outputs": [
    {
     "name": "stdout",
     "output_type": "stream",
     "text": [
      "Tenemos 3 litros\n"
     ]
    }
   ],
   "source": [
    "mi_coche = Coche(3)"
   ]
  },
  {
   "cell_type": "markdown",
   "metadata": {},
   "source": [
    "Os preguntareis entonces cómo es posible que a la hora de crear nuestro primer objeto pasemos un solo parámetro a \\__init__, el número\n",
    "3, cuando la definición de la función indica claramente que precisa de\n",
    "dos parámetros (self y gasolina). Esto es así porque Python pasa el\n",
    "primer argumento (la referencia al objeto que se crea) automágicamente.\n",
    "\n",
    "Ahora que ya hemos creado nuestro objeto, podemos acceder a sus\n",
    "atributos y métodos mediante la sintaxis objeto.atributo y objeto.\n",
    "metodo():"
   ]
  },
  {
   "cell_type": "code",
   "execution_count": 50,
   "metadata": {},
   "outputs": [
    {
     "name": "stdout",
     "output_type": "stream",
     "text": [
      "3\n",
      "Arranca\n",
      "Quedan 2 litros\n",
      "Quedan 1 litros\n",
      "Quedan 0 litros\n",
      "No se mueve\n",
      "No arranca\n",
      "0\n"
     ]
    }
   ],
   "source": [
    "# mostrara \"3\"\n",
    "print(mi_coche.gasolina)\n",
    "# mostrara \"Arranca\"\n",
    "mi_coche.arrancar()\n",
    "# mostrara \"Quedan 2 litros\"\n",
    "mi_coche.conducir()\n",
    "# mostrara \"Quedan 1 litros\"\n",
    "mi_coche.conducir()\n",
    "# mostrara \"Quedan 0 litros\"\n",
    "mi_coche.conducir()\n",
    "# mostrara \"No se mueve\"\n",
    "mi_coche.conducir()\n",
    "# mostrara \"No arranca\"\n",
    "mi_coche.arrancar()\n",
    "# mostrara \"0\"\n",
    "print(mi_coche.gasolina)"
   ]
  },
  {
   "cell_type": "markdown",
   "metadata": {},
   "source": [
    "### 6.2 Herencia\n",
    "Hay tres conceptos que son básicos para cualquier lenguaje de programación orientado a objetos: el encapsulamiento, la herencia y el\n",
    "polimorfismo.\n",
    "\n",
    "En un lenguaje orientado a objetos cuando hacemos que una clase\n",
    "(subclase) herede de otra clase (superclase) estamos haciendo que la\n",
    "subclase contenga todos los atributos y métodos que tenía la superclase. No obstante al acto de heredar de una clase también se le llama a\n",
    "menudo “extender una clase”.\n",
    "\n",
    "Supongamos que queremos modelar los instrumentos musicales de\n",
    "una banda, tendremos entonces una clase Guitarra, una clase Batería,\n",
    "una clase Bajo, etc. Cada una de estas clases tendrá una serie de atributos y métodos, pero ocurre que, por el mero hecho de ser instrumentos\n",
    "musicales, estas clases compartirán muchos de sus atributos y métodos;\n",
    "un ejemplo sería el método tocar().\n",
    "\n",
    "Es más sencillo crear un tipo de objeto Instrumento con las atributos y\n",
    "métodos comunes e indicar al programa que Guitarra, Batería y Bajo\n",
    "son tipos de instrumentos, haciendo que hereden de Instrumento.\n",
    "\n",
    "Para indicar que una clase hereda de otra se coloca el nombre de la clase de la que se hereda entre paréntesis después del nombre de la clase:"
   ]
  },
  {
   "cell_type": "code",
   "execution_count": 51,
   "metadata": {},
   "outputs": [],
   "source": [
    "class Instrumento:\n",
    "    def __init__(self, precio):\n",
    "        self.precio = precio\n",
    "    def tocar(self):\n",
    "        print('sonido musical')\n",
    "    def romper(self):\n",
    "        print('instrumento roto')\n",
    "\n",
    "class Bateria(Instrumento):\n",
    "    pass\n",
    "class Guitarra(Instrumento):\n",
    "    pass"
   ]
  },
  {
   "cell_type": "markdown",
   "metadata": {},
   "source": [
    "Como Bateria y Guitarra heredan de Instrumento, ambos tienen un\n",
    "método tocar() y un método romper(), y se inicializan pasando un\n",
    "parámetro precio. Pero, ¿qué ocurriría si quisiéramos especificar un\n",
    "nuevo parámetro tipo_cuerda a la hora de crear un objeto Guitarra?\n",
    "Bastaría con escribir un nuevo método \\__init__ para la clase Guitarra\n",
    "que se ejecutaría en lugar del \\__init__ de Instrumento. Esto es lo que\n",
    "se conoce como sobreescribir métodos.\n",
    "\n",
    "Ahora bien, puede ocurrir en algunos casos que necesitemos sobreescribir un método de la clase padre, pero que en ese método queramos\n",
    "ejecutar el método de la clase padre porque nuestro nuevo método no\n",
    "necesite más que ejecutar un par de nuevas instrucciones extra. En ese\n",
    "caso usaríamos la sintaxis SuperClase.metodo(self, args) para llamar\n",
    "al método de igual nombre de la clase padre. Por ejemplo, para llamar\n",
    "al método \\__init__ de Instrumento desde Guitarra usaríamos Instrumento.\\__init__(self, precio)\n",
    "\n",
    "Observad que en este caso si es necesario especificar el parámetro self."
   ]
  },
  {
   "cell_type": "markdown",
   "metadata": {},
   "source": [
    "Adicionalmente Python permite la **Herencia Mútiple**, es decir, una clase hereda de varias simultaneamente. Para la definicón de esta simplemente hay que enumerar las clases padre separadas por comas."
   ]
  },
  {
   "cell_type": "markdown",
   "metadata": {},
   "source": [
    "### 6.3 Polimorfismo\n",
    "La palabra polimorfismo, del griego poly morphos (varias formas), se refiere a la habilidad de objetos de distintas clases de responder al mismo\n",
    "mensaje. Esto se puede conseguir a través de la herencia: un objeto de\n",
    "una clase derivada es al mismo tiempo un objeto de la clase padre, de\n",
    "forma que allí donde se requiere un objeto de la clase padre también se\n",
    "puede utilizar uno de la clase hija.\n",
    "\n",
    "Python, al ser de tipado dinámico, no impone restricciones a los tipos\n",
    "que se le pueden pasar a una función, por ejemplo, más allá de que el\n",
    "objeto se comporte como se espera: si se va a llamar a un método f()\n",
    "del objeto pasado como parámetro, por ejemplo, evidentemente el\n",
    "objeto tendrá que contar con ese método. Por ese motivo, a diferencia\n",
    "de lenguajes de tipado estático como Java o C++, el polimorfismo en\n",
    "Python no es de gran importancia."
   ]
  },
  {
   "cell_type": "markdown",
   "metadata": {},
   "source": [
    "### 6.4 Encapsulación\n",
    "La encapsulación se refiere a impedir el acceso a determinados métodos y atributos de los objetos estableciendo así qué puede utilizarse\n",
    "desde fuera de la clase.\n",
    "\n",
    "Esto se consigue en otros lenguajes de programación como Java utilizando modificadores de acceso que definen si cualquiera puede acceder\n",
    "a esa función o variable (public) o si está restringido el acceso a la\n",
    "propia clase (private).\n",
    "\n",
    "En Python no existen los modificadores de acceso, y lo que se suele\n",
    "hacer es que el acceso a una variable o función viene determinado por\n",
    "su nombre: si el nombre comienza con dos guiones bajos (y no termina\n",
    "también con dos guiones bajos) se trata de una variable o función privada, en caso contrario es pública. Los métodos cuyo nombre comienza y termina con dos guiones bajos son métodos especiales que Python\n",
    "llama automáticamente bajo ciertas circunstancias.\n",
    "\n",
    "En el siguiente ejemplo sólo se imprimirá la cadena correspondiente al\n",
    "método publico(), mientras que al intentar llamar al método \\__privado() Python lanzará una excepción quejándose de que no existe\n",
    "(evidentemente existe, pero no lo podemos ver porque es privado)."
   ]
  },
  {
   "cell_type": "code",
   "execution_count": 52,
   "metadata": {},
   "outputs": [
    {
     "name": "stdout",
     "output_type": "stream",
     "text": [
      "Publico\n"
     ]
    }
   ],
   "source": [
    "class Ejemplo:\n",
    "    def publico(self):\n",
    "        print('Publico')\n",
    "    def __privado(self):\n",
    "        print('Privado')\n",
    "        \n",
    "ej = Ejemplo()\n",
    "# llamada al metodo publico\n",
    "ej.publico()"
   ]
  },
  {
   "cell_type": "code",
   "execution_count": 53,
   "metadata": {},
   "outputs": [
    {
     "ename": "AttributeError",
     "evalue": "'Ejemplo' object has no attribute '__privado'",
     "output_type": "error",
     "traceback": [
      "\u001b[1;31m---------------------------------------------------------------------------\u001b[0m",
      "\u001b[1;31mAttributeError\u001b[0m                            Traceback (most recent call last)",
      "\u001b[1;32m<ipython-input-53-4e7181d1e7c3>\u001b[0m in \u001b[0;36m<module>\u001b[1;34m\u001b[0m\n\u001b[0;32m      1\u001b[0m \u001b[1;31m# llamada al metodo privado\u001b[0m\u001b[1;33m\u001b[0m\u001b[1;33m\u001b[0m\u001b[1;33m\u001b[0m\u001b[0m\n\u001b[1;32m----> 2\u001b[1;33m \u001b[0mej\u001b[0m\u001b[1;33m.\u001b[0m\u001b[0m__privado\u001b[0m\u001b[1;33m(\u001b[0m\u001b[1;33m)\u001b[0m\u001b[1;33m\u001b[0m\u001b[1;33m\u001b[0m\u001b[0m\n\u001b[0m",
      "\u001b[1;31mAttributeError\u001b[0m: 'Ejemplo' object has no attribute '__privado'"
     ]
    }
   ],
   "source": [
    "# llamada al metodo privado\n",
    "ej.__privado()"
   ]
  },
  {
   "cell_type": "markdown",
   "metadata": {},
   "source": [
    "En ocasiones también puede suceder que queramos permitir el acceso\n",
    "a algún atributo de nuestro objeto, pero que este se produzca de forma\n",
    "controlada. Para esto podemos escribir métodos cuyo único cometido\n",
    "sea este, métodos que normalmente, por convención, tienen nombres\n",
    "como getVariable y setVariable; de ahí que se conozcan también con\n",
    "el nombre de getters y setters:"
   ]
  },
  {
   "cell_type": "code",
   "execution_count": 54,
   "metadata": {},
   "outputs": [
    {
     "name": "stdout",
     "output_type": "stream",
     "text": [
      "Error\n"
     ]
    }
   ],
   "source": [
    "class Fecha():\n",
    "    def __init__(self):\n",
    "        self.__dia = 1\n",
    "    def getDia(self):\n",
    "        return self.__dia\n",
    "    def setDia(self, dia):\n",
    "        if dia > 0 and dia < 31:\n",
    "            self.__dia = dia\n",
    "        else:\n",
    "            print('Error')\n",
    "mi_fecha = Fecha()\n",
    "mi_fecha.setDia(33)"
   ]
  }
 ],
 "metadata": {
  "kernelspec": {
   "display_name": "Python 3",
   "language": "python",
   "name": "python3"
  },
  "language_info": {
   "codemirror_mode": {
    "name": "ipython",
    "version": 3
   },
   "file_extension": ".py",
   "mimetype": "text/x-python",
   "name": "python",
   "nbconvert_exporter": "python",
   "pygments_lexer": "ipython3",
   "version": "3.7.4"
  }
 },
 "nbformat": 4,
 "nbformat_minor": 5
}

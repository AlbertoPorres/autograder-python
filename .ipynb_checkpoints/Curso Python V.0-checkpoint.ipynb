{
 "cells": [
  {
   "cell_type": "markdown",
   "id": "19ae663b",
   "metadata": {},
   "source": [
    "# Curso Básico de Python"
   ]
  },
  {
   "cell_type": "markdown",
   "id": "6d40446b",
   "metadata": {},
   "source": [
    "## 1 Tipos Básicos"
   ]
  },
  {
   "cell_type": "markdown",
   "id": "7d7733d4",
   "metadata": {},
   "source": [
    "En Python los tipos básicos se dividen en:\n",
    "- Números, como pueden ser 3 (entero), 15.57 (de coma flotante) o 7 + 5j (complejos)\n",
    "- Cadenas de texto, como “Hola Mundo”\n",
    "- Valores booleanos: True (cierto) y False (falso).\n",
    "\n",
    "Vamos a crear algunas variables de ejemplo. Como vereis a continuación la asignación de valores en Python se hace meniante el simbolo \" = \" sin necesitar de declarar previamente el tipo de la varibale y los comentarios en línea se crean mediante el simbolo \" # \"."
   ]
  },
  {
   "cell_type": "code",
   "execution_count": 27,
   "id": "d290831e",
   "metadata": {},
   "outputs": [],
   "source": [
    "# esto es una cadena\n",
    "c = 'Hola Mundo'\n",
    "# y esto es una varible numérica entera\n",
    "e = 23"
   ]
  },
  {
   "cell_type": "markdown",
   "id": "cca48d0d",
   "metadata": {},
   "source": [
    "### 1.1 Números\n",
    "**Enteros**\n",
    "Los números enteros son aquellos números positivos o negativos que no tienen decimales.\n",
    "En Python se pueden representar mediante el tipo int (entero) o el tipo long (largo).\n",
    "La única diferencia es que el tipo long permite almacenar números más grandes.\n",
    "Al asignar un número a una variable esta pasará a tener tipo int, a\n",
    "menos que el número sea tan grande como para requerir el uso del tipo\n",
    "long.\n",
    "También podemos indicar a Python que un número se almacene usando long añadiendo una L al final,\n",
    "un octal, anteponiendo un cero o bien en hexadecimal, anteponiendo un 0x.\n",
    "\n",
    "**Reales**\n",
    "Los números reales son los que tienen decimales. En Python se expresan mediante el tipo float.\n",
    "Para representar un número real en Python se escribe primero la parte\n",
    "entera, seguido de un punto y por último la parte decimal.\n",
    "También se puede utilizar notación científica, y añadir una e (de exponente) para indicar un exponente en base 10\n",
    "\n",
    "**Complejos**\n",
    "Los números complejos son aquellos que tienen parte imaginaria.\n",
    "Se representan primero escribiendo la parte real y posteriormente la imaginaria."
   ]
  },
  {
   "cell_type": "markdown",
   "id": "59798882",
   "metadata": {},
   "source": [
    "### 1.2 Operadores\n",
    "**Operadores aritméticos**\n",
    "\n",
    "| OPERADOR | DESCRIPCION | EJEMPLO |\n",
    "| :------- | :---------: |-------: |\n",
    "| +        | Suma        | r = 3 + 2     # r es 5   |\n",
    "| -        | Resta       | r = 4 - 7     # r es -3  |\n",
    "| -        | Negación    | r = -7        # r es -7  |\n",
    "| *        | Multiplicación  |r = 2 * 6   # r es 12 |\n",
    "| **       | Exponente       | r = 2 ** 6   # r es 64   |\n",
    "| /        | División        | r = 3.5 / 2   # r es 1.75  |\n",
    "| //       | División entera | r = 3.5 // 2   # r es 1.0   |\n",
    "| %       | Módulo | r = 7 % 2 # r es 1  |\n",
    "\n",
    "\n",
    "**Operadores a nivel de bit**\n",
    "\n",
    "| OPERADOR | DESCRIPCION | EJEMPLO |\n",
    "| :------- | :---------: |-------: |\n",
    "| &       | and        | r = 3 & 2 # r es 2  |\n",
    "| \\|      | or       | r = 3 \\| 2 # r es 3 |\n",
    "| ^        | xor    | r = 3 ^ 2 # r es 1  |\n",
    "| ~         | not  |r = ~3 # r es -4 |\n",
    "| <<       | Desplazamiento izq.     |r = 3 << 1 # r es 6   |\n",
    "| >>        | Desplazamiento der.      | r = 3 >> 1 # r es 1 |\n",
    "|<=      | ¿es a menor o igual que b?     | r = 5 <= 5 # r es True|\n",
    "| >=      |¿es a mayor o igual que b?    | r = 5 >= 3 # r es True |\n"
   ]
  },
  {
   "cell_type": "markdown",
   "id": "af86236f",
   "metadata": {},
   "source": [
    "### 1.3 Cadenas\n",
    "Las cadenas no son más que texto encerrado entre comillas simples\n",
    "(‘cadena’). Dentro de las comillas se pueden\n",
    "añadir caracteres especiales escapándolos con \\, como \\n, el carácter de\n",
    "nueva línea, o \\t, el de tabulación."
   ]
  },
  {
   "cell_type": "code",
   "execution_count": 28,
   "id": "1ea876be",
   "metadata": {},
   "outputs": [
    {
     "name": "stdout",
     "output_type": "stream",
     "text": [
      "unodos\n",
      "unounouno\n"
     ]
    }
   ],
   "source": [
    "a = 'uno'\n",
    "b = 'dos'\n",
    "c = a + b # c es “unodos”\n",
    "print(c)\n",
    "c = a * 3 # c es “unounouno”\n",
    "print(c)"
   ]
  },
  {
   "cell_type": "markdown",
   "id": "1b3f060a",
   "metadata": {},
   "source": [
    "### 1.4 Booleanos\n",
    "Una variable de tipo booleano sólo puede tener dos valores: True (cierto) y False (falso). Estos\n",
    "valores son especialmente importantes para las expresiones condicionales y los bucles, como veremos más adelante.\n",
    "Estos son los distintos tipos de operadores con los que podemos trabajar con valores booleanos, los llamados operadores lógicos o condicionales:\n",
    "\n",
    "| OPERADOR | DESCRIPCION | EJEMPLO |\n",
    "| :------- | :---------: |-------: |\n",
    "| and       | ¿se cumple a y b?        | r = True and False # r es False  |\n",
    "| or      | ¿se cumple a o b?       | r = True or False # r es True |\n",
    "| not        | No a     | r = not True # r es False  |\n",
    "\n",
    "Los valores booleanos son además el resultado de expresiones que\n",
    "utilizan operadores relacionales (comparaciones entre valores):\n",
    "\n",
    "| OPERADOR | DESCRIPCION | EJEMPLO |\n",
    "| :------- | :---------: |-------: |\n",
    "|   ==      |   ¿son iguales a y b?      | r = 5 == 3 # r es False  |\n",
    "|    !=    |    ¿son distintos a y b?    |  r = 5 != 3 # r es True|\n",
    "|    <     |   ¿es a menor que b?    | r = 5 < 3 # r es False |\n",
    "|    >     |   ¿es a mayor que b?    | r = 5 > 3 # r es True |\n",
    "|    <=      |   ¿es a menor o igual que b?   | r = 5 <= 5 # r es True |\n",
    "|    >=     |   ¿es a mayor o igual que b?   | r = 5 >= 3 # r es True |\n",
    " "
   ]
  },
  {
   "cell_type": "markdown",
   "id": "0e6c1dfc",
   "metadata": {},
   "source": [
    "## 2 Colecciones\n",
    "En el capítulo anterior vimos algunos tipos básicos, como los números,\n",
    "las cadenas de texto y los booleanos. En esta lección veremos algunos\n",
    "tipos de colecciones de datos: listas, tuplas y diccionarios."
   ]
  },
  {
   "cell_type": "markdown",
   "id": "299c1710",
   "metadata": {},
   "source": [
    "### 2.1 Listas\n",
    "La lista es un tipo de colección ordenada. Sería equivalente a lo que en\n",
    "otros lenguajes se conoce por arrays, o vectores.\n",
    "Las listas pueden contener cualquier tipo de dato: números, cadenas,\n",
    "booleanos, … y también listas.\n",
    "Crear una lista es tan sencillo como indicar entre corchetes, y separados por comas, los valores que queremos incluir en la lista y podemos acceder a cada uno de los elementos de la lista escribiendo el\n",
    "nombre de la lista e indicando el índice del elemento entre corchetes.\n",
    "Ten en cuenta sin embargo que el índice del primer elemento de la\n",
    "lista es 0, y no 1.\n",
    "Si queremos acceder a un elemento de una lista incluida dentro de otra\n",
    "lista tendremos que utilizar dos veces este operador, primero para indicar a qué posición de la lista exterior queremos acceder, y el segundo\n",
    "para seleccionar el elemento de la lista interior.\n",
    "\n",
    "Algunos ejemplos de manejo de listas:"
   ]
  },
  {
   "cell_type": "code",
   "execution_count": 29,
   "id": "cfd53a89",
   "metadata": {},
   "outputs": [
    {
     "name": "stdout",
     "output_type": "stream",
     "text": [
      "22\n",
      "2\n"
     ]
    }
   ],
   "source": [
    "# definición de listas\n",
    "l = [22, True, 'una lista', [1, 2]]\n",
    "p = [11, False]\n",
    "\n",
    "# acceso lista con una dimensión\n",
    "print(l[0]) # valdrá 22\n",
    "\n",
    "# acceso lista con dos dimensión\n",
    "l = ['una lista', [1, 2]]\n",
    "print(l[1][1]) # valdrá 2"
   ]
  },
  {
   "cell_type": "markdown",
   "id": "ca8b034a",
   "metadata": {},
   "source": [
    "### 2.2 Tuplas\n",
    "Todo lo que hemos explicado sobre las listas se aplica también a las\n",
    "tuplas, a excepción de la forma de definirla, para lo que se utilizan\n",
    "paréntesis en lugar de corchetes.\n",
    "En realidad el constructor de la tupla es la coma, no el paréntesis, pero\n",
    "el intérprete muestra los paréntesis, y nosotros deberíamos utilizarlos,\n",
    "por claridad.\n",
    "Para referirnos a elementos de una tupla, como en una lista, se usa el\n",
    "operador [ ].\n",
    "La diferencia entre las tuplas y las listas es que las tuplas son inmutables, \n",
    "es decir, sus valores no se pueden modificar\n",
    "una vez creada; y tienen un tamaño fijo."
   ]
  },
  {
   "cell_type": "code",
   "execution_count": 30,
   "id": "0d4538b3",
   "metadata": {},
   "outputs": [
    {
     "name": "stdout",
     "output_type": "stream",
     "text": [
      "22\n",
      "2\n"
     ]
    }
   ],
   "source": [
    "# definición de tuplas\n",
    "l = (22, True, 'una tupla', [1, 2])\n",
    "p = (11, False)\n",
    "\n",
    "# acceso tuplas con una dimensión\n",
    "print(l[0]) # valdrá 22\n",
    "\n",
    "# acceso tuplas con dos dimensión\n",
    "l = ['una lista', [1, 2]]\n",
    "print(l[1][1]) # valdrá 2"
   ]
  },
  {
   "cell_type": "markdown",
   "id": "7d2a1162",
   "metadata": {},
   "source": [
    "### 2.3 Diccionarios \n",
    "Los diccionarios, también llamados matrices asociativas, deben su\n",
    "nombre a que son colecciones que relacionan una clave y un valor.\n",
    "El primer valor se trata de la clave y el segundo del valor asociado\n",
    "a la clave. Como clave podemos utilizar cualquier valor inmutable:\n",
    "podríamos usar números, cadenas, booleanos, tuplas, … pero no listas\n",
    "o diccionarios, dado que son mutables. Esto es así porque los diccionarios se implementan como tablas hash, y a la hora de introducir un\n",
    "nuevo par clave-valor en el diccionario se calcula el hash de la clave\n",
    "para después poder encontrar la entrada correspondiente rápidamente.\n",
    "Si se modificara el objeto clave después de haber sido introducido en el\n",
    "diccionario, evidentemente, su hash también cambiaría y no podría ser\n",
    "encontrado.\n",
    "La diferencia principal entre los diccionarios y las listas o las tuplas es\n",
    "que a los valores almacenados en un diccionario se les accede no por su\n",
    "índice, porque de hecho no tienen orden, sino por su clave, utilizando\n",
    "de nuevo el operador [ ].\n",
    "Al igual que en listas y tuplas también se puede utilizar este operador\n",
    "para reasignar valores."
   ]
  },
  {
   "cell_type": "code",
   "execution_count": 31,
   "id": "9cfbb666",
   "metadata": {},
   "outputs": [
    {
     "name": "stdout",
     "output_type": "stream",
     "text": [
      "2\n"
     ]
    },
    {
     "data": {
      "text/plain": [
       "'barcelona'"
      ]
     },
     "execution_count": 31,
     "metadata": {},
     "output_type": "execute_result"
    }
   ],
   "source": [
    "# definicion de un diccionario\n",
    "d = {\"Key1\" : 1, \"key2\" : 2 ,\"key3\" : 2 , \"key4\" : \"value4\"}\n",
    "\n",
    "# acceso al valor de una clave\n",
    "print(d[\"key2\"])\n",
    "\n",
    "# edicion del valor de una clave\n",
    "d[\"key2\"] = \"barcelona\"\n",
    "d[\"key2\"]"
   ]
  },
  {
   "cell_type": "markdown",
   "id": "87a4e57c",
   "metadata": {},
   "source": [
    "### ENUNCIADO DEL PROBLEMA DE TIPOS BASICOS Y COLECCIONES"
   ]
  },
  {
   "cell_type": "code",
   "execution_count": null,
   "id": "d99dadba",
   "metadata": {},
   "outputs": [],
   "source": []
  },
  {
   "cell_type": "code",
   "execution_count": null,
   "id": "cb7b5d90",
   "metadata": {},
   "outputs": [],
   "source": []
  },
  {
   "cell_type": "code",
   "execution_count": null,
   "id": "2d146493",
   "metadata": {},
   "outputs": [],
   "source": []
  }
 ],
 "metadata": {
  "kernelspec": {
   "display_name": "Python 3 (ipykernel)",
   "language": "python",
   "name": "python3"
  },
  "language_info": {
   "codemirror_mode": {
    "name": "ipython",
    "version": 3
   },
   "file_extension": ".py",
   "mimetype": "text/x-python",
   "name": "python",
   "nbconvert_exporter": "python",
   "pygments_lexer": "ipython3",
   "version": "3.9.7"
  }
 },
 "nbformat": 4,
 "nbformat_minor": 5
}

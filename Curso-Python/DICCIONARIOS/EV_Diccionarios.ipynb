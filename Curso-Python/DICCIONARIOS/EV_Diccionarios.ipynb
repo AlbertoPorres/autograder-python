{
 "cells": [
  {
   "cell_type": "markdown",
   "metadata": {
    "nbgrader": {
     "grade": false,
     "grade_id": "cell-391d7cf4fe729c69",
     "locked": true,
     "schema_version": 3,
     "solution": false,
     "task": false
    }
   },
   "source": [
    "### AUTOEVALUACIÓN DICCIONARIOS"
   ]
  },
  {
   "cell_type": "markdown",
   "metadata": {
    "nbgrader": {
     "grade": false,
     "grade_id": "cell-c38b654824e635b9",
     "locked": true,
     "schema_version": 3,
     "solution": false,
     "task": false
    }
   },
   "source": [
    "**Ejercicio 1**\n",
    "\n",
    "Define un diccionario de nombre _mi\\_diccionario_ con los siguientes pares clave-valor:\n",
    "- 'Dolares' : 100\n",
    "- 'Euros' : 200\n",
    "- 'Pesetas' : 4000\n",
    "- 'Libras' : 234\n",
    "\n",
    "Una vez hecho esto, almacena en una variable llamada _temporal_ el valor asignado a la clave 'Libras':"
   ]
  },
  {
   "cell_type": "code",
   "execution_count": 1,
   "metadata": {
    "nbgrader": {
     "grade": false,
     "grade_id": "cell-4500a8de2531ca90",
     "locked": false,
     "schema_version": 3,
     "solution": true,
     "task": false
    }
   },
   "outputs": [],
   "source": [
    "# COMPLETA EL EJERCICIO 1 AQUI\n",
    "\n",
    "# Descomenta las siguiente línea y define mi_diccionario:\n",
    "# mi_diccionario =\n",
    "\n",
    "# Descomenta las siguiente línea y accede al contenido de Libras:\n",
    "# temporal =\n",
    "\n",
    "# Puede eliminar el codigo inferior junto con este comentario\n",
    "### BEGIN SOLUTION\n",
    " # Esta sección ha sido introducida para que el texto de encima no sea eliminado al\n",
    " # generarse la tarea\n",
    "### END SOLUTION"
   ]
  },
  {
   "cell_type": "code",
   "execution_count": null,
   "metadata": {
    "nbgrader": {
     "grade": true,
     "grade_id": "cell-e1a81ae2215c8e90",
     "locked": true,
     "points": 5,
     "schema_version": 3,
     "solution": false,
     "task": false
    }
   },
   "outputs": [],
   "source": [
    "# Ignónereme pero no intente eliminarme, no podrá\n",
    "### BEGIN HIDDEN TESTS\n",
    "assert(mi_diccionario == {\"Dolares\" : 100, \"Euros\" : 200 ,\"Pesetas\" : 4000 , \"Libras\" : 234})\n",
    "assert(temporal == 234)\n",
    "### END HIDDEN TESTS"
   ]
  },
  {
   "cell_type": "markdown",
   "metadata": {
    "nbgrader": {
     "grade": false,
     "grade_id": "cell-5bd1cd2e18b7f7a0",
     "locked": true,
     "schema_version": 3,
     "solution": false,
     "task": false
    }
   },
   "source": [
    "**Ejercicio 2**\n",
    "\n",
    "Mediante el uso de métodos de diccionarios, completa la siguiente función que haga las siguientes operaciones en orden:\n",
    "- almacenar en una variable dentro de la función una copia exacta del diccionario pasado por parámetro. Las siguientes operaciones se harán sobre esta copia manteniendo el diccionario original intacto\n",
    "- actualice el la diccionario con la clave y el valor pasado por parámetro\n",
    "- elimine el último par clave valor insertado\n",
    "- devuelva una lista de todos los valores del diccionario copia en el estado final"
   ]
  },
  {
   "cell_type": "code",
   "execution_count": 3,
   "metadata": {
    "nbgrader": {
     "grade": false,
     "grade_id": "cell-6c20186d9d9cc4b0",
     "locked": false,
     "schema_version": 3,
     "solution": true,
     "task": false
    }
   },
   "outputs": [],
   "source": [
    "# COMPLETA EL EJERCICIO 2 AQUI\n",
    "\n",
    "def prueba_metodos_d(original_dict, update_key, update_value):\n",
    "    # en la siguiente línea realiza la copia del diccionario original\n",
    "    \n",
    "    # en la siguiente línea actualiza la copia con la clave y el valor\n",
    "    \n",
    "    # en la siguiente línea extrae el elemento en la posición 3\n",
    "    \n",
    "    # devuelva el estado final del diccionario compia\n",
    "    return \n",
    "\n",
    "# Puede eliminar el codigo inferior junto con este comentario\n",
    "### BEGIN SOLUTION\n",
    " # Esta sección ha sido introducida para que el texto de encima no sea eliminado al\n",
    " # generarse la tarea\n",
    "### END SOLUTION"
   ]
  },
  {
   "cell_type": "code",
   "execution_count": 4,
   "metadata": {
    "nbgrader": {
     "grade": true,
     "grade_id": "cell-27557cc1a70a6bd8",
     "locked": true,
     "points": 5,
     "schema_version": 3,
     "solution": false,
     "task": false
    }
   },
   "outputs": [],
   "source": [
    "# Ignónereme pero no intente eliminarme, no podrá\n",
    "### BEGIN HIDDEN TESTS\n",
    "assert(list(prueba_metodos_d({},0,0)) == [])\n",
    "assert(list(prueba_metodos_d({1:1},0,0)) == [1])\n",
    "assert(list(prueba_metodos_d({0:0,1:1},0,0)) == [0])\n",
    "assert(list(prueba_metodos_d({0:0,1:1,3:3},2,1)) == [0, 1, 3])\n",
    "assert(list(prueba_metodos_d({0:0,2:2,3:3},2,1)) == [0, 1])\n",
    "assert(list(prueba_metodos_d({0:0,2:2,3:3,4:3},0,5)) == [5, 2, 3])\n",
    "### END HIDDEN TESTS"
   ]
  },
  {
   "cell_type": "code",
   "execution_count": null,
   "metadata": {},
   "outputs": [],
   "source": []
  },
  {
   "cell_type": "code",
   "execution_count": null,
   "metadata": {},
   "outputs": [],
   "source": []
  }
 ],
 "metadata": {
  "celltoolbar": "Create Assignment",
  "kernelspec": {
   "display_name": "Python 3 (ipykernel)",
   "language": "python",
   "name": "python3"
  },
  "language_info": {
   "codemirror_mode": {
    "name": "ipython",
    "version": 3
   },
   "file_extension": ".py",
   "mimetype": "text/x-python",
   "name": "python",
   "nbconvert_exporter": "python",
   "pygments_lexer": "ipython3",
   "version": "3.9.7"
  }
 },
 "nbformat": 4,
 "nbformat_minor": 2
}

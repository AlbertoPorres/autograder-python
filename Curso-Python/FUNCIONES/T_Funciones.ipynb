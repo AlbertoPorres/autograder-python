{
 "cells": [
  {
   "cell_type": "markdown",
   "metadata": {},
   "source": [
    "## FUNCIONES"
   ]
  },
  {
   "cell_type": "markdown",
   "metadata": {},
   "source": [
    "Una función es un fragmento de código con un nombre asociado que\n",
    "realiza una serie de tareas y devuelve un valor, para la devolución de este valor se utiliza la keyword *return*. A los fragmentos de\n",
    "código que tienen un nombre asociado y no devuelven valores se les\n",
    "suele llamar procedimientos. En Python no existen los procedimientos, ya que cuando el programador no especifica un valor de retorno la\n",
    "función devuelve el valor None (nada).\n",
    "\n",
    "Además de ayudarnos a programar y depurar dividiendo el programa\n",
    "en partes las funciones también permiten reutilizar código.\n",
    "\n",
    "En Python las funciones se declaran de la siguiente forma:"
   ]
  },
  {
   "cell_type": "code",
   "execution_count": 1,
   "metadata": {},
   "outputs": [],
   "source": [
    "# definición\n",
    "def mi_funcion(param1, param2):\n",
    "    # cuerpo\n",
    "    print(param1)\n",
    "    print(param2)\n",
    "    return None"
   ]
  },
  {
   "cell_type": "markdown",
   "metadata": {},
   "source": [
    "Es decir, la palabra clave def seguida del nombre de la función y entre\n",
    "paréntesis los argumentos separados por comas. A continuación, en\n",
    "otra línea, indentado y después de los dos puntos tendríamos las líneas\n",
    "de código que conforman el código a ejecutar por la función."
   ]
  },
  {
   "cell_type": "markdown",
   "metadata": {},
   "source": [
    "Es importante aclarar que\n",
    "al declarar la función lo único que hacemos es asociar un nombre al\n",
    "fragmento de código que conforma la función, de forma que podamos\n",
    "ejecutar dicho código más tarde referenciándolo por su nombre. Es\n",
    "decir, a la hora de escribir estas líneas no se ejecuta la función. Para\n",
    "llamar a la función (ejecutar su código) se escribiría:"
   ]
  },
  {
   "cell_type": "code",
   "execution_count": 2,
   "metadata": {},
   "outputs": [
    {
     "name": "stdout",
     "output_type": "stream",
     "text": [
      "hola\n",
      "2\n"
     ]
    }
   ],
   "source": [
    "mi_funcion('hola', 2)"
   ]
  },
  {
   "cell_type": "markdown",
   "metadata": {},
   "source": [
    "Es decir, el nombre de la función a la que queremos llamar seguido de\n",
    "los valores que queramos pasar como parámetros entre paréntesis. La\n",
    "asociación de los parámetros y los valores pasados a la función se hace\n",
    "normalmente de izquierda a derecha: como a param1 le hemos dado un\n",
    "valor “hola” y param2 vale 2, mi_funcion imprimiría hola en una línea,\n",
    "y a continuación 2.\n",
    "Sin embargo también es posible modificar el orden de los parámetros\n",
    "si indicamos el nombre del parámetro al que asociar el valor a la hora\n",
    "de llamar a la función:"
   ]
  },
  {
   "cell_type": "code",
   "execution_count": 3,
   "metadata": {},
   "outputs": [
    {
     "name": "stdout",
     "output_type": "stream",
     "text": [
      "hola\n",
      "2\n"
     ]
    }
   ],
   "source": [
    "mi_funcion(param2 = 2, param1 = 'hola')"
   ]
  },
  {
   "cell_type": "markdown",
   "metadata": {},
   "source": [
    "El número de valores que se pasan como parámetro al llamar a la función tiene que coincidir con el número de parámetros que la función\n",
    "acepta según la declaración de la función. En caso contrario obtendremos un error:"
   ]
  },
  {
   "cell_type": "code",
   "execution_count": 4,
   "metadata": {},
   "outputs": [
    {
     "ename": "TypeError",
     "evalue": "mi_funcion() missing 1 required positional argument: 'param2'",
     "output_type": "error",
     "traceback": [
      "\u001b[1;31m---------------------------------------------------------------------------\u001b[0m",
      "\u001b[1;31mTypeError\u001b[0m                                 Traceback (most recent call last)",
      "\u001b[1;32m<ipython-input-4-33b2e7e71005>\u001b[0m in \u001b[0;36m<module>\u001b[1;34m\u001b[0m\n\u001b[1;32m----> 1\u001b[1;33m \u001b[0mmi_funcion\u001b[0m\u001b[1;33m(\u001b[0m\u001b[1;36m1\u001b[0m\u001b[1;33m)\u001b[0m\u001b[1;33m\u001b[0m\u001b[1;33m\u001b[0m\u001b[0m\n\u001b[0m",
      "\u001b[1;31mTypeError\u001b[0m: mi_funcion() missing 1 required positional argument: 'param2'"
     ]
    }
   ],
   "source": [
    "mi_funcion(1)"
   ]
  },
  {
   "cell_type": "markdown",
   "metadata": {},
   "source": [
    "Conjuntamente, Python permite dar un valor por defecto a un parámetro en\n",
    "la definición de la función de la siguiente manera:"
   ]
  },
  {
   "cell_type": "code",
   "execution_count": 5,
   "metadata": {},
   "outputs": [
    {
     "name": "stdout",
     "output_type": "stream",
     "text": [
      "2\n",
      "1\n"
     ]
    }
   ],
   "source": [
    "def funcion2 (param1  , param2 = 1):\n",
    "    print(param1)\n",
    "    print(param2)\n",
    "    \n",
    "# podemos llamar a la función indicando únicamente el valor del parametro 1\n",
    "funcion2(2)"
   ]
  },
  {
   "cell_type": "markdown",
   "metadata": {},
   "source": [
    "Para definir funciones con un número variable de argumentos colocamos un último parámetro para la función cuyo nombre debe precederse de un signo *:"
   ]
  },
  {
   "cell_type": "code",
   "execution_count": 6,
   "metadata": {},
   "outputs": [
    {
     "name": "stdout",
     "output_type": "stream",
     "text": [
      "3\n",
      "4\n"
     ]
    }
   ],
   "source": [
    "def varios(param1, param2, *otros):\n",
    "     for val in otros:\n",
    "        print(val)\n",
    "varios(1,2,3,4)"
   ]
  },
  {
   "cell_type": "code",
   "execution_count": null,
   "metadata": {},
   "outputs": [],
   "source": []
  },
  {
   "cell_type": "code",
   "execution_count": null,
   "metadata": {},
   "outputs": [],
   "source": []
  }
 ],
 "metadata": {
  "kernelspec": {
   "display_name": "Python 3 (ipykernel)",
   "language": "python",
   "name": "python3"
  },
  "language_info": {
   "codemirror_mode": {
    "name": "ipython",
    "version": 3
   },
   "file_extension": ".py",
   "mimetype": "text/x-python",
   "name": "python",
   "nbconvert_exporter": "python",
   "pygments_lexer": "ipython3",
   "version": "3.9.7"
  }
 },
 "nbformat": 4,
 "nbformat_minor": 2
}

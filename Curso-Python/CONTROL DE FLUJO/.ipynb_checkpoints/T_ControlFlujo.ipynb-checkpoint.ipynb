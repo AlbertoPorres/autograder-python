{
 "cells": [
  {
   "cell_type": "markdown",
   "metadata": {},
   "source": [
    "## CONTROL DE FLUJO\n",
    "En esta lección vamos a ver los condicionales y los bucles"
   ]
  },
  {
   "cell_type": "markdown",
   "metadata": {},
   "source": [
    "### - SENTENCIAS CONDICIONALES:\n",
    "Si un programa no fuera más que una lista de órdenes a ejecutar de\n",
    "forma secuencial, una por una, no tendría mucha utilidad. Los condicionales nos permiten comprobar condiciones y hacer que nuestro\n",
    "programa se comporte de una forma u otra, que ejecute un fragmento\n",
    "de código u otro, dependiendo de esta condición.\n",
    "\n",
    "Aquí es donde cobran su importancia el tipo booleano y los operadores\n",
    "lógicos y relacionales que aprendimos en el capítulo sobre los tipos\n",
    "básicos de Python."
   ]
  },
  {
   "cell_type": "markdown",
   "metadata": {},
   "source": [
    "**IF**\n",
    "\n",
    "La forma más simple de un estamento condicional es un if (del inglés\n",
    "si) seguido de la condición a evaluar, dos puntos (:) y en la siguiente\n",
    "línea e indentado, el código a ejecutar en caso de que se cumpla dicha\n",
    "condición.\n",
    "\n",
    "A diferencia con otros lenguajes de programación los bloques de código que han de ejecutarse dentro del condicional no se incluyen entre corchetes sino mediante la identación de código, es por eso que se debe ser cauteloso con los tabuladores a la hora de crear condicionales, mira el ejemplo a continuación:"
   ]
  },
  {
   "cell_type": "code",
   "execution_count": 1,
   "metadata": {},
   "outputs": [
    {
     "name": "stdout",
     "output_type": "stream",
     "text": [
      "Esta sentencia se ejecutará dentro del condicional\n",
      "Esta tambien\n",
      "Esta no se ejecuta dentro del condicional\n"
     ]
    }
   ],
   "source": [
    "n = 10\n",
    "# si (if) n es igual a 10\n",
    "if n == 10:\n",
    "    print('Esta sentencia se ejecutará dentro del condicional')\n",
    "    print('Esta tambien')\n",
    "print('Esta no se ejecuta dentro del condicional')\n",
    "\n"
   ]
  },
  {
   "cell_type": "markdown",
   "metadata": {},
   "source": [
    "**IF … ELSE**\n",
    "\n",
    "Vamos a ver ahora un condicional algo más complicado. ¿Qué haríamos si quisiéramos que se ejecutaran unas ciertas órdenes en el caso de\n",
    "que la condición no se cumpliera? Sin duda podríamos añadir otro if\n",
    "que tuviera como condición la negación del primero pero, como la mayoría de lenguajes de programación, el condicional tiene una segunda construcción mucho más útil, el \"else\". Su funcionamiento es facilmente entendible con un ejemplo:"
   ]
  },
  {
   "cell_type": "code",
   "execution_count": 2,
   "metadata": {},
   "outputs": [
    {
     "name": "stdout",
     "output_type": "stream",
     "text": [
      "esta si\n"
     ]
    }
   ],
   "source": [
    "n = 10\n",
    "if n==11:\n",
    "    print('esta sentencia no se ejecutará')\n",
    "else:\n",
    "    print('esta si')"
   ]
  },
  {
   "cell_type": "markdown",
   "metadata": {},
   "source": [
    "**IF … ELIF … ELIF … ELSE**.\n",
    "\n",
    "Todavía queda una construcción más que ver, que es la que hace uso\n",
    "del elif. Esta permite enlazar condiciones de forma continuada en caso de necesitar condiciones más especificas dentro de otras condiciones:"
   ]
  },
  {
   "cell_type": "code",
   "execution_count": 3,
   "metadata": {},
   "outputs": [
    {
     "name": "stdout",
     "output_type": "stream",
     "text": [
      "Positivo\n"
     ]
    }
   ],
   "source": [
    "n = 4\n",
    "if n < 0:\n",
    " print('Negativo')\n",
    "elif n > 0:\n",
    " print('Positivo')\n",
    "else:\n",
    " print('Cero')"
   ]
  },
  {
   "cell_type": "markdown",
   "metadata": {},
   "source": [
    "**A IF C ELSE B**\n",
    "\n",
    "También existe una construcción similar al operador ? de otros lenguajes, que no es más que una forma compacta de expresar un if else. En\n",
    "esta construcción se evalúa el predicado C y se devuelve A si se cumple\n",
    "o B si no se cumple: A if C else B. Veamos un ejemplo:"
   ]
  },
  {
   "cell_type": "code",
   "execution_count": 4,
   "metadata": {},
   "outputs": [
    {
     "name": "stdout",
     "output_type": "stream",
     "text": [
      "par\n"
     ]
    }
   ],
   "source": [
    "# si n es par la variables \"var\" obtendra el valor \"par\", sino \n",
    "# obtendrá el valor \"impar\"\n",
    "var = 'par' if (n % 2 == 0) else 'impar'\n",
    "print(var)"
   ]
  },
  {
   "cell_type": "markdown",
   "metadata": {},
   "source": [
    "###  - BUCLES:\n",
    "Mientras que los condicionales nos permiten ejecutar distintos fragmentos de código dependiendo de ciertas condiciones, los bucles nos\n",
    "permiten ejecutar un mismo fragmento de código un cierto número de\n",
    "veces, mientras se cumpla una determinada condición.\n",
    "\n",
    "**WHILE**\n",
    "\n",
    "El bucle while (mientras) ejecuta un fragmento de código mientras se\n",
    "cumpla una condición."
   ]
  },
  {
   "cell_type": "code",
   "execution_count": 5,
   "metadata": {},
   "outputs": [
    {
     "name": "stdout",
     "output_type": "stream",
     "text": [
      "0\n",
      "1\n",
      "2\n",
      "3\n"
     ]
    }
   ],
   "source": [
    "# Este bucle cuenta de 0 a 3\n",
    "n = 0\n",
    "while n <= 3: # condicion -> mientras n sea menor o igual que 3\n",
    "    print(n)\n",
    "    n += 1"
   ]
  },
  {
   "cell_type": "markdown",
   "metadata": {},
   "source": [
    "Como podemos ver, mientras se cumpla la condicion \"n\" menor o igual que \"3\" se ejecutará el contenido del bloque while. Es importante controlar el final de un bucle while para no caer en los llamados bucles infinitos. Un ejemplo de bucle infinito seria:"
   ]
  },
  {
   "cell_type": "code",
   "execution_count": 6,
   "metadata": {},
   "outputs": [],
   "source": [
    "# n = 0\n",
    "# while n <= 3:\n",
    "    # print(n)"
   ]
  },
  {
   "cell_type": "markdown",
   "metadata": {},
   "source": [
    "Al no controlar el final del bucle mediante la variable \"n\", la ejecución quedará atascada ejecutando constantemente la sentencia \"print\".\n",
    "\n",
    "Dentro de los bucles se reservan dos palabras claves para el control de flujo: \"break\" y \"continue\". \"Break\" finaliza automáticamente la ejecución del bucle y pasa a la siguiente sección de codigo y \"continue\" salta a la siguiente ejecución del bucle:"
   ]
  },
  {
   "cell_type": "code",
   "execution_count": 7,
   "metadata": {},
   "outputs": [
    {
     "name": "stdout",
     "output_type": "stream",
     "text": [
      "0\n",
      "1\n",
      "2\n"
     ]
    }
   ],
   "source": [
    "#ejemplo break\n",
    "n = 0\n",
    "while n < 10:\n",
    "    if n == 3: break\n",
    "    print(n)\n",
    "    n += 1"
   ]
  },
  {
   "cell_type": "code",
   "execution_count": 8,
   "metadata": {},
   "outputs": [
    {
     "name": "stdout",
     "output_type": "stream",
     "text": [
      "0\n",
      "1\n",
      "2\n",
      "4\n"
     ]
    }
   ],
   "source": [
    "#ejemplo continue (no imprime el 3 ya que antes de llegar salta a la \n",
    "#siguiente iteración del bucle\n",
    "a = 0\n",
    "while a < 5:\n",
    "    if a == 3:\n",
    "        a += 1 \n",
    "        continue\n",
    "    print(a)\n",
    "    a += 1"
   ]
  },
  {
   "cell_type": "markdown",
   "metadata": {},
   "source": [
    "**FOR ... IN**\n",
    "\n",
    "En Python \"for\" se utiliza como\n",
    "una forma genérica de iterar sobre una secuencia. Y como tal intenta\n",
    "facilitar su uso para este fin."
   ]
  },
  {
   "cell_type": "code",
   "execution_count": 9,
   "metadata": {},
   "outputs": [
    {
     "name": "stdout",
     "output_type": "stream",
     "text": [
      "uno\n",
      "dos\n",
      "tres\n"
     ]
    }
   ],
   "source": [
    "secuencia = ['uno', 'dos', 'tres']\n",
    "for elemento in secuencia:\n",
    "     print(elemento)"
   ]
  },
  {
   "cell_type": "markdown",
   "metadata": {},
   "source": [
    "Como hemos dicho los for se utilizan en Python para recorrer secuencias, por lo que vamos a utilizar un tipo secuencia, como es la lista, para\n",
    "nuestro ejemplo.\n",
    "Leamos la cabecera del bucle como si de lenguaje natural se tratara:\n",
    "“para cada elemento en secuencia”. Y esto es exactamente lo que hace\n",
    "el bucle: para cada elemento que tengamos en la secuencia, ejecuta\n",
    "estas líneas de código.\n",
    "Lo que hace la cabecera del bucle es obtener el siguiente elemento de\n",
    "la secuencia y almacenarlo en una variable de nombre elemento. Por esta razón en la primera iteración del bucle elemento valdrá\n",
    "“uno”, en la segunda “dos”, y en la tercera “tres”.\n",
    "Fácil y sencillo.\n",
    "Como en el bucle \"while\" tambíen podemos utilizar las palabras break y continue para el control de la ejecución."
   ]
  },
  {
   "cell_type": "markdown",
   "metadata": {},
   "source": [
    "Una de las funciones más utiles que nos ofrece Python para utilizar al trabajar con bucles es la función range(). Esta función devuelve una secuencia de números indicada por parametro.\n",
    "Veamos un ejemplo:\n"
   ]
  },
  {
   "cell_type": "code",
   "execution_count": 10,
   "metadata": {},
   "outputs": [
    {
     "name": "stdout",
     "output_type": "stream",
     "text": [
      "Iteración número 0\n",
      "Iteración número 1\n",
      "Iteración número 2\n",
      "Iteración número 3\n"
     ]
    }
   ],
   "source": [
    "for i in range(4):\n",
    "    print(\"Iteración número\", i)"
   ]
  },
  {
   "cell_type": "code",
   "execution_count": null,
   "metadata": {},
   "outputs": [],
   "source": []
  }
 ],
 "metadata": {
  "kernelspec": {
   "display_name": "Python 3 (ipykernel)",
   "language": "python",
   "name": "python3"
  },
  "language_info": {
   "codemirror_mode": {
    "name": "ipython",
    "version": 3
   },
   "file_extension": ".py",
   "mimetype": "text/x-python",
   "name": "python",
   "nbconvert_exporter": "python",
   "pygments_lexer": "ipython3",
   "version": "3.9.7"
  }
 },
 "nbformat": 4,
 "nbformat_minor": 2
}

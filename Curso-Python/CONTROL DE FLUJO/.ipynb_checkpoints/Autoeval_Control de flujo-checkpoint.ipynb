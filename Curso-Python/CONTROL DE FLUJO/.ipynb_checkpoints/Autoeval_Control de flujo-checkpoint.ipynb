{
 "cells": [
  {
   "cell_type": "markdown",
   "metadata": {
    "nbgrader": {
     "grade": false,
     "grade_id": "cell-23935fb4489febdf",
     "locked": true,
     "schema_version": 3,
     "solution": false,
     "task": false
    }
   },
   "source": [
    "### AUTOEVALUACIÓN CONTROL DE FLUJO\n"
   ]
  },
  {
   "cell_type": "markdown",
   "metadata": {
    "nbgrader": {
     "grade": false,
     "grade_id": "cell-40cfb354bc559397",
     "locked": true,
     "schema_version": 3,
     "solution": false,
     "task": false
    }
   },
   "source": [
    "**Ejercicio 1**\n",
    "\n",
    "Completa la siguiente función la cual comprueba si una persona es mayor de edad o no. En caso de ser mayor de edad devolverá True y sino False. La funcion NO ha de calcular si la edad introducida es mayor que 0:"
   ]
  },
  {
   "cell_type": "code",
   "execution_count": 1,
   "metadata": {
    "nbgrader": {
     "grade": false,
     "grade_id": "cell-91b62f528ca98b71",
     "locked": false,
     "schema_version": 3,
     "solution": true,
     "task": false
    }
   },
   "outputs": [
    {
     "data": {
      "text/plain": [
       "False"
      ]
     },
     "execution_count": 1,
     "metadata": {},
     "output_type": "execute_result"
    }
   ],
   "source": [
    "# COMPLETA EL EJERCICIO 1 AQUI\n",
    "\n",
    "def es_mayor_edad(edad):\n",
    "    ### BEGIN SOLUTION\n",
    "    if edad < 18:\n",
    "        return False\n",
    "    else:\n",
    "        return True\n",
    "    \n",
    "    ### END SOLUTION"
   ]
  },
  {
   "cell_type": "code",
   "execution_count": 2,
   "metadata": {
    "nbgrader": {
     "grade": true,
     "grade_id": "cell-d607e8394b4add72",
     "locked": true,
     "points": 5,
     "schema_version": 3,
     "solution": false,
     "task": false
    }
   },
   "outputs": [],
   "source": [
    "# NO EDITE ESTA CELDA\n",
    "\n",
    "assert(not es_mayor_edad(0))\n",
    "assert(not es_mayor_edad(-10))\n",
    "assert(not es_mayor_edad(3.2))\n",
    "assert(not es_mayor_edad(17))\n",
    "assert(es_mayor_edad(18))\n",
    "assert(es_mayor_edad(50.8))\n",
    "assert(es_mayor_edad(0o200))\n",
    "assert(not es_mayor_edad(True))\n",
    "assert(not es_mayor_edad(True))"
   ]
  },
  {
   "cell_type": "markdown",
   "metadata": {
    "nbgrader": {
     "grade": false,
     "grade_id": "cell-acb8772bf6419bb4",
     "locked": true,
     "schema_version": 3,
     "solution": false,
     "task": false
    }
   },
   "source": [
    "**Ejercicio 2**\n",
    "\n",
    "Completa la siguiente función la cual define la nota que ha sacado un estudiante según la calificación obtenida.\n",
    "- Si su calificación está entra 0 y 5 (este útimo no incluido) devolverá la cadena 'Suspenso'.\n",
    "- Si su calificación está entra 5 y 6 (este útimo no incluido) devolverá la cadena 'Suficiente'.\n",
    "- Si su calificación está entra 6 y 7 (este útimo no incluido) devolverá la cadena 'Bien'.\n",
    "- Si su calificación está entra 7 y 9 (este útimo no incluido) devolverá la cadena 'Notable'.\n",
    "- Si su calificación está entra 9 y 10 (este útimo incluido) devolverá la cadena 'Sobresaliente'.\n",
    "- Si la calificación es menor que 0 o mayor que 10 devolverá la cadena 'ERROR'."
   ]
  },
  {
   "cell_type": "code",
   "execution_count": 3,
   "metadata": {
    "nbgrader": {
     "grade": false,
     "grade_id": "cell-e390abb46479f273",
     "locked": false,
     "schema_version": 3,
     "solution": true,
     "task": false
    }
   },
   "outputs": [],
   "source": [
    "# COMPLETA EL EJERCICIO 2 AQUI\n",
    "\n",
    "def define_nota(calif):\n",
    "    ### BEGIN SOLUTION\n",
    " \n",
    "    ### END SOLUTION"
   ]
  },
  {
   "cell_type": "code",
   "execution_count": 4,
   "metadata": {
    "nbgrader": {
     "grade": true,
     "grade_id": "cell-f46c4b2811513ef3",
     "locked": true,
     "points": 5,
     "schema_version": 3,
     "solution": false,
     "task": false
    }
   },
   "outputs": [
    {
     "ename": "AssertionError",
     "evalue": "",
     "output_type": "error",
     "traceback": [
      "\u001b[1;31m---------------------------------------------------------------------------\u001b[0m",
      "\u001b[1;31mAssertionError\u001b[0m                            Traceback (most recent call last)",
      "\u001b[1;32m<ipython-input-4-e57daf5ce8cd>\u001b[0m in \u001b[0;36m<module>\u001b[1;34m\u001b[0m\n\u001b[0;32m      1\u001b[0m \u001b[1;31m# CELDA DE TESTS TEMPORAL\u001b[0m\u001b[1;33m\u001b[0m\u001b[1;33m\u001b[0m\u001b[1;33m\u001b[0m\u001b[0m\n\u001b[0;32m      2\u001b[0m \u001b[1;33m\u001b[0m\u001b[0m\n\u001b[1;32m----> 3\u001b[1;33m \u001b[1;32massert\u001b[0m\u001b[1;33m(\u001b[0m\u001b[0mdefine_nota\u001b[0m\u001b[1;33m(\u001b[0m\u001b[1;33m-\u001b[0m\u001b[1;36m1\u001b[0m\u001b[1;33m)\u001b[0m \u001b[1;33m==\u001b[0m \u001b[1;34m'ERROR'\u001b[0m\u001b[1;33m)\u001b[0m\u001b[1;33m\u001b[0m\u001b[1;33m\u001b[0m\u001b[0m\n\u001b[0m\u001b[0;32m      4\u001b[0m \u001b[1;32massert\u001b[0m\u001b[1;33m(\u001b[0m\u001b[0mdefine_nota\u001b[0m\u001b[1;33m(\u001b[0m\u001b[1;33m-\u001b[0m\u001b[1;36m10\u001b[0m\u001b[1;33m)\u001b[0m \u001b[1;33m==\u001b[0m \u001b[1;34m'ERROR'\u001b[0m\u001b[1;33m)\u001b[0m\u001b[1;33m\u001b[0m\u001b[1;33m\u001b[0m\u001b[0m\n\u001b[0;32m      5\u001b[0m \u001b[1;32massert\u001b[0m\u001b[1;33m(\u001b[0m\u001b[0mdefine_nota\u001b[0m\u001b[1;33m(\u001b[0m\u001b[1;36m0\u001b[0m\u001b[1;33m)\u001b[0m \u001b[1;33m==\u001b[0m \u001b[1;34m'Suspenso'\u001b[0m\u001b[1;33m)\u001b[0m\u001b[1;33m\u001b[0m\u001b[1;33m\u001b[0m\u001b[0m\n",
      "\u001b[1;31mAssertionError\u001b[0m: "
     ]
    }
   ],
   "source": [
    "# CELDA DE TESTS TEMPORAL\n",
    "\n",
    "assert(define_nota(-1) == 'ERROR')\n",
    "assert(define_nota(-10) == 'ERROR')\n",
    "assert(define_nota(0) == 'Suspenso')\n",
    "assert(define_nota(4.9) == 'Suspenso')\n",
    "assert(define_nota(5) == 'Suficiente')\n",
    "assert(define_nota(5.9) == 'Suficiente')\n",
    "assert(define_nota(6) == 'Bien')\n",
    "assert(define_nota(6.9) == 'Bien')\n",
    "assert(define_nota(7) == 'Notable')\n",
    "assert(define_nota(8.9) == 'Notable')\n",
    "assert(define_nota(9) == 'Sobresaliente')\n",
    "assert(define_nota(10) == 'Sobresaliente')\n",
    "assert(define_nota(10.1) == 'ERROR')\n",
    "assert(define_nota(100) == 'ERROR')"
   ]
  },
  {
   "cell_type": "markdown",
   "metadata": {},
   "source": [
    "**Ejercicio 3**\n",
    "\n",
    "Completa la siguiente función la cual recibe un número y devuelve una lista con todos los números impares desde el 1 hasta el enviado ambos incluidos. Si el número es menor o igual que cero y mayor que 20 devolverá una lista vacía []. Usa un bucle while para resolverlo y recuerda los métodos dados en el tema de listas para ayudarte a resolverlo:"
   ]
  },
  {
   "cell_type": "code",
   "execution_count": 5,
   "metadata": {},
   "outputs": [],
   "source": [
    "# COMPLETA EL EJERCICIO 3 AQUI\n",
    "\n",
    "def impares(num):\n",
    "    # elimina None y completa la función\n",
    "    return None"
   ]
  },
  {
   "cell_type": "code",
   "execution_count": 6,
   "metadata": {},
   "outputs": [
    {
     "ename": "AssertionError",
     "evalue": "",
     "output_type": "error",
     "traceback": [
      "\u001b[1;31m---------------------------------------------------------------------------\u001b[0m",
      "\u001b[1;31mAssertionError\u001b[0m                            Traceback (most recent call last)",
      "\u001b[1;32m<ipython-input-6-fad2583889ca>\u001b[0m in \u001b[0;36m<module>\u001b[1;34m\u001b[0m\n\u001b[0;32m      1\u001b[0m \u001b[1;31m# CELDA DE TESTS TEMPORAL\u001b[0m\u001b[1;33m\u001b[0m\u001b[1;33m\u001b[0m\u001b[1;33m\u001b[0m\u001b[0m\n\u001b[0;32m      2\u001b[0m \u001b[1;33m\u001b[0m\u001b[0m\n\u001b[1;32m----> 3\u001b[1;33m \u001b[1;32massert\u001b[0m\u001b[1;33m(\u001b[0m\u001b[0mimpares\u001b[0m\u001b[1;33m(\u001b[0m\u001b[1;36m0\u001b[0m\u001b[1;33m)\u001b[0m \u001b[1;33m==\u001b[0m \u001b[1;33m[\u001b[0m\u001b[1;33m]\u001b[0m\u001b[1;33m)\u001b[0m\u001b[1;33m\u001b[0m\u001b[1;33m\u001b[0m\u001b[0m\n\u001b[0m\u001b[0;32m      4\u001b[0m \u001b[1;32massert\u001b[0m\u001b[1;33m(\u001b[0m\u001b[0mimpares\u001b[0m\u001b[1;33m(\u001b[0m\u001b[1;33m-\u001b[0m\u001b[1;36m1\u001b[0m\u001b[1;33m)\u001b[0m \u001b[1;33m==\u001b[0m \u001b[1;33m[\u001b[0m\u001b[1;33m]\u001b[0m\u001b[1;33m)\u001b[0m\u001b[1;33m\u001b[0m\u001b[1;33m\u001b[0m\u001b[0m\n\u001b[0;32m      5\u001b[0m \u001b[1;32massert\u001b[0m\u001b[1;33m(\u001b[0m\u001b[0mimpares\u001b[0m\u001b[1;33m(\u001b[0m\u001b[1;33m-\u001b[0m\u001b[1;36m5\u001b[0m\u001b[1;33m)\u001b[0m \u001b[1;33m==\u001b[0m \u001b[1;33m[\u001b[0m\u001b[1;33m]\u001b[0m\u001b[1;33m)\u001b[0m\u001b[1;33m\u001b[0m\u001b[1;33m\u001b[0m\u001b[0m\n",
      "\u001b[1;31mAssertionError\u001b[0m: "
     ]
    }
   ],
   "source": [
    "# CELDA DE TESTS TEMPORAL\n",
    "\n",
    "assert(impares(0) == [])\n",
    "assert(impares(-1) == [])\n",
    "assert(impares(-5) == [])\n",
    "assert(impares(21) == [])\n",
    "assert(impares(1) == [1])\n",
    "assert(impares(2) == [1])\n",
    "assert(impares(5) == [1,3,5])\n",
    "assert(impares(20) == [1,3,5,7,9,11,13,15,17,19])"
   ]
  },
  {
   "cell_type": "markdown",
   "metadata": {},
   "source": [
    "**Ejercicio 4**\n",
    "\n",
    "Completa la siguiente función la cual recibe una lista de números enteros y calcula la suma (sumatorio) de todos ellos en valor absoluto. Si la lista está vacia devolverá 0. Usa un bucle for para resolverlo:"
   ]
  },
  {
   "cell_type": "code",
   "execution_count": 7,
   "metadata": {},
   "outputs": [],
   "source": [
    "# COMPLETA EL EJERCICIO 4 AQUI\n",
    "\n",
    "def sumatorio_absoluto(lista):\n",
    "    # elimina None y completa la función\n",
    "    sumatorio = 0\n",
    "    for i in lista:\n",
    "        if i < 0:\n",
    "            sumatorio = sumatorio - i\n",
    "        else:\n",
    "            sumatorio = sumatorio + i\n",
    "    \n",
    "    return sumatorio"
   ]
  },
  {
   "cell_type": "code",
   "execution_count": null,
   "metadata": {},
   "outputs": [],
   "source": [
    "# CELDA DE TESTS TEMPORAL\n",
    "\n",
    "assert(sumatorio_absoluto([]) == 0)\n",
    "assert(sumatorio_absoluto([1]) == 1)\n",
    "assert(sumatorio_absoluto([-1]) == 1)\n",
    "assert(sumatorio_absoluto([1,4,6]) == 11)\n",
    "assert(sumatorio_absoluto([-1,4,-6]) == 11)"
   ]
  }
 ],
 "metadata": {
  "celltoolbar": "Create Assignment",
  "kernelspec": {
   "display_name": "Python 3",
   "language": "python",
   "name": "python3"
  },
  "language_info": {
   "codemirror_mode": {
    "name": "ipython",
    "version": 3
   },
   "file_extension": ".py",
   "mimetype": "text/x-python",
   "name": "python",
   "nbconvert_exporter": "python",
   "pygments_lexer": "ipython3",
   "version": "3.7.4"
  }
 },
 "nbformat": 4,
 "nbformat_minor": 2
}

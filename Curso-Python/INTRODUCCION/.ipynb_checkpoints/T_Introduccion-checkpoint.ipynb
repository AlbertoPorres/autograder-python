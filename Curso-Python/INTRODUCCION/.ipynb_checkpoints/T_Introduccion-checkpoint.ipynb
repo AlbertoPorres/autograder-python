{
 "cells": [
  {
   "cell_type": "markdown",
   "metadata": {},
   "source": [
    "## INTRODUCCIÓN A PYTHON\n",
    "En esta sección de introducción veremos la base de todo lenguaje de programación: tipos básicos, asignación de variables y operadores."
   ]
  },
  {
   "cell_type": "markdown",
   "metadata": {},
   "source": [
    "En Python los tipos básicos se dividen en:\n",
    "- Números, como pueden ser 3 (entero), 15.57 (de coma flotante) o 7 + 5j (complejos)\n",
    "- Cadenas de texto, como “Hola Mundo”\n",
    "- Valores booleanos: True (cierto) y False (falso).\n",
    "\n",
    "Vamos a crear algunas variables de ejemplo. Como vereis a continuación la asignación de valores en Python se hace mediante el simbolo \" = \" sin necesitar de declarar previamente el tipo de la varibale.\n",
    "Los comentarios en línea se crean mediante el simbolo \" # \"."
   ]
  },
  {
   "cell_type": "code",
   "execution_count": 1,
   "metadata": {},
   "outputs": [],
   "source": [
    "# esto es una cadena\n",
    "c = \"Hola Mundo\"\n",
    "# y esto es una varible numérica entera\n",
    "e = 23"
   ]
  },
  {
   "cell_type": "markdown",
   "metadata": {},
   "source": [
    "### 1.1 Números\n",
    "**Enteros**\n",
    "Los números enteros son aquellos números positivos o negativos que no tienen decimales.\n",
    "En Python se pueden representar mediante el tipo int (entero).\n",
    "Al asignar un número a una variable esta pasará a tener tipo int de forma automática.\n",
    "También es posible asignar valores en binario, hexadecimal y octal. El prefijo 0b indica que lo que viene a continuación será interpretado como un número binario. Para el caso hexadecimal es con 0x y octal con 0o.\n",
    "\n",
    "**Reales**\n",
    "Los números reales son los que tienen decimales. En Python se expresan mediante el tipo float.\n",
    "Para representar un número real en Python se escribe primero la parte\n",
    "entera, seguido de un punto y por último la parte decimal.\n",
    "También se puede utilizar notación científica, y añadir una e (de exponente) para indicar un exponente en base 10\n",
    "\n",
    "**Complejos**\n",
    "Los números complejos son aquellos que tienen parte imaginaria.\n",
    "Se representan primero escribiendo la parte real y posteriormente la imaginaria."
   ]
  },
  {
   "cell_type": "code",
   "execution_count": 2,
   "metadata": {},
   "outputs": [],
   "source": [
    "# entero\n",
    "a = 23\n",
    "\n",
    "# hexadecimal\n",
    "b = 0x23\n",
    "\n",
    "# octal\n",
    "c = 0o23\n",
    "\n",
    "# binario\n",
    "d = 0b101"
   ]
  },
  {
   "cell_type": "markdown",
   "metadata": {},
   "source": [
    "### 1.2 Operadores\n",
    "En estas tablas veremos los diferentes operadores que tiene Python para jugar con datos y variables:\n",
    "\n",
    "**Operadores aritméticos**\n",
    "\n",
    "| OPERADOR | DESCRIPCION | EJEMPLO |\n",
    "| :------- | :---------: |-------: |\n",
    "| +        | Suma        | r = 3 + 2     # r es 5   |\n",
    "| -        | Resta       | r = 4 - 7     # r es -3  |\n",
    "| -        | Negación    | r = -7        # r es -7  |\n",
    "| *        | Multiplicación  |r = 2 * 6   # r es 12 |\n",
    "| **       | Exponente       | r = 2 ** 6   # r es 64   |\n",
    "| /        | División        | r = 3.5 / 2   # r es 1.75  |\n",
    "| //       | División entera | r = 3.5 // 2   # r es 1.0   |\n",
    "| %       | Módulo | r = 7 % 2 # r es 1  |\n",
    "\n",
    "\n",
    "**Operadores a nivel de bit**\n",
    "\n",
    "| OPERADOR | DESCRIPCION | EJEMPLO |\n",
    "| :------- | :---------: |-------: |\n",
    "| &       | and        | r = 3 & 2 # r es 2  |\n",
    "| \\|      | or       | r = 3 \\| 2 # r es 3 |\n",
    "| ^        | xor    | r = 3 ^ 2 # r es 1  |\n",
    "| ~         | not  |r = ~3 # r es -4 |\n",
    "| <<       | Desplazamiento izq.     |r = 3 << 1 # r es 6   |\n",
    "| >>        | Desplazamiento der.      | r = 3 >> 1 # r es 1 |\n",
    "|<=      | ¿es a menor o igual que b?     | r = 5 <= 5 # r es True|\n",
    "| >=      |¿es a mayor o igual que b?    | r = 5 >= 3 # r es True |\n"
   ]
  },
  {
   "cell_type": "markdown",
   "metadata": {},
   "source": [
    "### 1.3 Cadenas\n",
    "Las cadenas no son más que texto encerrado entre comillas simples o dobles\n",
    "(‘cadena’). Dentro de las comillas se pueden\n",
    "añadir caracteres especiales escapándolos con \\\\, como \\n, el carácter de\n",
    "nueva línea, o \\t, el de tabulación."
   ]
  },
  {
   "cell_type": "code",
   "execution_count": 3,
   "metadata": {},
   "outputs": [
    {
     "name": "stdout",
     "output_type": "stream",
     "text": [
      "unodos\n",
      "unounouno\n"
     ]
    }
   ],
   "source": [
    "a = 'uno'\n",
    "b = \"dos\"\n",
    "c = a + b # c es “unodos”\n",
    "print(c)\n",
    "c = a * 3 # c es “unounouno”\n",
    "print(c)"
   ]
  },
  {
   "cell_type": "markdown",
   "metadata": {},
   "source": [
    "### 1.4 Booleanos\n",
    "Una variable de tipo booleano sólo puede tener dos valores: True (cierto) y False (falso). Estos\n",
    "valores son especialmente importantes para las expresiones condicionales y los bucles, como veremos más adelante.\n",
    "Estos son los distintos tipos de operadores con los que podemos trabajar con valores booleanos, los llamados operadores lógicos o condicionales:\n",
    "\n",
    "| OPERADOR | DESCRIPCION | EJEMPLO |\n",
    "| :------- | :---------: |-------: |\n",
    "| and       | ¿se cumple a y b?        | r = True and False # r es False  |\n",
    "| or      | ¿se cumple a o b?       | r = True or False # r es True |\n",
    "| not        | No a     | r = not True # r es False  |\n",
    "\n",
    "Los valores booleanos son además el resultado de expresiones que\n",
    "utilizan operadores relacionales (comparaciones entre valores):\n",
    "\n",
    "| OPERADOR | DESCRIPCION | EJEMPLO |\n",
    "| :------- | :---------: |-------: |\n",
    "|   ==      |   ¿son iguales a y b?      | r = 5 == 3 # r es False  |\n",
    "|    !=    |    ¿son distintos a y b?    |  r = 5 != 3 # r es True|\n",
    "|    <     |   ¿es a menor que b?    | r = 5 < 3 # r es False |\n",
    "|    >     |   ¿es a mayor que b?    | r = 5 > 3 # r es True |\n",
    "|    <=      |   ¿es a menor o igual que b?   | r = 5 <= 5 # r es True |\n",
    "|    >=     |   ¿es a mayor o igual que b?   | r = 5 >= 3 # r es True |\n",
    " "
   ]
  },
  {
   "cell_type": "code",
   "execution_count": 4,
   "metadata": {},
   "outputs": [],
   "source": [
    "bool_1 = False \n",
    "bool_2 = True "
   ]
  },
  {
   "cell_type": "code",
   "execution_count": null,
   "metadata": {},
   "outputs": [],
   "source": []
  }
 ],
 "metadata": {
  "kernelspec": {
   "display_name": "Python 3 (ipykernel)",
   "language": "python",
   "name": "python3"
  },
  "language_info": {
   "codemirror_mode": {
    "name": "ipython",
    "version": 3
   },
   "file_extension": ".py",
   "mimetype": "text/x-python",
   "name": "python",
   "nbconvert_exporter": "python",
   "pygments_lexer": "ipython3",
   "version": "3.9.7"
  }
 },
 "nbformat": 4,
 "nbformat_minor": 2
}
